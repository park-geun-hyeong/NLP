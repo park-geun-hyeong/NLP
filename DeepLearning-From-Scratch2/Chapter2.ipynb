{
 "cells": [
  {
   "cell_type": "markdown",
   "metadata": {},
   "source": [
    "## 단어의 읨\n",
    "- 시소러스를 활용한 기법\n",
    "- 통계 기반 기법\n",
    "- word2vec"
   ]
  },
  {
   "cell_type": "markdown",
   "metadata": {},
   "source": [
    "## 시소러스\n",
    "- WordNet"
   ]
  },
  {
   "cell_type": "code",
   "execution_count": 127,
   "metadata": {},
   "outputs": [],
   "source": [
    "import numpy as np\n",
    "import matplotlib.pyplot as plt"
   ]
  },
  {
   "cell_type": "code",
   "execution_count": 1,
   "metadata": {},
   "outputs": [],
   "source": [
    "text = 'You say goodbye and I say hello.'"
   ]
  },
  {
   "cell_type": "code",
   "execution_count": 2,
   "metadata": {},
   "outputs": [
    {
     "data": {
      "text/plain": [
       "['you', 'say', 'goodbye', 'and', 'i', 'say', 'hello', '.']"
      ]
     },
     "execution_count": 2,
     "metadata": {},
     "output_type": "execute_result"
    }
   ],
   "source": [
    "text = text.lower()\n",
    "text = text.replace('.', ' .')\n",
    "word = text.split()\n",
    "word"
   ]
  },
  {
   "cell_type": "code",
   "execution_count": 3,
   "metadata": {},
   "outputs": [],
   "source": [
    "word2id={}\n",
    "id2word={}\n",
    "\n",
    "for w in word:\n",
    "    if w not in word2id:\n",
    "        new_id = len(word2id)\n",
    "        word2id[w]=new_id\n",
    "        id2word[new_id]=w"
   ]
  },
  {
   "cell_type": "code",
   "execution_count": 4,
   "metadata": {},
   "outputs": [
    {
     "data": {
      "text/plain": [
       "{'you': 0, 'say': 1, 'goodbye': 2, 'and': 3, 'i': 4, 'hello': 5, '.': 6}"
      ]
     },
     "execution_count": 4,
     "metadata": {},
     "output_type": "execute_result"
    }
   ],
   "source": [
    "word2id"
   ]
  },
  {
   "cell_type": "code",
   "execution_count": 5,
   "metadata": {},
   "outputs": [
    {
     "data": {
      "text/plain": [
       "{0: 'you', 1: 'say', 2: 'goodbye', 3: 'and', 4: 'i', 5: 'hello', 6: '.'}"
      ]
     },
     "execution_count": 5,
     "metadata": {},
     "output_type": "execute_result"
    }
   ],
   "source": [
    "id2word"
   ]
  },
  {
   "cell_type": "code",
   "execution_count": 8,
   "metadata": {},
   "outputs": [
    {
     "data": {
      "text/plain": [
       "array([0, 1, 2, 3, 4, 1, 5, 6])"
      ]
     },
     "execution_count": 8,
     "metadata": {},
     "output_type": "execute_result"
    }
   ],
   "source": [
    "corpus = np.array([word2id[i] for i in word])\n",
    "corpus"
   ]
  },
  {
   "cell_type": "code",
   "execution_count": 14,
   "metadata": {},
   "outputs": [],
   "source": [
    "def preprocess(text):\n",
    "    text = text.lower()\n",
    "    text = text.replace(\".\", \" .\")\n",
    "    word = text.split() \n",
    "    \n",
    "    word2id={}\n",
    "    id2word={}\n",
    "    \n",
    "    for w in word:\n",
    "        if w not in word2id:\n",
    "            new_id = len(word2id)\n",
    "            word2id[w] = new_id\n",
    "            id2word[new_id] = w \n",
    "            \n",
    "    corpus = [word2id[i] for i in word]\n",
    "    \n",
    "    return corpus, word2id, id2word"
   ]
  },
  {
   "cell_type": "code",
   "execution_count": 15,
   "metadata": {},
   "outputs": [],
   "source": [
    "corpus, word2id, id2word = preprocess(text)   "
   ]
  },
  {
   "cell_type": "code",
   "execution_count": 19,
   "metadata": {},
   "outputs": [
    {
     "data": {
      "text/plain": [
       "[0, 1, 2, 3, 4, 1, 5, 6]"
      ]
     },
     "execution_count": 19,
     "metadata": {},
     "output_type": "execute_result"
    }
   ],
   "source": [
    "corpus"
   ]
  },
  {
   "cell_type": "markdown",
   "metadata": {},
   "source": [
    "## Statistical based\n",
    "- 각 단어를 표현할때 window에 해당하는 주변 단어들의 유무로 표현\n",
    "- 모든 단어 각각의 맥락에 해당하는 단어의 빈도를 세어 표로정리 == > 동시발생 행렬"
   ]
  },
  {
   "cell_type": "code",
   "execution_count": 27,
   "metadata": {},
   "outputs": [],
   "source": [
    "def create_co_matrix(corpus, vocab_size, window_size=1):\n",
    "    corpus_size = len(corpus)\n",
    "    co_matrix = np.zeros((vocab_size, vocab_size) ,dtype=np.int32)\n",
    "    \n",
    "    for idx, word_id in enumerate(corpus):\n",
    "        for i in range(1, window_size+1):\n",
    "            left_idx = idx - i\n",
    "            right_idx = idx + i\n",
    "            \n",
    "            if left_idx >= 0 :\n",
    "                left_word_id =  corpus[left_idx]\n",
    "                co_matrix[word_id, left_word_id] += 1\n",
    "                \n",
    "            if right_idx < corpus_size:\n",
    "                right_word_id = corpus[right_idx]\n",
    "                co_matrix[word_id, right_word_id]+=1\n",
    "                \n",
    "    return co_matrix\n",
    "         "
   ]
  },
  {
   "cell_type": "code",
   "execution_count": 36,
   "metadata": {},
   "outputs": [
    {
     "data": {
      "text/plain": [
       "array([[0, 1, 0, 0, 0, 0, 0],\n",
       "       [1, 0, 1, 0, 1, 1, 0],\n",
       "       [0, 1, 0, 1, 0, 0, 0],\n",
       "       [0, 0, 1, 0, 1, 0, 0],\n",
       "       [0, 1, 0, 1, 0, 0, 0],\n",
       "       [0, 1, 0, 0, 0, 0, 1],\n",
       "       [0, 0, 0, 0, 0, 1, 0]])"
      ]
     },
     "execution_count": 36,
     "metadata": {},
     "output_type": "execute_result"
    }
   ],
   "source": [
    "c  =create_co_matrix(corpus, len(word2id))\n",
    "c"
   ]
  },
  {
   "cell_type": "markdown",
   "metadata": {},
   "source": [
    "## 두 벡터간 유사도 평가(코사인 유사도)"
   ]
  },
  {
   "cell_type": "code",
   "execution_count": 35,
   "metadata": {},
   "outputs": [],
   "source": [
    "def cos_sim(x,y, eps = 1e-8):\n",
    "    nx = x / (np.sqrt(np.sum(x**2)+eps))\n",
    "    ny = y / (np.sqrt(np.sum(y**2)+eps))\n",
    "              \n",
    "    return np.dot(nx, ny)"
   ]
  },
  {
   "cell_type": "code",
   "execution_count": 37,
   "metadata": {},
   "outputs": [
    {
     "data": {
      "text/plain": [
       "0.7071067758832467"
      ]
     },
     "execution_count": 37,
     "metadata": {},
     "output_type": "execute_result"
    }
   ],
   "source": [
    "c0 = c[word2id['i']]\n",
    "c1 = c[word2id['you']]\n",
    "cos_sim(c0,c1)"
   ]
  },
  {
   "cell_type": "code",
   "execution_count": 125,
   "metadata": {},
   "outputs": [],
   "source": [
    "def most_similar(query, word2id, id2word, word_matrix, top=3): ## query ==> 유사도를 평가하고자 하는 단어\n",
    "    try:\n",
    "        if query not in word2id.keys():\n",
    "            raise Exception\n",
    "\n",
    "        query_id = word2id[query]\n",
    "        query_vec = word_matrix[query_id] ## word_matrix는 단어들을 벡터로 표현한 matrix\n",
    "\n",
    "        vocab_size = len(id2word)\n",
    "        similarity = np.zeros(vocab_size)\n",
    "        for i in range(vocab_size):\n",
    "            similarity[i] = round(cos_sim(word_matrix[i], query_vec), 4)\n",
    "        \n",
    "        print(f\"=== {query} ===\")\n",
    "        for idx,i in enumerate((-1 * similarity).argsort()): ## 내림차순 이후 index 반환\n",
    "            if id2word[i] == query:\n",
    "                continue\n",
    "            print(f\"{id2word[i]} : {similarity[i]}\")\n",
    "\n",
    "            if idx == top:\n",
    "                print()\n",
    "                break\n",
    "                \n",
    "    except Exception as e:\n",
    "        print(\"no word in the corpus\")\n",
    "    \n",
    "    \n",
    "    "
   ]
  },
  {
   "cell_type": "code",
   "execution_count": 131,
   "metadata": {
    "scrolled": true
   },
   "outputs": [
    {
     "name": "stdout",
     "output_type": "stream",
     "text": [
      "=== you ===\n",
      "we : 0.9117\n",
      "they : 0.8687\n",
      "i : 0.8574\n",
      "\n"
     ]
    }
   ],
   "source": [
    "most_similar('you', word2id, id2word, c)"
   ]
  },
  {
   "cell_type": "markdown",
   "metadata": {},
   "source": [
    "## PMI(점별 상호정보량)\n",
    "- 위에서 구한 동시발생 행렬에선 단지 두 단어 사이의 빈도수를 보며 관련성을 평가지만 이것이 꼭 정확하진 않다.\n",
    "- 그러므로 동시발생 행렬을 PPMI행렬로 변환하여 좀더 두 단어 사이의 높은 관련성을 포함하는 sparse한 matrix로 변환하여 보자"
   ]
  },
  {
   "cell_type": "code",
   "execution_count": 89,
   "metadata": {},
   "outputs": [],
   "source": [
    "def ppmi(c, verbose=False, eps=1e-8): ##-inf로 가는것을 방지하기 위해 분모에 eps더해주기\n",
    "    M = np.zeros_like(c, dtype=np.float32)\n",
    "    n = np.sum(c)\n",
    "    s = np.sum(c, axis=0)\n",
    "    total = c.shape[0] * c.shape[1]\n",
    "    cnt = 0\n",
    "    \n",
    "    for i in range(c.shape[0]):\n",
    "        for j in range(c.shape[1]):\n",
    "            pmi = np.log2(c[i,j] * n / (s[j] * s[i]) + eps) ## 두 단어가 같이 등장할 확률 / 각 단어가 등장할 확률의 곱\n",
    "            M[i,j] = max(0, pmi)\n",
    "            \n",
    "            if verbose:\n",
    "                cnt += 1\n",
    "                if cnt % (total//100) == 0:\n",
    "                    print(f\"{100*cnt/total}:.4f % 완료\")\n",
    "                    \n",
    "    return M"
   ]
  },
  {
   "cell_type": "code",
   "execution_count": 91,
   "metadata": {},
   "outputs": [
    {
     "data": {
      "text/plain": [
       "array([[0.       , 1.8073549, 0.       , 0.       , 0.       , 0.       ,\n",
       "        0.       ],\n",
       "       [1.8073549, 0.       , 0.8073549, 0.       , 0.8073549, 0.8073549,\n",
       "        0.       ],\n",
       "       [0.       , 0.8073549, 0.       , 1.8073549, 0.       , 0.       ,\n",
       "        0.       ],\n",
       "       [0.       , 0.       , 1.8073549, 0.       , 1.8073549, 0.       ,\n",
       "        0.       ],\n",
       "       [0.       , 0.8073549, 0.       , 1.8073549, 0.       , 0.       ,\n",
       "        0.       ],\n",
       "       [0.       , 0.8073549, 0.       , 0.       , 0.       , 0.       ,\n",
       "        2.807355 ],\n",
       "       [0.       , 0.       , 0.       , 0.       , 0.       , 2.807355 ,\n",
       "        0.       ]], dtype=float32)"
      ]
     },
     "execution_count": 91,
     "metadata": {},
     "output_type": "execute_result"
    }
   ],
   "source": [
    "w=ppmi(c)\n",
    "w"
   ]
  },
  {
   "cell_type": "markdown",
   "metadata": {},
   "source": [
    "##  Dimensionality reduction\n",
    "- SVD"
   ]
  },
  {
   "cell_type": "code",
   "execution_count": 92,
   "metadata": {},
   "outputs": [],
   "source": [
    "u,s,v = np.linalg.svd(w)"
   ]
  },
  {
   "cell_type": "code",
   "execution_count": 96,
   "metadata": {
    "scrolled": true
   },
   "outputs": [
    {
     "data": {
      "text/plain": [
       "((7, 7), (7, 7), (7, 7), (7,), (7, 7))"
      ]
     },
     "execution_count": 96,
     "metadata": {},
     "output_type": "execute_result"
    }
   ],
   "source": [
    "c.shape, w.shape, u.shape, s.shape, v.shape"
   ]
  },
  {
   "cell_type": "code",
   "execution_count": 102,
   "metadata": {},
   "outputs": [
    {
     "data": {
      "image/png": "[encoded data removed]",
      "text/plain": [
       "<Figure size 432x288 with 1 Axes>"
      ]
     },
     "metadata": {
      "needs_background": "light"
     },
     "output_type": "display_data"
    }
   ],
   "source": [
    "for word, word_id in word2id.items():\n",
    "    plt.annotate(word, (u[word_id, 0], u[word_id,1]))\n",
    "    \n",
    "plt.scatter(u[:,0], u[:,1], alpha=0.5)\n",
    "plt.show()"
   ]
  },
  {
   "cell_type": "code",
   "execution_count": 103,
   "metadata": {},
   "outputs": [],
   "source": [
    "import sys\n",
    "import ptb"
   ]
  },
  {
   "cell_type": "code",
   "execution_count": 104,
   "metadata": {},
   "outputs": [
    {
     "name": "stdout",
     "output_type": "stream",
     "text": [
      "Downloading ptb.train.txt ... \n",
      "Done\n"
     ]
    }
   ],
   "source": [
    "corpus, word2id, id2word = ptb.load_data('train')"
   ]
  },
  {
   "cell_type": "code",
   "execution_count": 132,
   "metadata": {},
   "outputs": [
    {
     "data": {
      "text/plain": [
       "(929589, 10000)"
      ]
     },
     "execution_count": 132,
     "metadata": {},
     "output_type": "execute_result"
    }
   ],
   "source": [
    "len(corpus), len(word2id) ## corpus는 총 1만개의 word로 이루어져 있다."
   ]
  },
  {
   "cell_type": "code",
   "execution_count": 109,
   "metadata": {
    "collapsed": true
   },
   "outputs": [
    {
     "name": "stderr",
     "output_type": "stream",
     "text": [
      "<ipython-input-89-3f252f5d50d7>:10: RuntimeWarning: overflow encountered in long_scalars\n",
      "  pmi = np.log2(c[i,j] * n / (s[j] * s[i]) + eps) ## 두 단어가 같이 등장할 확률 / 각 단어가 등장할 확률의 곱\n",
      "<ipython-input-89-3f252f5d50d7>:10: RuntimeWarning: invalid value encountered in log2\n",
      "  pmi = np.log2(c[i,j] * n / (s[j] * s[i]) + eps) ## 두 단어가 같이 등장할 확률 / 각 단어가 등장할 확률의 곱\n"
     ]
    },
    {
     "name": "stdout",
     "output_type": "stream",
     "text": [
      "1.0:.4f % 완료\n",
      "2.0:.4f % 완료\n",
      "3.0:.4f % 완료\n",
      "4.0:.4f % 완료\n",
      "5.0:.4f % 완료\n",
      "6.0:.4f % 완료\n",
      "7.0:.4f % 완료\n",
      "8.0:.4f % 완료\n",
      "9.0:.4f % 완료\n",
      "10.0:.4f % 완료\n",
      "11.0:.4f % 완료\n",
      "12.0:.4f % 완료\n",
      "13.0:.4f % 완료\n",
      "14.0:.4f % 완료\n",
      "15.0:.4f % 완료\n",
      "16.0:.4f % 완료\n",
      "17.0:.4f % 완료\n",
      "18.0:.4f % 완료\n",
      "19.0:.4f % 완료\n",
      "20.0:.4f % 완료\n",
      "21.0:.4f % 완료\n",
      "22.0:.4f % 완료\n",
      "23.0:.4f % 완료\n",
      "24.0:.4f % 완료\n",
      "25.0:.4f % 완료\n",
      "26.0:.4f % 완료\n",
      "27.0:.4f % 완료\n",
      "28.0:.4f % 완료\n",
      "29.0:.4f % 완료\n",
      "30.0:.4f % 완료\n",
      "31.0:.4f % 완료\n",
      "32.0:.4f % 완료\n",
      "33.0:.4f % 완료\n",
      "34.0:.4f % 완료\n",
      "35.0:.4f % 완료\n",
      "36.0:.4f % 완료\n",
      "37.0:.4f % 완료\n",
      "38.0:.4f % 완료\n",
      "39.0:.4f % 완료\n",
      "40.0:.4f % 완료\n",
      "41.0:.4f % 완료\n",
      "42.0:.4f % 완료\n",
      "43.0:.4f % 완료\n",
      "44.0:.4f % 완료\n",
      "45.0:.4f % 완료\n",
      "46.0:.4f % 완료\n",
      "47.0:.4f % 완료\n",
      "48.0:.4f % 완료\n",
      "49.0:.4f % 완료\n",
      "50.0:.4f % 완료\n",
      "51.0:.4f % 완료\n",
      "52.0:.4f % 완료\n",
      "53.0:.4f % 완료\n",
      "54.0:.4f % 완료\n",
      "55.0:.4f % 완료\n",
      "56.0:.4f % 완료\n",
      "57.0:.4f % 완료\n",
      "58.0:.4f % 완료\n",
      "59.0:.4f % 완료\n",
      "60.0:.4f % 완료\n",
      "61.0:.4f % 완료\n",
      "62.0:.4f % 완료\n",
      "63.0:.4f % 완료\n",
      "64.0:.4f % 완료\n",
      "65.0:.4f % 완료\n",
      "66.0:.4f % 완료\n",
      "67.0:.4f % 완료\n",
      "68.0:.4f % 완료\n",
      "69.0:.4f % 완료\n",
      "70.0:.4f % 완료\n",
      "71.0:.4f % 완료\n",
      "72.0:.4f % 완료\n",
      "73.0:.4f % 완료\n",
      "74.0:.4f % 완료\n",
      "75.0:.4f % 완료\n",
      "76.0:.4f % 완료\n",
      "77.0:.4f % 완료\n",
      "78.0:.4f % 완료\n",
      "79.0:.4f % 완료\n",
      "80.0:.4f % 완료\n",
      "81.0:.4f % 완료\n",
      "82.0:.4f % 완료\n",
      "83.0:.4f % 완료\n",
      "84.0:.4f % 완료\n",
      "85.0:.4f % 완료\n",
      "86.0:.4f % 완료\n",
      "87.0:.4f % 완료\n",
      "88.0:.4f % 완료\n",
      "89.0:.4f % 완료\n",
      "90.0:.4f % 완료\n",
      "91.0:.4f % 완료\n",
      "92.0:.4f % 완료\n",
      "93.0:.4f % 완료\n",
      "94.0:.4f % 완료\n",
      "95.0:.4f % 완료\n",
      "96.0:.4f % 완료\n",
      "97.0:.4f % 완료\n",
      "98.0:.4f % 완료\n",
      "99.0:.4f % 완료\n",
      "100.0:.4f % 완료\n"
     ]
    }
   ],
   "source": [
    "window_size=2\n",
    "wordvec_size=100\n",
    "c = create_co_matrix(corpus, len(word2id), window_size)\n",
    "w = ppmi(c, verbose=True)"
   ]
  },
  {
   "cell_type": "code",
   "execution_count": 126,
   "metadata": {},
   "outputs": [
    {
     "name": "stdout",
     "output_type": "stream",
     "text": [
      "=== you ===\n",
      "we : 0.6524999737739563\n",
      "i : 0.6467999815940857\n",
      "do : 0.5837000012397766\n",
      "anybody : 0.525600016117096\n",
      "else : 0.4586000144481659\n",
      "\n",
      "=== i ===\n",
      "we : 0.7842000126838684\n",
      "'m : 0.7059000134468079\n",
      "you : 0.6467999815940857\n",
      "am : 0.5684999823570251\n",
      "'ve : 0.4708000123500824\n",
      "\n",
      "=== car ===\n",
      "luxury : 0.6567000150680542\n",
      "auto : 0.637499988079071\n",
      "domestic : 0.5723999738693237\n",
      "vehicle : 0.5026999711990356\n",
      "truck : 0.49810001254081726\n",
      "\n",
      "=== toyota ===\n",
      "motor : 0.7343999743461609\n",
      "motors : 0.6696000099182129\n",
      "nissan : 0.6234999895095825\n",
      "lexus : 0.5983999967575073\n",
      "hertz : 0.5347999930381775\n",
      "\n"
     ]
    }
   ],
   "source": [
    "try:\n",
    "    from sklearn.utils import extmath\n",
    "    u,s,v = extmath.randomized_svd(w, n_components=wordvec_size, n_iter=5, random_state=None)\n",
    "except ImportError:\n",
    "    print(\"No Module Ranomized_svd\")\n",
    "    \n",
    "word_vecs = u[:, :wordvec_size]\n",
    "\n",
    "querys=['you', 'i', 'car', 'toyota']\n",
    "\n",
    "for q in querys:\n",
    "    most_similar(q, word2id, id2word, word_vecs, top=5)"
   ]
  }
 ],
 "metadata": {
  "kernelspec": {
   "display_name": "Python 3",
   "language": "python",
   "name": "python3"
  },
  "language_info": {
   "codemirror_mode": {
    "name": "ipython",
    "version": 3
   },
   "file_extension": ".py",
   "mimetype": "text/x-python",
   "name": "python",
   "nbconvert_exporter": "python",
   "pygments_lexer": "ipython3",
   "version": "3.8.3"
  }
 },
 "nbformat": 4,
 "nbformat_minor": 4
}
