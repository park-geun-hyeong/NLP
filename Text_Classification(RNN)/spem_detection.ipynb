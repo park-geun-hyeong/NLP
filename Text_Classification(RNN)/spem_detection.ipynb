{
  "nbformat": 4,
  "nbformat_minor": 0,
  "metadata": {
    "colab": {
      "name": "spem_detection.ipynb",
      "provenance": [],
      "collapsed_sections": [],
      "mount_file_id": "1cuaucGBCfVDHpglZOgq5Bw5M10fOldPX",
      "authorship_tag": "ABX9TyPdTg2xom7GWw/NSo1+1eS3",
      "include_colab_link": true
    },
    "kernelspec": {
      "name": "python3",
      "display_name": "Python 3"
    }
  },
  "cells": [
    {
      "cell_type": "markdown",
      "metadata": {
        "id": "view-in-github",
        "colab_type": "text"
      },
      "source": [
        "<a href=\"https://colab.research.google.com/github/park-geun-hyeong/RNN_PRACTICE/blob/main/spem_detection.ipynb\" target=\"_parent\"><img src=\"https://colab.research.google.com/assets/colab-badge.svg\" alt=\"Open In Colab\"/></a>"
      ]
    },
    {
      "cell_type": "code",
      "metadata": {
        "id": "HFOjhxMnO-m9"
      },
      "source": [
        "import numpy as np\r\n",
        "import pandas as pd\r\n",
        "import matplotlib.pyplot as plt\r\n",
        "import seaborn as sns\r\n",
        "%matplotlib inline\r\n",
        "import warnings \r\n",
        "warnings.filterwarnings('ignore')"
      ],
      "execution_count": null,
      "outputs": []
    },
    {
      "cell_type": "code",
      "metadata": {
        "id": "16JU_hkwPQSi"
      },
      "source": [
        "path='/content/drive/MyDrive/keras_practice/Spem_detection/'\r\n",
        "\r\n",
        "df=pd.read_csv(path+'spam.csv',encoding='latin1')"
      ],
      "execution_count": null,
      "outputs": []
    },
    {
      "cell_type": "code",
      "metadata": {
        "colab": {
          "base_uri": "https://localhost:8080/",
          "height": 195
        },
        "id": "UVzoUUniPdqh",
        "outputId": "98739637-b16e-48e7-bd77-a3bb389bf458"
      },
      "source": [
        "df.head()"
      ],
      "execution_count": null,
      "outputs": [
        {
          "output_type": "execute_result",
          "data": {
            "text/html": [
              "<div>\n",
              "<style scoped>\n",
              "    .dataframe tbody tr th:only-of-type {\n",
              "        vertical-align: middle;\n",
              "    }\n",
              "\n",
              "    .dataframe tbody tr th {\n",
              "        vertical-align: top;\n",
              "    }\n",
              "\n",
              "    .dataframe thead th {\n",
              "        text-align: right;\n",
              "    }\n",
              "</style>\n",
              "<table border=\"1\" class=\"dataframe\">\n",
              "  <thead>\n",
              "    <tr style=\"text-align: right;\">\n",
              "      <th></th>\n",
              "      <th>v1</th>\n",
              "      <th>v2</th>\n",
              "      <th>Unnamed: 2</th>\n",
              "      <th>Unnamed: 3</th>\n",
              "      <th>Unnamed: 4</th>\n",
              "    </tr>\n",
              "  </thead>\n",
              "  <tbody>\n",
              "    <tr>\n",
              "      <th>0</th>\n",
              "      <td>ham</td>\n",
              "      <td>Go until jurong point, crazy.. Available only ...</td>\n",
              "      <td>NaN</td>\n",
              "      <td>NaN</td>\n",
              "      <td>NaN</td>\n",
              "    </tr>\n",
              "    <tr>\n",
              "      <th>1</th>\n",
              "      <td>ham</td>\n",
              "      <td>Ok lar... Joking wif u oni...</td>\n",
              "      <td>NaN</td>\n",
              "      <td>NaN</td>\n",
              "      <td>NaN</td>\n",
              "    </tr>\n",
              "    <tr>\n",
              "      <th>2</th>\n",
              "      <td>spam</td>\n",
              "      <td>Free entry in 2 a wkly comp to win FA Cup fina...</td>\n",
              "      <td>NaN</td>\n",
              "      <td>NaN</td>\n",
              "      <td>NaN</td>\n",
              "    </tr>\n",
              "    <tr>\n",
              "      <th>3</th>\n",
              "      <td>ham</td>\n",
              "      <td>U dun say so early hor... U c already then say...</td>\n",
              "      <td>NaN</td>\n",
              "      <td>NaN</td>\n",
              "      <td>NaN</td>\n",
              "    </tr>\n",
              "    <tr>\n",
              "      <th>4</th>\n",
              "      <td>ham</td>\n",
              "      <td>Nah I don't think he goes to usf, he lives aro...</td>\n",
              "      <td>NaN</td>\n",
              "      <td>NaN</td>\n",
              "      <td>NaN</td>\n",
              "    </tr>\n",
              "  </tbody>\n",
              "</table>\n",
              "</div>"
            ],
            "text/plain": [
              "     v1  ... Unnamed: 4\n",
              "0   ham  ...        NaN\n",
              "1   ham  ...        NaN\n",
              "2  spam  ...        NaN\n",
              "3   ham  ...        NaN\n",
              "4   ham  ...        NaN\n",
              "\n",
              "[5 rows x 5 columns]"
            ]
          },
          "metadata": {
            "tags": []
          },
          "execution_count": 5
        }
      ]
    },
    {
      "cell_type": "code",
      "metadata": {
        "colab": {
          "base_uri": "https://localhost:8080/"
        },
        "id": "YQ6w0H27P8gi",
        "outputId": "69686363-b837-41a8-ab61-38ae7d8de637"
      },
      "source": [
        "df.shape"
      ],
      "execution_count": null,
      "outputs": [
        {
          "output_type": "execute_result",
          "data": {
            "text/plain": [
              "(5572, 5)"
            ]
          },
          "metadata": {
            "tags": []
          },
          "execution_count": 6
        }
      ]
    },
    {
      "cell_type": "code",
      "metadata": {
        "colab": {
          "base_uri": "https://localhost:8080/"
        },
        "id": "3TH3Ll_xP_5E",
        "outputId": "f7a43adc-7cb6-46a9-89cd-f1f211843d53"
      },
      "source": [
        "df[['v1','v2']].isna().sum().sum()"
      ],
      "execution_count": null,
      "outputs": [
        {
          "output_type": "execute_result",
          "data": {
            "text/plain": [
              "0"
            ]
          },
          "metadata": {
            "tags": []
          },
          "execution_count": 8
        }
      ]
    },
    {
      "cell_type": "code",
      "metadata": {
        "id": "atwVv0IeQCuL"
      },
      "source": [
        "df = df.drop(['Unnamed: 2','Unnamed: 3','Unnamed: 4'],axis=1)"
      ],
      "execution_count": null,
      "outputs": []
    },
    {
      "cell_type": "code",
      "metadata": {
        "colab": {
          "base_uri": "https://localhost:8080/",
          "height": 402
        },
        "id": "p7ASjbW3QXeD",
        "outputId": "29c26b58-d934-4ffa-a2c0-da25facf09f5"
      },
      "source": [
        "df"
      ],
      "execution_count": null,
      "outputs": [
        {
          "output_type": "execute_result",
          "data": {
            "text/html": [
              "<div>\n",
              "<style scoped>\n",
              "    .dataframe tbody tr th:only-of-type {\n",
              "        vertical-align: middle;\n",
              "    }\n",
              "\n",
              "    .dataframe tbody tr th {\n",
              "        vertical-align: top;\n",
              "    }\n",
              "\n",
              "    .dataframe thead th {\n",
              "        text-align: right;\n",
              "    }\n",
              "</style>\n",
              "<table border=\"1\" class=\"dataframe\">\n",
              "  <thead>\n",
              "    <tr style=\"text-align: right;\">\n",
              "      <th></th>\n",
              "      <th>v1</th>\n",
              "      <th>v2</th>\n",
              "    </tr>\n",
              "  </thead>\n",
              "  <tbody>\n",
              "    <tr>\n",
              "      <th>0</th>\n",
              "      <td>ham</td>\n",
              "      <td>Go until jurong point, crazy.. Available only ...</td>\n",
              "    </tr>\n",
              "    <tr>\n",
              "      <th>1</th>\n",
              "      <td>ham</td>\n",
              "      <td>Ok lar... Joking wif u oni...</td>\n",
              "    </tr>\n",
              "    <tr>\n",
              "      <th>2</th>\n",
              "      <td>spam</td>\n",
              "      <td>Free entry in 2 a wkly comp to win FA Cup fina...</td>\n",
              "    </tr>\n",
              "    <tr>\n",
              "      <th>3</th>\n",
              "      <td>ham</td>\n",
              "      <td>U dun say so early hor... U c already then say...</td>\n",
              "    </tr>\n",
              "    <tr>\n",
              "      <th>4</th>\n",
              "      <td>ham</td>\n",
              "      <td>Nah I don't think he goes to usf, he lives aro...</td>\n",
              "    </tr>\n",
              "    <tr>\n",
              "      <th>...</th>\n",
              "      <td>...</td>\n",
              "      <td>...</td>\n",
              "    </tr>\n",
              "    <tr>\n",
              "      <th>5567</th>\n",
              "      <td>spam</td>\n",
              "      <td>This is the 2nd time we have tried 2 contact u...</td>\n",
              "    </tr>\n",
              "    <tr>\n",
              "      <th>5568</th>\n",
              "      <td>ham</td>\n",
              "      <td>Will Ì_ b going to esplanade fr home?</td>\n",
              "    </tr>\n",
              "    <tr>\n",
              "      <th>5569</th>\n",
              "      <td>ham</td>\n",
              "      <td>Pity, * was in mood for that. So...any other s...</td>\n",
              "    </tr>\n",
              "    <tr>\n",
              "      <th>5570</th>\n",
              "      <td>ham</td>\n",
              "      <td>The guy did some bitching but I acted like i'd...</td>\n",
              "    </tr>\n",
              "    <tr>\n",
              "      <th>5571</th>\n",
              "      <td>ham</td>\n",
              "      <td>Rofl. Its true to its name</td>\n",
              "    </tr>\n",
              "  </tbody>\n",
              "</table>\n",
              "<p>5572 rows × 2 columns</p>\n",
              "</div>"
            ],
            "text/plain": [
              "        v1                                                 v2\n",
              "0      ham  Go until jurong point, crazy.. Available only ...\n",
              "1      ham                      Ok lar... Joking wif u oni...\n",
              "2     spam  Free entry in 2 a wkly comp to win FA Cup fina...\n",
              "3      ham  U dun say so early hor... U c already then say...\n",
              "4      ham  Nah I don't think he goes to usf, he lives aro...\n",
              "...    ...                                                ...\n",
              "5567  spam  This is the 2nd time we have tried 2 contact u...\n",
              "5568   ham              Will Ì_ b going to esplanade fr home?\n",
              "5569   ham  Pity, * was in mood for that. So...any other s...\n",
              "5570   ham  The guy did some bitching but I acted like i'd...\n",
              "5571   ham                         Rofl. Its true to its name\n",
              "\n",
              "[5572 rows x 2 columns]"
            ]
          },
          "metadata": {
            "tags": []
          },
          "execution_count": 10
        }
      ]
    },
    {
      "cell_type": "code",
      "metadata": {
        "id": "Ecxf6k5mQX8M"
      },
      "source": [
        "df['v1']=df.replace(['ham','spam'],[0,1])"
      ],
      "execution_count": null,
      "outputs": []
    },
    {
      "cell_type": "code",
      "metadata": {
        "colab": {
          "base_uri": "https://localhost:8080/",
          "height": 402
        },
        "id": "vCISZCleRBbI",
        "outputId": "a72b54b3-4c90-4c33-def5-1d37d070ca0f"
      },
      "source": [
        "df"
      ],
      "execution_count": null,
      "outputs": [
        {
          "output_type": "execute_result",
          "data": {
            "text/html": [
              "<div>\n",
              "<style scoped>\n",
              "    .dataframe tbody tr th:only-of-type {\n",
              "        vertical-align: middle;\n",
              "    }\n",
              "\n",
              "    .dataframe tbody tr th {\n",
              "        vertical-align: top;\n",
              "    }\n",
              "\n",
              "    .dataframe thead th {\n",
              "        text-align: right;\n",
              "    }\n",
              "</style>\n",
              "<table border=\"1\" class=\"dataframe\">\n",
              "  <thead>\n",
              "    <tr style=\"text-align: right;\">\n",
              "      <th></th>\n",
              "      <th>v1</th>\n",
              "      <th>v2</th>\n",
              "    </tr>\n",
              "  </thead>\n",
              "  <tbody>\n",
              "    <tr>\n",
              "      <th>0</th>\n",
              "      <td>0</td>\n",
              "      <td>Go until jurong point, crazy.. Available only ...</td>\n",
              "    </tr>\n",
              "    <tr>\n",
              "      <th>1</th>\n",
              "      <td>0</td>\n",
              "      <td>Ok lar... Joking wif u oni...</td>\n",
              "    </tr>\n",
              "    <tr>\n",
              "      <th>2</th>\n",
              "      <td>1</td>\n",
              "      <td>Free entry in 2 a wkly comp to win FA Cup fina...</td>\n",
              "    </tr>\n",
              "    <tr>\n",
              "      <th>3</th>\n",
              "      <td>0</td>\n",
              "      <td>U dun say so early hor... U c already then say...</td>\n",
              "    </tr>\n",
              "    <tr>\n",
              "      <th>4</th>\n",
              "      <td>0</td>\n",
              "      <td>Nah I don't think he goes to usf, he lives aro...</td>\n",
              "    </tr>\n",
              "    <tr>\n",
              "      <th>...</th>\n",
              "      <td>...</td>\n",
              "      <td>...</td>\n",
              "    </tr>\n",
              "    <tr>\n",
              "      <th>5567</th>\n",
              "      <td>1</td>\n",
              "      <td>This is the 2nd time we have tried 2 contact u...</td>\n",
              "    </tr>\n",
              "    <tr>\n",
              "      <th>5568</th>\n",
              "      <td>0</td>\n",
              "      <td>Will Ì_ b going to esplanade fr home?</td>\n",
              "    </tr>\n",
              "    <tr>\n",
              "      <th>5569</th>\n",
              "      <td>0</td>\n",
              "      <td>Pity, * was in mood for that. So...any other s...</td>\n",
              "    </tr>\n",
              "    <tr>\n",
              "      <th>5570</th>\n",
              "      <td>0</td>\n",
              "      <td>The guy did some bitching but I acted like i'd...</td>\n",
              "    </tr>\n",
              "    <tr>\n",
              "      <th>5571</th>\n",
              "      <td>0</td>\n",
              "      <td>Rofl. Its true to its name</td>\n",
              "    </tr>\n",
              "  </tbody>\n",
              "</table>\n",
              "<p>5572 rows × 2 columns</p>\n",
              "</div>"
            ],
            "text/plain": [
              "     v1                                                 v2\n",
              "0     0  Go until jurong point, crazy.. Available only ...\n",
              "1     0                      Ok lar... Joking wif u oni...\n",
              "2     1  Free entry in 2 a wkly comp to win FA Cup fina...\n",
              "3     0  U dun say so early hor... U c already then say...\n",
              "4     0  Nah I don't think he goes to usf, he lives aro...\n",
              "...  ..                                                ...\n",
              "5567  1  This is the 2nd time we have tried 2 contact u...\n",
              "5568  0              Will Ì_ b going to esplanade fr home?\n",
              "5569  0  Pity, * was in mood for that. So...any other s...\n",
              "5570  0  The guy did some bitching but I acted like i'd...\n",
              "5571  0                         Rofl. Its true to its name\n",
              "\n",
              "[5572 rows x 2 columns]"
            ]
          },
          "metadata": {
            "tags": []
          },
          "execution_count": 12
        }
      ]
    },
    {
      "cell_type": "code",
      "metadata": {
        "colab": {
          "base_uri": "https://localhost:8080/"
        },
        "id": "AVbGY2cWRB6q",
        "outputId": "e6509b9d-8587-40f9-b119-a7c4eae39cce"
      },
      "source": [
        "print(\"V1의 중복되지 않는 value 개수:{0}, V2의 중복되지 않는 value 개수:{1}\".format(df['v1'].nunique(),df['v2'].nunique()))"
      ],
      "execution_count": null,
      "outputs": [
        {
          "output_type": "stream",
          "text": [
            "V1의 중복되지 않는 value 개수:2, V2의 중복되지 않는 value 개수:5169\n"
          ],
          "name": "stdout"
        }
      ]
    },
    {
      "cell_type": "code",
      "metadata": {
        "id": "DPbUYRgRRiOn"
      },
      "source": [
        "#V2값은 중복되는 값이 5572-5169개 만큼 있음을 확인할 수 있다.\r\n",
        "\r\n",
        "df.drop_duplicates(subset=['v2'],inplace=True)"
      ],
      "execution_count": null,
      "outputs": []
    },
    {
      "cell_type": "code",
      "metadata": {
        "colab": {
          "base_uri": "https://localhost:8080/"
        },
        "id": "ki7C-i--SD0e",
        "outputId": "51486598-c977-4000-fc77-8cbdd4088ed1"
      },
      "source": [
        "df.shape"
      ],
      "execution_count": null,
      "outputs": [
        {
          "output_type": "execute_result",
          "data": {
            "text/plain": [
              "(5169, 2)"
            ]
          },
          "metadata": {
            "tags": []
          },
          "execution_count": 18
        }
      ]
    },
    {
      "cell_type": "code",
      "metadata": {
        "id": "juhT3XURSEh_"
      },
      "source": [
        "a= df['v1'].value_counts()"
      ],
      "execution_count": null,
      "outputs": []
    },
    {
      "cell_type": "code",
      "metadata": {
        "colab": {
          "base_uri": "https://localhost:8080/",
          "height": 297
        },
        "id": "NY2X53kNSKBf",
        "outputId": "33676203-e5b8-4c7c-cd5e-f62c12804d2f"
      },
      "source": [
        "sns.countplot(a)"
      ],
      "execution_count": null,
      "outputs": [
        {
          "output_type": "execute_result",
          "data": {
            "text/plain": [
              "<matplotlib.axes._subplots.AxesSubplot at 0x7f9bf33fe278>"
            ]
          },
          "metadata": {
            "tags": []
          },
          "execution_count": 23
        },
        {
          "output_type": "display_data",
          "data": {
            "image/png": "[encoded data removed]",
            "text/plain": [
              "<Figure size 432x288 with 1 Axes>"
            ]
          },
          "metadata": {
            "tags": [],
            "needs_background": "light"
          }
        }
      ]
    },
    {
      "cell_type": "code",
      "metadata": {
        "id": "2Fwvi0ZKSSMu"
      },
      "source": [
        "feature=df['v2']\r\n",
        "target=df['v1']"
      ],
      "execution_count": null,
      "outputs": []
    },
    {
      "cell_type": "code",
      "metadata": {
        "id": "7qL1LPEES1GX"
      },
      "source": [
        "import tensorflow as tf"
      ],
      "execution_count": null,
      "outputs": []
    },
    {
      "cell_type": "code",
      "metadata": {
        "id": "0RouqURkTAWK"
      },
      "source": [
        "from tensorflow.keras.preprocessing.text import Tokenizer\r\n",
        "from tensorflow.keras.preprocessing.sequence import pad_sequences"
      ],
      "execution_count": null,
      "outputs": []
    },
    {
      "cell_type": "code",
      "metadata": {
        "colab": {
          "base_uri": "https://localhost:8080/"
        },
        "id": "NuDA9RxaTA6F",
        "outputId": "1fba2be5-d6c1-4652-bc3f-59cd9c4a61fe"
      },
      "source": [
        "import re\r\n",
        "from nltk.corpus import stopwords\r\n",
        "from nltk.stem import WordNetLemmatizer\r\n",
        "l=WordNetLemmatizer()\r\n",
        "import nltk\r\n",
        "nltk.download('stopwords')\r\n",
        "\r\n",
        "stop_words=stopwords.words('english')\r\n",
        "\r\n",
        "def preprocess(text):\r\n",
        "    text= text.lower()\r\n",
        "    text= re.sub('[^A-Za-z]',' ', text)\r\n",
        "    text= [t for t in text.split() if t not in stop_words]\r\n",
        "    \r\n",
        "    return ' '.join(text)"
      ],
      "execution_count": null,
      "outputs": [
        {
          "output_type": "stream",
          "text": [
            "[nltk_data] Downloading package stopwords to /root/nltk_data...\n",
            "[nltk_data]   Package stopwords is already up-to-date!\n"
          ],
          "name": "stdout"
        }
      ]
    },
    {
      "cell_type": "code",
      "metadata": {
        "id": "nqgIBaYXV6fq"
      },
      "source": [
        "a = preprocess(df['v2'][0])"
      ],
      "execution_count": null,
      "outputs": []
    },
    {
      "cell_type": "code",
      "metadata": {
        "colab": {
          "base_uri": "https://localhost:8080/",
          "height": 35
        },
        "id": "-wcii-BSWQvJ",
        "outputId": "5a39ed85-7162-4c1b-9d6b-9cb673361074"
      },
      "source": [
        "a"
      ],
      "execution_count": null,
      "outputs": [
        {
          "output_type": "execute_result",
          "data": {
            "application/vnd.google.colaboratory.intrinsic+json": {
              "type": "string"
            },
            "text/plain": [
              "'go jurong point crazy available bugis n great world la e buffet cine got amore wat'"
            ]
          },
          "metadata": {
            "tags": []
          },
          "execution_count": 68
        }
      ]
    },
    {
      "cell_type": "code",
      "metadata": {
        "id": "Jbt-SGh9ZQha"
      },
      "source": [
        "feature=feature.apply(preprocess)"
      ],
      "execution_count": null,
      "outputs": []
    },
    {
      "cell_type": "code",
      "metadata": {
        "colab": {
          "base_uri": "https://localhost:8080/"
        },
        "id": "RygKC31ueDIq",
        "outputId": "a7db6d8c-70f0-4a95-c3c0-dc04edd57241"
      },
      "source": [
        "feature.head()"
      ],
      "execution_count": null,
      "outputs": [
        {
          "output_type": "execute_result",
          "data": {
            "text/plain": [
              "0    go jurong point crazy available bugis n great ...\n",
              "1                              ok lar joking wif u oni\n",
              "2    free entry wkly comp win fa cup final tkts st ...\n",
              "3                  u dun say early hor u c already say\n",
              "4               nah think goes usf lives around though\n",
              "Name: v2, dtype: object"
            ]
          },
          "metadata": {
            "tags": []
          },
          "execution_count": 70
        }
      ]
    },
    {
      "cell_type": "code",
      "metadata": {
        "id": "uz_LlbgceE1_"
      },
      "source": [
        "token=Tokenizer()\r\n",
        "token.fit_on_texts(feature)\r\n",
        "sequences = token.texts_to_sequences(feature)"
      ],
      "execution_count": null,
      "outputs": []
    },
    {
      "cell_type": "code",
      "metadata": {
        "colab": {
          "base_uri": "https://localhost:8080/"
        },
        "id": "fcEueqloeiFh",
        "outputId": "7f9455c8-bbb1-479b-cd54-f2fcff954193"
      },
      "source": [
        "sequences[0]"
      ],
      "execution_count": null,
      "outputs": [
        {
          "output_type": "execute_result",
          "data": {
            "text/plain": [
              "[7, 3484, 630, 562, 523, 1015, 30, 56, 307, 767, 68, 2373, 1016, 12, 3485, 57]"
            ]
          },
          "metadata": {
            "tags": []
          },
          "execution_count": 73
        }
      ]
    },
    {
      "cell_type": "code",
      "metadata": {
        "colab": {
          "base_uri": "https://localhost:8080/"
        },
        "id": "YP4XPMtPejB0",
        "outputId": "cbda43ea-adec-430c-a0c0-ba3d70e62598"
      },
      "source": [
        "word_index=token.word_index\r\n",
        "print(word_index)"
      ],
      "execution_count": null,
      "outputs": [
        {
          "output_type": "stream",
          "text": [
            "{'u': 1, 'call': 2, 'get': 3, 'ur': 4, 'gt': 5, 'lt': 6, 'go': 7, 'ok': 8, 'free': 9, 'know': 10, 'like': 11, 'got': 12, 'good': 13, 'come': 14, 'day': 15, 'time': 16, 'want': 17, 'love': 18, 'text': 19, 'send': 20, 'going': 21, 'p': 22, 'one': 23, 'need': 24, 'lor': 25, 'home': 26, 'txt': 27, 'r': 28, 'see': 29, 'n': 30, 'still': 31, 'k': 32, 'stop': 33, 'back': 34, 'today': 35, 'da': 36, 'dont': 37, 'reply': 38, 'take': 39, 'hi': 40, 'think': 41, 'tell': 42, 'sorry': 43, 'new': 44, 'mobile': 45, 'please': 46, 'c': 47, 'well': 48, 'phone': 49, 'hey': 50, 'much': 51, 'oh': 52, 'hope': 53, 'night': 54, 'week': 55, 'great': 56, 'wat': 57, 'dear': 58, 'later': 59, 'b': 60, 'msg': 61, 'pls': 62, 'give': 63, 'make': 64, 'way': 65, 'claim': 66, 'happy': 67, 'e': 68, 'yes': 69, 'already': 70, 'number': 71, 'ask': 72, 'work': 73, 'yeah': 74, 'www': 75, 'really': 76, 'say': 77, 'im': 78, 'prize': 79, 'tomorrow': 80, 'right': 81, 'meet': 82, 'babe': 83, 'thanks': 84, 'cash': 85, 'find': 86, 'message': 87, 'said': 88, 'cos': 89, 'lol': 90, 'let': 91, 'would': 92, 'last': 93, 'anything': 94, 'miss': 95, 'life': 96, 'also': 97, 'sure': 98, 'something': 99, 'morning': 100, 'keep': 101, 'every': 102, 'win': 103, 'urgent': 104, 'com': 105, 'wait': 106, 'min': 107, 'care': 108, 'next': 109, 'us': 110, 'buy': 111, 'thing': 112, 'around': 113, 'first': 114, 'x': 115, 'uk': 116, 'nokia': 117, 'contact': 118, 'sent': 119, 'pick': 120, 'money': 121, 'tonight': 122, 'could': 123, 'gonna': 124, 'soon': 125, 'feel': 126, 'amp': 127, 'even': 128, 'ya': 129, 'late': 130, 'sleep': 131, 'dun': 132, 'w': 133, 'someone': 134, 'wan': 135, 'help': 136, 'box': 137, 'leave': 138, 'many': 139, 'v': 140, 'always': 141, 'place': 142, 'service': 143, 'chat': 144, 'cant': 145, 'mins': 146, 'per': 147, 'things': 148, 'haha': 149, 'told': 150, 'getting': 151, 'nice': 152, 'waiting': 153, 'yet': 154, 'thk': 155, 'friend': 156, 'coming': 157, 'went': 158, 'customer': 159, 'done': 160, 'sms': 161, 'fine': 162, 'hello': 163, 'thought': 164, 'stuff': 165, 'name': 166, 'try': 167, 'pm': 168, 'may': 169, 'class': 170, 'year': 171, 'wish': 172, 'tone': 173, 'co': 174, 'talk': 175, 'use': 176, 'gud': 177, 'best': 178, 'better': 179, 'ppm': 180, 'st': 181, 'friends': 182, 'finish': 183, 'trying': 184, 'bit': 185, 'cool': 186, 'guaranteed': 187, 'long': 188, 'ill': 189, 'yup': 190, 'people': 191, 'days': 192, 'never': 193, 'end': 194, 'ready': 195, 'lunch': 196, 'car': 197, 'yo': 198, 'draw': 199, 'enjoy': 200, 'lar': 201, 'eat': 202, 'month': 203, 'meeting': 204, 'wanna': 205, 'thats': 206, 'job': 207, 'nothing': 208, 'holiday': 209, 'house': 210, 'line': 211, 'live': 212, 'half': 213, 'check': 214, 'guess': 215, 'liao': 216, 'shit': 217, 'cs': 218, 'dinner': 219, 'man': 220, 'real': 221, 'wk': 222, 'account': 223, 'dat': 224, 'problem': 225, 'special': 226, 'ah': 227, 'another': 228, 'jus': 229, 'big': 230, 'g': 231, 'might': 232, 'quite': 233, 'god': 234, 'mind': 235, 'cost': 236, 'smile': 237, 'lot': 238, 'shows': 239, 'sir': 240, 'person': 241, 'heart': 242, 'early': 243, 'word': 244, 'xxx': 245, 'room': 246, 'weekend': 247, 'bed': 248, 'aight': 249, 'hrs': 250, 'guys': 251, 'th': 252, 'video': 253, 'probably': 254, 'receive': 255, 'latest': 256, 'pobox': 257, 'wont': 258, 'remember': 259, 'maybe': 260, 'nite': 261, 'start': 262, 'watch': 263, 'thanx': 264, 'chance': 265, 'den': 266, 'fun': 267, 'watching': 268, 'pay': 269, 'left': 270, 'play': 271, 'awarded': 272, 'hear': 273, 'offer': 274, 'baby': 275, 'dunno': 276, 'ever': 277, 'sat': 278, 'actually': 279, 'bad': 280, 'princess': 281, 'kiss': 282, 'speak': 283, 'look': 284, 'pa': 285, 'landline': 286, 'little': 287, 'luv': 288, 'leh': 289, 'po': 290, 'reach': 291, 'face': 292, 'shopping': 293, 'shall': 294, 'minutes': 295, 'code': 296, 'thank': 297, 'bus': 298, 'nd': 299, 'forgot': 300, 'anyway': 301, 'girl': 302, 'called': 303, 'two': 304, 'fuck': 305, 'dad': 306, 'world': 307, 'camera': 308, 'sweet': 309, 'tv': 310, 'working': 311, 'tmr': 312, 'everything': 313, 'didnt': 314, 'plan': 315, 'hour': 316, 'tones': 317, 'texts': 318, 'wif': 319, 'rate': 320, 'apply': 321, 'though': 322, 'enough': 323, 'times': 324, 'ringtone': 325, 'calls': 326, 'since': 327, 'xx': 328, 'looking': 329, 'okay': 330, 'join': 331, 'bt': 332, 'age': 333, 'boy': 334, 'orange': 335, 'office': 336, 'put': 337, 'town': 338, 'goes': 339, 'network': 340, 'wanted': 341, 'abt': 342, 'says': 343, 'birthday': 344, 'must': 345, 'award': 346, 'mail': 347, 'years': 348, 'til': 349, 'able': 350, 'collect': 351, 'guy': 352, 'wot': 353, 'bring': 354, 'part': 355, 'dis': 356, 'afternoon': 357, 'show': 358, 'juz': 359, 'school': 360, 'evening': 361, 'easy': 362, 'important': 363, 'asked': 364, 'wake': 365, 'gift': 366, 'made': 367, 'details': 368, 'plus': 369, 'selected': 370, 'valid': 371, 'alright': 372, 'missed': 373, 'saw': 374, 'hair': 375, 'came': 376, 'havent': 377, 'else': 378, 'price': 379, 'worry': 380, 'true': 381, 'away': 382, 'yesterday': 383, 'pain': 384, 'making': 385, 'haf': 386, 'sexy': 387, 'without': 388, 'xmas': 389, 'oso': 390, 'book': 391, 'dude': 392, 'stay': 393, 'attempt': 394, 'online': 395, 'goin': 396, 'collection': 397, 'lei': 398, 'entry': 399, 'ard': 400, 'messages': 401, 'driving': 402, 'food': 403, 'missing': 404, 'hav': 405, 'club': 406, 'bored': 407, 'sch': 408, 'update': 409, 'net': 410, 'till': 411, 'tried': 412, 'means': 413, 'movie': 414, 'run': 415, 'test': 416, 'address': 417, 'busy': 418, 'order': 419, 'change': 420, 'tot': 421, 'feeling': 422, 'together': 423, 'de': 424, 'wants': 425, 'makes': 426, 'words': 427, 'http': 428, 'mob': 429, 'trip': 430, 'mean': 431, 'old': 432, 'believe': 433, 'gr': 434, 'decimal': 435, 'id': 436, 'noe': 437, 'happen': 438, 'optout': 439, 'ring': 440, 'hot': 441, 'full': 442, 'hurt': 443, 'weekly': 444, 'j': 445, 'chikku': 446, 'huh': 447, 'family': 448, 'drive': 449, 'hours': 450, 'colour': 451, 'date': 452, 'national': 453, 'aft': 454, 'tomo': 455, 'delivery': 456, 'finished': 457, 'wen': 458, 'points': 459, 'top': 460, 'awesome': 461, 'shop': 462, 'head': 463, 'beautiful': 464, 'thinking': 465, 'mum': 466, 'saying': 467, 'rite': 468, 'question': 469, 'brother': 470, 'tho': 471, 'second': 472, 'double': 473, 'comes': 474, 'started': 475, 'cause': 476, 'nt': 477, 'taking': 478, 'leaving': 479, 'walk': 480, 'charge': 481, 'lets': 482, 'plz': 483, 'calling': 484, 'poly': 485, 'drink': 486, 'eve': 487, 'gd': 488, 'sae': 489, 'either': 490, 'neva': 491, 'game': 492, 'pub': 493, 'sad': 494, 'set': 495, 'lesson': 496, 'took': 497, 'bonus': 498, 'lucky': 499, 'private': 500, 'todays': 501, 'services': 502, 'open': 503, 'lots': 504, 'carlos': 505, 'smoke': 506, 'sis': 507, 'break': 508, 'sounds': 509, 'wil': 510, 'music': 511, 'mine': 512, 'pics': 513, 'whatever': 514, 'wife': 515, 'email': 516, 'sun': 517, 'await': 518, 'loving': 519, 'pic': 520, 'alone': 521, 'auction': 522, 'available': 523, 'treat': 524, 'pounds': 525, 'news': 526, 'ha': 527, 'smth': 528, 'mom': 529, 'forget': 530, 'girls': 531, 'gone': 532, 'happened': 533, 'statement': 534, 'expires': 535, 'answer': 536, 'msgs': 537, 'coz': 538, 'everyone': 539, 'needs': 540, 'boytoy': 541, 'minute': 542, 'touch': 543, 'college': 544, 'sleeping': 545, 'company': 546, 'anytime': 547, 'unsubscribe': 548, 'choose': 549, 'far': 550, 'card': 551, 'games': 552, 'mths': 553, 'suite': 554, 'row': 555, 'dating': 556, 'land': 557, 'kind': 558, 'simple': 559, 'voucher': 560, 'drop': 561, 'crazy': 562, 'final': 563, 'info': 564, 'wonderful': 565, 'decided': 566, 'camcorder': 567, 'used': 568, 'close': 569, 'smiling': 570, 'identifier': 571, 'yr': 572, 'content': 573, 'wit': 574, 'found': 575, 'darlin': 576, 'oredi': 577, 'gbp': 578, 'sister': 579, 'bout': 580, 'fucking': 581, 'nope': 582, 'outside': 583, 'fri': 584, 'pretty': 585, 'fast': 586, 'weeks': 587, 'anyone': 588, 'party': 589, 'hows': 590, 'freemsg': 591, 'hl': 592, 'credit': 593, 'hungry': 594, 'telling': 595, 'whole': 596, 'congrats': 597, 'prob': 598, 'search': 599, 'hit': 600, 'friday': 601, 'hmm': 602, 'mu': 603, 'ltd': 604, 'hard': 605, 'frnd': 606, 'fancy': 607, 'bank': 608, 'finally': 609, 'goodmorning': 610, 'tel': 611, 'meant': 612, 'fr': 613, 'vouchers': 614, 'takes': 615, 'unlimited': 616, 'okie': 617, 'friendship': 618, 'l': 619, 'post': 620, 'jay': 621, 'sea': 622, 'listen': 623, 'snow': 624, 'mate': 625, 'least': 626, 'earlier': 627, 'chennai': 628, 'dreams': 629, 'point': 630, 'winner': 631, 'eh': 632, 'saturday': 633, 'almost': 634, 'cut': 635, 'hee': 636, 'download': 637, 'mah': 638, 'caller': 639, 'player': 640, 'type': 641, 'whats': 642, 'hmmm': 643, 'log': 644, 'course': 645, 'rs': 646, 'side': 647, 'congratulations': 648, 'fone': 649, 'lost': 650, 'christmas': 651, 'read': 652, 'ago': 653, 'lands': 654, 'mobileupd': 655, 'talking': 656, 'project': 657, 'couple': 658, 'india': 659, 'opt': 660, 'visit': 661, 'park': 662, 'un': 663, 'yar': 664, 'area': 665, 'knw': 666, 'mayb': 667, 'yrs': 668, 'luck': 669, 'gas': 670, 'charged': 671, 'seeing': 672, 'wow': 673, 'etc': 674, 'gotta': 675, 'computer': 676, 'uncle': 677, 'numbers': 678, 'sending': 679, 'direct': 680, 'tired': 681, 'parents': 682, 'mr': 683, 'worth': 684, 'balance': 685, 'march': 686, 'case': 687, 'hold': 688, 'wid': 689, 'swing': 690, 'die': 691, 'light': 692, 'ish': 693, 'currently': 694, 'seen': 695, 'reason': 696, 'ass': 697, 'supposed': 698, 'welcome': 699, 'cum': 700, 'lose': 701, 'redeemed': 702, 'gym': 703, 'darren': 704, 'sound': 705, 'xy': 706, 'sex': 707, 'lovely': 708, 'ugh': 709, 'wrong': 710, 'support': 711, 'grins': 712, 'difficult': 713, 'usf': 714, 'months': 715, 'eg': 716, 'wq': 717, 'comin': 718, 'confirm': 719, 'abiola': 720, 'crave': 721, 'gets': 722, 'ac': 723, 'pass': 724, 'complimentary': 725, 'loads': 726, 'shower': 727, 'operator': 728, 'match': 729, 'quiz': 730, 'dogging': 731, 'ni': 732, 'safe': 733, 'f': 734, 'muz': 735, 'bath': 736, 'story': 737, 'orchard': 738, 'kate': 739, 'exam': 740, 'secret': 741, 'thinks': 742, 'laptop': 743, 'angry': 744, 'wana': 745, 'somebody': 746, 'rest': 747, 'txts': 748, 'ex': 749, 'motorola': 750, 'slow': 751, 'rental': 752, 'asking': 753, 'nyt': 754, 'monday': 755, 'frm': 756, 'wonder': 757, 'extra': 758, 'understand': 759, 'whenever': 760, 'sort': 761, 'asap': 762, 'heard': 763, 'na': 764, 'information': 765, 'enter': 766, 'la': 767, 'comp': 768, 'nah': 769, 'reward': 770, 'mobiles': 771, 'sunday': 772, 'wap': 773, 'link': 774, 'worried': 775, 'oops': 776, 'red': 777, 'correct': 778, 'move': 779, 'song': 780, 'frnds': 781, 'save': 782, 'tickets': 783, 'il': 784, 'gave': 785, 'felt': 786, 'invited': 787, 'pray': 788, 'wine': 789, 'dream': 790, 'spend': 791, 'bathe': 792, 'bill': 793, 'semester': 794, 'study': 795, 'tc': 796, 'blue': 797, 'tonite': 798, 'stupid': 799, 'ends': 800, 'normal': 801, 'pete': 802, 'plans': 803, 'via': 804, 'small': 805, 'figure': 806, 'met': 807, 'rakhesh': 808, 'moment': 809, 'woke': 810, 'phones': 811, 'mm': 812, 'yep': 813, 'sk': 814, 'voice': 815, 'booked': 816, 'ten': 817, 'different': 818, 'water': 819, 'ipod': 820, 'offers': 821, 'hoping': 822, 'across': 823, 'warm': 824, 'em': 825, 'happiness': 826, 'ts': 827, 'drugs': 828, 'laugh': 829, 'ans': 830, 'fantastic': 831, 'sell': 832, 'glad': 833, 'store': 834, 'picking': 835, 'mates': 836, 'knew': 837, 'surprise': 838, 'film': 839, 'nobody': 840, 'bb': 841, 'fact': 842, 'loved': 843, 'doin': 844, 'wkly': 845, 'valued': 846, 'promise': 847, 'knows': 848, 'sick': 849, 'catch': 850, 'hospital': 851, 'ice': 852, 'reached': 853, 'checking': 854, 'forever': 855, 'men': 856, 'rates': 857, 'buying': 858, 'lazy': 859, 'lect': 860, 'hand': 861, 'staying': 862, 'doesnt': 863, 'especially': 864, 'studying': 865, 'trust': 866, 'using': 867, 'deal': 868, 'mrng': 869, 'dead': 870, 'mrt': 871, 'ive': 872, 'lessons': 873, 'street': 874, 'disturb': 875, 'questions': 876, 'unless': 877, 'somewhere': 878, 'reading': 879, 'access': 880, 'custcare': 881, 'weed': 882, 'brings': 883, 'rock': 884, 'al': 885, 'kinda': 886, 'remove': 887, 'terms': 888, 'meh': 889, 'rent': 890, 'less': 891, 'savamob': 892, 'within': 893, 'max': 894, 'cheap': 895, 'train': 896, 'valentine': 897, 'pc': 898, 'paper': 899, 'bold': 900, 'ones': 901, 'gettin': 902, 'charity': 903, 'poor': 904, 'user': 905, 'truth': 906, 'hiya': 907, 'doctor': 908, 'gal': 909, 'mon': 910, 'john': 911, 'wondering': 912, 'others': 913, 'ringtones': 914, 'tht': 915, 'reaching': 916, 'excellent': 917, 'hw': 918, 'sitting': 919, 'anymore': 920, 'england': 921, 'mark': 922, 'pizza': 923, 'cheers': 924, 'quick': 925, 'decide': 926, 'nigeria': 927, 'short': 928, 'rply': 929, 'stand': 930, 'spent': 931, 'rain': 932, 'planning': 933, 'umma': 934, 'weekends': 935, 'weight': 936, 'entered': 937, 'specially': 938, 'paying': 939, 'ending': 940, 'bak': 941, 'txting': 942, 'sometimes': 943, 'joined': 944, 'however': 945, 'slept': 946, 'bcoz': 947, 'road': 948, 'reveal': 949, 'goodnight': 950, 'cd': 951, 'lemme': 952, 'credits': 953, 'usual': 954, 'bslvyl': 955, 'coffee': 956, 'immediately': 957, 'fixed': 958, 'valentines': 959, 'wiv': 960, 'interested': 961, 'round': 962, 'urself': 963, 'hg': 964, 'discount': 965, 'mistake': 966, 'facebook': 967, 'yahoo': 968, 'aha': 969, 'funny': 970, 'giving': 971, 'wc': 972, 'din': 973, 'near': 974, 'mp': 975, 'workin': 976, 'daddy': 977, 'clean': 978, 'door': 979, 'pound': 980, 'ar': 981, 'noon': 982, 'alex': 983, 'longer': 984, 'starting': 985, 'tuesday': 986, 'king': 987, 'idea': 988, 'seems': 989, 'add': 990, 'eyes': 991, 'library': 992, 'wishing': 993, 'slave': 994, 'omg': 995, 'polys': 996, 'tampa': 997, 'training': 998, 'sale': 999, 'gay': 1000, 'mo': 1001, 'medical': 1002, 'black': 1003, 'awaiting': 1004, 'cancel': 1005, 'hr': 1006, 'honey': 1007, 'vl': 1008, 'frens': 1009, 'write': 1010, 'father': 1011, 'wednesday': 1012, 'thinkin': 1013, 'er': 1014, 'bugis': 1015, 'cine': 1016, 'cup': 1017, 'std': 1018, 'press': 1019, 'click': 1020, 'naughty': 1021, 'sucks': 1022, 'tea': 1023, 'eating': 1024, 'replying': 1025, 'liked': 1026, 'cinema': 1027, 'joke': 1028, 'situation': 1029, 'wun': 1030, 'ta': 1031, 'trouble': 1032, 'ave': 1033, 'changed': 1034, 'cuz': 1035, 'page': 1036, 'eatin': 1037, 'inc': 1038, 'bother': 1039, 'del': 1040, 'sony': 1041, 'yijue': 1042, 'joy': 1043, 'goto': 1044, 'internet': 1045, 'completely': 1046, 'hop': 1047, 'bucks': 1048, 'past': 1049, 'nights': 1050, 'biz': 1051, 'appreciate': 1052, 'sign': 1053, 'battery': 1054, 'flirt': 1055, 'admirer': 1056, 'ldew': 1057, 'dnt': 1058, 'deep': 1059, 'lover': 1060, 'horny': 1061, 'quality': 1062, 'worries': 1063, 'ge': 1064, 'sense': 1065, 'high': 1066, 'imagine': 1067, 'kb': 1068, 'power': 1069, 'yoga': 1070, 'merry': 1071, 'rcvd': 1072, 'fault': 1073, 'insurance': 1074, 'maximize': 1075, 'cc': 1076, 'cold': 1077, 'forward': 1078, 'air': 1079, 'bluetooth': 1080, 'reference': 1081, 'happening': 1082, 'starts': 1083, 'logo': 1084, 'ldn': 1085, 'ticket': 1086, 'loan': 1087, 'thru': 1088, 'notice': 1089, 'tenerife': 1090, 'depends': 1091, 'sub': 1092, 'single': 1093, 'fat': 1094, 'rather': 1095, 'hotel': 1096, 'omw': 1097, 'hurry': 1098, 'gee': 1099, 'izzit': 1100, 'kids': 1101, 'present': 1102, 'imma': 1103, 'future': 1104, 'shuhui': 1105, 'weather': 1106, 'paid': 1107, 'matches': 1108, 'forwarded': 1109, 'ho': 1110, 'awake': 1111, 'torch': 1112, 'looks': 1113, 'running': 1114, 'mad': 1115, 'holla': 1116, 'possible': 1117, 'yest': 1118, 'summer': 1119, 'getzed': 1120, 'bid': 1121, 'model': 1122, 'comuk': 1123, 'moon': 1124, 'mother': 1125, 'hai': 1126, 'otherwise': 1127, 'ntt': 1128, 'cr': 1129, 'midnight': 1130, 'photo': 1131, 'registered': 1132, 'recently': 1133, 'feels': 1134, 'nxt': 1135, 'rd': 1136, 'movies': 1137, 'onto': 1138, 'station': 1139, 'cute': 1140, 'energy': 1141, 'strong': 1142, 'complete': 1143, 'picked': 1144, 'cell': 1145, 'mode': 1146, 'dog': 1147, 'alrite': 1148, 'shd': 1149, 'walking': 1150, 'players': 1151, 'lmao': 1152, 'arrive': 1153, 'south': 1154, 'instead': 1155, 'buzz': 1156, 'inside': 1157, 'slowly': 1158, 'excuse': 1159, 'vikky': 1160, 'pix': 1161, 'sofa': 1162, 'happens': 1163, 'behind': 1164, 'planned': 1165, 'joking': 1166, 'copy': 1167, 'entitled': 1168, 'team': 1169, 'seriously': 1170, 'subscription': 1171, 'learn': 1172, 'texting': 1173, 'ahead': 1174, 'tyler': 1175, 'kept': 1176, 'usually': 1177, 'fyi': 1178, 'bx': 1179, 'ip': 1180, 'following': 1181, 'kano': 1182, 'pleasure': 1183, 'hurts': 1184, 'loves': 1185, 'representative': 1186, 'wa': 1187, 'boss': 1188, 'askd': 1189, 'directly': 1190, 'standard': 1191, 'app': 1192, 'sunshine': 1193, 'q': 1194, 'dvd': 1195, 'sp': 1196, 'swt': 1197, 'local': 1198, 'qatar': 1199, 'become': 1200, 'arrange': 1201, 'waste': 1202, 'hell': 1203, 'turns': 1204, 'bye': 1205, 'towards': 1206, 'personal': 1207, 'straight': 1208, 'system': 1209, 'partner': 1210, 'died': 1211, 'kick': 1212, 'website': 1213, 'kallis': 1214, 'ppmx': 1215, 'cal': 1216, 'handset': 1217, 'dint': 1218, 'leaves': 1219, 'sim': 1220, 'loyalty': 1221, 'rose': 1222, 'babes': 1223, 'sport': 1224, 'definitely': 1225, 'track': 1226, 'return': 1227, 'report': 1228, 'num': 1229, 'posted': 1230, 'willing': 1231, 'pilates': 1232, 'putting': 1233, 'none': 1234, 'askin': 1235, 'tough': 1236, 'group': 1237, 'isnt': 1238, 'wx': 1239, 'moan': 1240, 'fb': 1241, 'silent': 1242, 'realy': 1243, 'jst': 1244, 'tat': 1245, 'gb': 1246, 'children': 1247, 'campus': 1248, 'member': 1249, 'lady': 1250, 'fingers': 1251, 'self': 1252, 'married': 1253, 'blood': 1254, 'aiyo': 1255, 'barely': 1256, 'scream': 1257, 'spree': 1258, 'ladies': 1259, 'holder': 1260, 'login': 1261, 'fetch': 1262, 'law': 1263, 'sit': 1264, 'dey': 1265, 'yay': 1266, 'tscs': 1267, 'damn': 1268, 'wats': 1269, 'space': 1270, 'norm': 1271, 'bag': 1272, 'boo': 1273, 'teasing': 1274, 'zed': 1275, 'surely': 1276, 'five': 1277, 'wed': 1278, 'matter': 1279, 'mid': 1280, 'sup': 1281, 'due': 1282, 'teach': 1283, 'ate': 1284, 'hp': 1285, 'expensive': 1286, 'brand': 1287, 'ad': 1288, 'contract': 1289, 'loverboy': 1290, 'serious': 1291, 'april': 1292, 'process': 1293, 'works': 1294, 'digital': 1295, 'aiyah': 1296, 'urawinner': 1297, 'raining': 1298, 'thts': 1299, 'super': 1300, 'problems': 1301, 'cover': 1302, 'cafe': 1303, 'bought': 1304, 'keeping': 1305, 'except': 1306, 'london': 1307, 'lookin': 1308, 'boys': 1309, 'list': 1310, 'gn': 1311, 'ahmad': 1312, 'armand': 1313, 'empty': 1314, 'role': 1315, 'worse': 1316, 'pussy': 1317, 'budget': 1318, 'random': 1319, 'plenty': 1320, 'cancer': 1321, 'feb': 1322, 'tick': 1323, 'darling': 1324, 'request': 1325, 'wet': 1326, 'stock': 1327, 'str': 1328, 'roommate': 1329, 'hopefully': 1330, 'weak': 1331, 'ride': 1332, 'pleased': 1333, 'review': 1334, 'ls': 1335, 'respect': 1336, 'simply': 1337, 'password': 1338, 'boston': 1339, 'scared': 1340, 'tt': 1341, 'flights': 1342, 'informed': 1343, 'voda': 1344, 'quoting': 1345, 'country': 1346, 'laid': 1347, 'locations': 1348, 'ec': 1349, 'lovable': 1350, 'replied': 1351, 'begin': 1352, 'shirt': 1353, 'inviting': 1354, 'discuss': 1355, 'cannot': 1356, 'connection': 1357, 'romantic': 1358, 'mtmsg': 1359, 'fix': 1360, 'tncs': 1361, 'wks': 1362, 'h': 1363, 'naked': 1364, 'hmv': 1365, 'bf': 1366, 'anybody': 1367, 'themob': 1368, 'accept': 1369, 'uz': 1370, 'advance': 1371, 'cake': 1372, 'allah': 1373, 'sonyericsson': 1374, 'geeee': 1375, 'sighs': 1376, 'body': 1377, 'guide': 1378, 'relax': 1379, 'intro': 1380, 'current': 1381, 'pictures': 1382, 'yan': 1383, 'jiu': 1384, 'contacted': 1385, 'hostel': 1386, 'lift': 1387, 'respond': 1388, 'dollars': 1389, 'acc': 1390, 'woman': 1391, 'ttyl': 1392, 'gives': 1393, 'style': 1394, 'flat': 1395, 'charges': 1396, 'sec': 1397, 'activate': 1398, 'village': 1399, 'opinion': 1400, 'pin': 1401, 'unsub': 1402, 'english': 1403, 'btw': 1404, 'mrw': 1405, 'smiles': 1406, 'marriage': 1407, 'quit': 1408, 'jazz': 1409, 'yogasana': 1410, 'announcement': 1411, 'stopped': 1412, 'indian': 1413, 'somethin': 1414, 'euro': 1415, 'daily': 1416, 'vodafone': 1417, 'gentle': 1418, 'drug': 1419, 'earth': 1420, 'belly': 1421, 'lonely': 1422, 'bedroom': 1423, 'aftr': 1424, 'timing': 1425, 'twice': 1426, 'opportunity': 1427, 'txtauction': 1428, 'gals': 1429, 'city': 1430, 'sing': 1431, 'living': 1432, 'cm': 1433, 'green': 1434, 'ages': 1435, 'sura': 1436, 'playing': 1437, 'fall': 1438, 'records': 1439, 'birds': 1440, 'lead': 1441, 'unsold': 1442, 'derek': 1443, 'white': 1444, 'january': 1445, 'cheaper': 1446, 'ym': 1447, 'pissed': 1448, 'wherever': 1449, 'wear': 1450, 'places': 1451, 'photos': 1452, 'heavy': 1453, 'site': 1454, 'boring': 1455, 'salary': 1456, 'dropped': 1457, 'yun': 1458, 'kerala': 1459, 'asleep': 1460, 'bitch': 1461, 'xchat': 1462, 'receipt': 1463, 'uni': 1464, 'italian': 1465, 'oz': 1466, 'horrible': 1467, 'nw': 1468, 'tuition': 1469, 'chinese': 1470, 'hun': 1471, 'cbe': 1472, 'tour': 1473, 'broke': 1474, 'pple': 1475, 'marry': 1476, 'croydon': 1477, 'wb': 1478, 'share': 1479, 'vote': 1480, 'tells': 1481, 'totally': 1482, 'rem': 1483, 'exams': 1484, 'everybody': 1485, 'google': 1486, 'aint': 1487, 'airport': 1488, 'costs': 1489, 'eerie': 1490, 'waking': 1491, 'sight': 1492, 'fren': 1493, 'hook': 1494, 'bin': 1495, 'social': 1496, 'selling': 1497, 'buns': 1498, 'holding': 1499, 'hate': 1500, 'thnk': 1501, 'season': 1502, 'nvm': 1503, 'moms': 1504, 'obviously': 1505, 'flag': 1506, 'looked': 1507, 'expecting': 1508, 'miles': 1509, 'mood': 1510, 'checked': 1511, 'unable': 1512, 'remind': 1513, 'tear': 1514, 'whether': 1515, 'spook': 1516, 'added': 1517, 'police': 1518, 'ru': 1519, 'cars': 1520, 'deliver': 1521, 'amount': 1522, 'advice': 1523, 'amazing': 1524, 'issues': 1525, 'tariffs': 1526, 'tm': 1527, 'thurs': 1528, 'lik': 1529, 'meds': 1530, 'common': 1531, 'oni': 1532, 'lives': 1533, 'tb': 1534, 'rcv': 1535, 'callertune': 1536, 'ldnw': 1537, 'searching': 1538, 'sooner': 1539, 'turn': 1540, 'egg': 1541, 'child': 1542, 'letter': 1543, 'inches': 1544, 'embarassed': 1545, 'seemed': 1546, 'series': 1547, 'wah': 1548, 'machan': 1549, 'coins': 1550, 'moro': 1551, 'sum': 1552, 'appointment': 1553, 'ham': 1554, 'legal': 1555, 'nyc': 1556, 'wishes': 1557, 'truly': 1558, 'considering': 1559, 'research': 1560, 'apartment': 1561, 'needed': 1562, 'yetunde': 1563, 'largest': 1564, 'netcollex': 1565, 'deleted': 1566, 'interview': 1567, 'menu': 1568, 'bloody': 1569, 'spoke': 1570, 'experience': 1571, 'anyways': 1572, 'mummy': 1573, 'freephone': 1574, 'radio': 1575, 'unique': 1576, 'shoot': 1577, 'sen': 1578, 'atm': 1579, 'files': 1580, 'followed': 1581, 'teaches': 1582, 'cross': 1583, 'sam': 1584, 'closer': 1585, 'showing': 1586, 'expect': 1587, 'mmm': 1588, 'singles': 1589, 'ended': 1590, 'sunny': 1591, 'passed': 1592, 'throw': 1593, 'cam': 1594, 'accidentally': 1595, 'cry': 1596, 'def': 1597, 'meal': 1598, 'dates': 1599, 'hanging': 1600, 'selection': 1601, 'smart': 1602, 'pongal': 1603, 'afraid': 1604, 'december': 1605, 'kisses': 1606, 'cud': 1607, 'ppl': 1608, 'waitin': 1609, 'basically': 1610, 'wtf': 1611, 'stoptxt': 1612, 'sometime': 1613, 'cream': 1614, 'fullonsms': 1615, 'competition': 1616, 'esplanade': 1617, 'fifteen': 1618, 'vary': 1619, 'journey': 1620, 'gorgeous': 1621, 'si': 1622, 'ure': 1623, 'intelligent': 1624, 'result': 1625, 'reasons': 1626, 'receiving': 1627, 'cw': 1628, 'conditions': 1629, 'dry': 1630, 'bringing': 1631, 'mtmsgrcvd': 1632, 'cha': 1633, 'bday': 1634, 'pg': 1635, 'malaria': 1636, 'passionate': 1637, 'quote': 1638, 'three': 1639, 'milk': 1640, 'lab': 1641, 'grand': 1642, 'pie': 1643, 'paris': 1644, 'results': 1645, 'answers': 1646, 'often': 1647, 'leona': 1648, 'bud': 1649, 'drinks': 1650, 'thursday': 1651, 'taken': 1652, 'listening': 1653, 'sw': 1654, 'ss': 1655, 'bet': 1656, 'hella': 1657, 'evng': 1658, 'prepare': 1659, 'seem': 1660, 'explain': 1661, 'gap': 1662, 'weird': 1663, 'drivin': 1664, 'students': 1665, 'upset': 1666, 'assume': 1667, 'exactly': 1668, 'faster': 1669, 'spoken': 1670, 'skilgme': 1671, 'winawk': 1672, 'meetin': 1673, 'closed': 1674, 'apparently': 1675, 'smokes': 1676, 'perfect': 1677, 'polyphonic': 1678, 'enjoyed': 1679, 'appt': 1680, 'hunny': 1681, 'ache': 1682, 'profit': 1683, 'morrow': 1684, 'ibiza': 1685, 'wp': 1686, 'meanwhile': 1687, 'version': 1688, 'careful': 1689, 'spk': 1690, 'vip': 1691, 'cds': 1692, 'travel': 1693, 'wanting': 1694, 'greet': 1695, 'pig': 1696, 'iam': 1697, 'attend': 1698, 'diet': 1699, 'term': 1700, 'xh': 1701, 'fever': 1702, 'tcr': 1703, 'bowl': 1704, 'ph': 1705, 'sore': 1706, 'jesus': 1707, 'regret': 1708, 'throat': 1709, 'lecture': 1710, 'raise': 1711, 'june': 1712, 'flower': 1713, 'technical': 1714, 'revealed': 1715, 'bathing': 1716, 'convey': 1717, 'regards': 1718, 'fight': 1719, 'clock': 1720, 'hands': 1721, 'subscriber': 1722, 'aiyar': 1723, 'howz': 1724, 'wearing': 1725, 'adult': 1726, 'shame': 1727, 'jordan': 1728, 'choice': 1729, 'subs': 1730, 'delivered': 1731, 'arms': 1732, 'mite': 1733, 'easier': 1734, 'xxxxxxx': 1735, 'songs': 1736, 'exact': 1737, 'jamster': 1738, 'original': 1739, 'idiot': 1740, 'harry': 1741, 'february': 1742, 'rush': 1743, 'blackberry': 1744, 'moji': 1745, 'fantasies': 1746, 'fill': 1747, 'linerental': 1748, 'meaning': 1749, 'moral': 1750, 'msgrcvdhg': 1751, 'aiya': 1752, 'bright': 1753, 'textpod': 1754, 'fl': 1755, 'vomit': 1756, 'sha': 1757, 'centre': 1758, 'total': 1759, 'along': 1760, 'shortly': 1761, 'ron': 1762, 'screaming': 1763, 'bishan': 1764, 'pack': 1765, 'idk': 1766, 'laughing': 1767, 'title': 1768, 'brought': 1769, 'surprised': 1770, 'comedy': 1771, 'moby': 1772, 'action': 1773, 'received': 1774, 'ran': 1775, 'ordered': 1776, 'queen': 1777, 'schedule': 1778, 'arcade': 1779, 'alert': 1780, 'created': 1781, 'takin': 1782, 'exciting': 1783, 'answering': 1784, 'beer': 1785, 'jess': 1786, 'dirty': 1787, 'package': 1788, 'upto': 1789, 'skype': 1790, 'masters': 1791, 'cleaning': 1792, 'costa': 1793, 'sol': 1794, 'cat': 1795, 'hip': 1796, 'theatre': 1797, 'infernal': 1798, 'including': 1799, 'qp': 1800, 'giv': 1801, 'official': 1802, 'inclusive': 1803, 'feet': 1804, 'colleagues': 1805, 'ntwk': 1806, 'pages': 1807, 'freak': 1808, 'ref': 1809, 'wkend': 1810, 'letters': 1811, 'fantasy': 1812, 'sky': 1813, 'sugar': 1814, 'thangam': 1815, 'roger': 1816, 'key': 1817, 'released': 1818, 'spending': 1819, 'sept': 1820, 'ignore': 1821, 'dare': 1822, 'teeth': 1823, 'porn': 1824, 'celebrate': 1825, 'abi': 1826, 'hill': 1827, 'grl': 1828, 'relation': 1829, 'hug': 1830, 'wylie': 1831, 'basic': 1832, 'outta': 1833, 'inform': 1834, 'mumtaz': 1835, 'blank': 1836, 'texted': 1837, 'nat': 1838, 'born': 1839, 'doc': 1840, 'taunton': 1841, 'santa': 1842, 'step': 1843, 'six': 1844, 'membership': 1845, 'spell': 1846, 'wales': 1847, 'scotland': 1848, 'frying': 1849, 'clear': 1850, 'caught': 1851, 'xuhui': 1852, 'invite': 1853, 'yummy': 1854, 'fair': 1855, 'gram': 1856, 'runs': 1857, 'realized': 1858, 'url': 1859, 'burger': 1860, 'roommates': 1861, 'dresser': 1862, 'plane': 1863, 'gentleman': 1864, 'dignity': 1865, 'shy': 1866, 'urgnt': 1867, 'requests': 1868, 'sheets': 1869, 'becoz': 1870, 'lido': 1871, 'fml': 1872, 'hols': 1873, 'four': 1874, 'vava': 1875, 'loud': 1876, 'anythin': 1877, 'unredeemed': 1878, 'apologise': 1879, 'rooms': 1880, 'hardcore': 1881, 'persons': 1882, 'biggest': 1883, 'staff': 1884, 'female': 1885, 'birla': 1886, 'soft': 1887, 'floor': 1888, 'escape': 1889, 'spanish': 1890, 'mall': 1891, 'finishes': 1892, 'august': 1893, 'suggest': 1894, 'settled': 1895, 'transaction': 1896, 'ga': 1897, 'career': 1898, 'teacher': 1899, 'recd': 1900, 'pence': 1901, 'argument': 1902, 'wins': 1903, 'tomarrow': 1904, 'avent': 1905, 'slippers': 1906, 'bat': 1907, 'innings': 1908, 'dearly': 1909, 'childish': 1910, 'shipping': 1911, 'networks': 1912, 'parked': 1913, 'mini': 1914, 'flash': 1915, 'jealous': 1916, 'sorting': 1917, 'rays': 1918, 'handed': 1919, 'gautham': 1920, 'upgrade': 1921, 'scary': 1922, 'newest': 1923, 'gossip': 1924, 'fit': 1925, 'garage': 1926, 'keys': 1927, 'gona': 1928, 'flight': 1929, 'record': 1930, 'women': 1931, 'germany': 1932, 'supervisor': 1933, 'lifetime': 1934, 'surfing': 1935, 'favourite': 1936, 'bless': 1937, 'stranger': 1938, 'cleared': 1939, 'practice': 1940, 'alcohol': 1941, 'remembered': 1942, 'insha': 1943, 'alive': 1944, 'breathe': 1945, 'ptbo': 1946, 'tests': 1947, 'shut': 1948, 'period': 1949, 'business': 1950, 'picture': 1951, 'quickly': 1952, 'chechi': 1953, 'tree': 1954, 'skip': 1955, 'blah': 1956, 'goal': 1957, 'names': 1958, 'tf': 1959, 'ful': 1960, 'irritating': 1961, 'wnt': 1962, 'vry': 1963, 'hv': 1964, 'bcm': 1965, 'iouri': 1966, 'oic': 1967, 'transfer': 1968, 'july': 1969, 'railway': 1970, 'doggy': 1971, 'fave': 1972, 'roads': 1973, 'dave': 1974, 'tcs': 1975, 'transfered': 1976, 'banks': 1977, 'ja': 1978, 'boye': 1979, 'center': 1980, 'fighting': 1981, 'fish': 1982, 'fees': 1983, 'character': 1984, 'prabha': 1985, 'ibhltd': 1986, 'mono': 1987, 'booking': 1988, 'behave': 1989, 'elsewhere': 1990, 'rude': 1991, 'qu': 1992, 'channel': 1993, 'returns': 1994, 'tirupur': 1995, 'web': 1996, 'losing': 1997, 'confidence': 1998, 'bloke': 1999, 'cock': 2000, 'generally': 2001, 'likely': 2002, 'essential': 2003, 'american': 2004, 'callin': 2005, 'dick': 2006, 'snake': 2007, 'bite': 2008, 'headache': 2009, 'lines': 2010, 'exhausted': 2011, 'swimming': 2012, 'morow': 2013, 'nichols': 2014, 'market': 2015, 'pop': 2016, 'postcode': 2017, 'seven': 2018, 'tlp': 2019, 'thanksgiving': 2020, 'envelope': 2021, 'textoperator': 2022, 'building': 2023, 'map': 2024, 'accordingly': 2025, 'farm': 2026, 'purchase': 2027, 'height': 2028, 'wer': 2029, 'ws': 2030, 'stress': 2031, 'csbcm': 2032, 'callcost': 2033, 'ba': 2034, 'low': 2035, 'shorter': 2036, 'subscribed': 2037, 'realize': 2038, 'gimme': 2039, 'mt': 2040, 'perwksub': 2041, 'tis': 2042, 'anywhere': 2043, 'diff': 2044, 'community': 2045, 'bein': 2046, 'jan': 2047, 'pieces': 2048, 'hint': 2049, 'responding': 2050, 'xxxx': 2051, 'qxj': 2052, 'ae': 2053, 'alfie': 2054, 'nokias': 2055, 'cust': 2056, 'xavier': 2057, 'seconds': 2058, 'stomach': 2059, 'sn': 2060, 'returned': 2061, 'walls': 2062, 'saved': 2063, 'cuddle': 2064, 'nap': 2065, 'shesil': 2066, 'played': 2067, 'reminder': 2068, 'failed': 2069, 'outstanding': 2070, 'taylor': 2071, 'male': 2072, 'moments': 2073, 'decision': 2074, 'welp': 2075, 'chicken': 2076, 'videophones': 2077, 'videochat': 2078, 'java': 2079, 'dload': 2080, 'noline': 2081, 'rentl': 2082, 'fuckin': 2083, 'ubi': 2084, 'wkg': 2085, 'butt': 2086, 'miracle': 2087, 'terrible': 2088, 'exe': 2089, 'prey': 2090, 'fancies': 2091, 'foreign': 2092, 'stamps': 2093, 'fool': 2094, 'roast': 2095, 'chatting': 2096, 'walked': 2097, 'drunk': 2098, 'networking': 2099, 'wu': 2100, 'juicy': 2101, 'vijay': 2102, 'sipix': 2103, 'ne': 2104, 'interesting': 2105, 'ground': 2106, 'speed': 2107, 'catching': 2108, 'falls': 2109, 'whos': 2110, 'bigger': 2111, 'islands': 2112, 'credited': 2113, 'understanding': 2114, 'walmart': 2115, 'score': 2116, 'apps': 2117, 'rofl': 2118, 'anti': 2119, 'various': 2120, 'textcomp': 2121, 'morn': 2122, 'docs': 2123, 'havin': 2124, 'rang': 2125, 'sorted': 2126, 'jane': 2127, 'fran': 2128, 'knackered': 2129, 'software': 2130, 'lions': 2131, 'whenevr': 2132, 'among': 2133, 'chill': 2134, 'chillin': 2135, 'chain': 2136, 'arrested': 2137, 'suntec': 2138, 'messenger': 2139, 'tom': 2140, 'upload': 2141, 'shot': 2142, 'popped': 2143, 'shld': 2144, 'caring': 2145, 'option': 2146, 'arsenal': 2147, 'painful': 2148, 'missin': 2149, 'guilty': 2150, 'cardiff': 2151, 'addie': 2152, 'pod': 2153, 'certainly': 2154, 'claire': 2155, 'twelve': 2156, 'aah': 2157, 'xxxxxxxxx': 2158, 'hubby': 2159, 'minmobsmorelkpobox': 2160, 'nature': 2161, 'blake': 2162, 'lotr': 2163, 'stars': 2164, 'karaoke': 2165, 'eight': 2166, 'file': 2167, 'jhl': 2168, 'prospects': 2169, 'buff': 2170, 'preferably': 2171, 'gang': 2172, 'tablets': 2173, 'finishing': 2174, 'doors': 2175, 'brothas': 2176, 'chasing': 2177, 'freezing': 2178, 'ringtoneking': 2179, 'winning': 2180, 'titles': 2181, 'switch': 2182, 'monthly': 2183, 'ideas': 2184, 'remain': 2185, 'cramps': 2186, 'nan': 2187, 'likes': 2188, 'dislikes': 2189, 'promises': 2190, 'album': 2191, 'connect': 2192, 'standing': 2193, 'james': 2194, 'follow': 2195, 'stuck': 2196, 'regarding': 2197, 'adore': 2198, 'settings': 2199, 'philosophy': 2200, 'prizes': 2201, 'husband': 2202, 'subscribe': 2203, 'toa': 2204, 'payoh': 2205, 'fathima': 2206, 'mmmm': 2207, 'ps': 2208, 'nearly': 2209, 'beyond': 2210, 'abta': 2211, 'table': 2212, 'ikea': 2213, 'kadeem': 2214, 'se': 2215, 'wud': 2216, 'carry': 2217, 'avatar': 2218, 'stops': 2219, 'constantly': 2220, 'toclaim': 2221, 'stockport': 2222, 'lousy': 2223, 'ic': 2224, 'boat': 2225, 'proof': 2226, 'provided': 2227, 'yeh': 2228, 'downloads': 2229, 'members': 2230, 'major': 2231, 'birth': 2232, 'rule': 2233, 'freefone': 2234, 'natural': 2235, 'onwards': 2236, 'eggs': 2237, 'lie': 2238, 'boost': 2239, 'calicut': 2240, 'pink': 2241, 'normally': 2242, 'rich': 2243, 'eng': 2244, 'yor': 2245, 'jason': 2246, 'art': 2247, 'med': 2248, 'argh': 2249, 'aunty': 2250, 'china': 2251, 'morphine': 2252, 'prefer': 2253, 'kindly': 2254, 'sed': 2255, 'pending': 2256, 'frndship': 2257, 'legs': 2258, 'distance': 2259, 'display': 2260, 'soup': 2261, 'management': 2262, 'include': 2263, 'regular': 2264, 'lounge': 2265, 'cornwall': 2266, 'bags': 2267, 'iscoming': 2268, 'halloween': 2269, 'issue': 2270, 'football': 2271, 'measure': 2272, 'impossible': 2273, 'okey': 2274, 'murdered': 2275, 'maid': 2276, 'murderer': 2277, 'brilliant': 2278, 'science': 2279, 'madam': 2280, 'settle': 2281, 'bloo': 2282, 'indians': 2283, 'citizen': 2284, 'sry': 2285, 'greetings': 2286, 'dai': 2287, 'maga': 2288, 'medicine': 2289, 'incident': 2290, 'violence': 2291, 'erm': 2292, 'instructions': 2293, 'lp': 2294, 'death': 2295, 'wrk': 2296, 'reality': 2297, 'usc': 2298, 'booty': 2299, 'lil': 2300, 'response': 2301, 'pouts': 2302, 'stomps': 2303, 'sports': 2304, 'shirts': 2305, 'petrol': 2306, 'uks': 2307, 'luxury': 2308, 'ben': 2309, 'middle': 2310, 'dark': 2311, 'enuff': 2312, 'contents': 2313, 'iz': 2314, 'handle': 2315, 'note': 2316, 'moved': 2317, 'seat': 2318, 'dress': 2319, 'collecting': 2320, 'flaked': 2321, 'gary': 2322, 'history': 2323, 'bell': 2324, 'understood': 2325, 'bottom': 2326, 'crab': 2327, 'footprints': 2328, 'changes': 2329, 'books': 2330, 'knowing': 2331, 'challenge': 2332, 'randomly': 2333, 'tape': 2334, 'films': 2335, 'lick': 2336, 'auto': 2337, 'asks': 2338, 'deliveredtomorrow': 2339, 'smoking': 2340, 'billed': 2341, 'callback': 2342, 'wedding': 2343, 'accident': 2344, 'cann': 2345, 'symbol': 2346, 'mega': 2347, 'prolly': 2348, 'confirmed': 2349, 'dubsack': 2350, 'macho': 2351, 'audition': 2352, 'fell': 2353, 'senthil': 2354, 'eaten': 2355, 'possession': 2356, 'concert': 2357, 'affairs': 2358, 'university': 2359, 'california': 2360, 'value': 2361, 'mnth': 2362, 'tog': 2363, 'evry': 2364, 'haiz': 2365, 'loss': 2366, 'previous': 2367, 'captain': 2368, 'dsn': 2369, 'warner': 2370, 'wallpaper': 2371, 'bottle': 2372, 'buffet': 2373, 'fa': 2374, 'tkts': 2375, 'hor': 2376, 'melle': 2377, 'oru': 2378, 'callers': 2379, 'blessing': 2380, 'xxxmobilemovieclub': 2381, 'goals': 2382, 'slice': 2383, 'convincing': 2384, 'sarcastic': 2385, 'fear': 2386, 'mmmmmm': 2387, 'burns': 2388, 'hospitals': 2389, 'eighth': 2390, 'sptv': 2391, 'detroit': 2392, 'hockey': 2393, 'suprman': 2394, 'matrix': 2395, 'starwars': 2396, 'odi': 2397, 'killing': 2398, 'iq': 2399, 'advise': 2400, 'recent': 2401, 'valuable': 2402, 'divorce': 2403, 'earn': 2404, 'jacket': 2405, 'nitros': 2406, 'ela': 2407, 'collected': 2408, 'mix': 2409, 'verify': 2410, 'telugu': 2411, 'loans': 2412, 'location': 2413, 'jokes': 2414, 'noun': 2415, 'gent': 2416, 'sentence': 2417, 'puttin': 2418, 'cabin': 2419, 'goodo': 2420, 'potato': 2421, 'tortilla': 2422, 'ansr': 2423, 'tyrone': 2424, 'msn': 2425, 'befor': 2426, 'activities': 2427, 'pouch': 2428, 'somtimes': 2429, 'occupy': 2430, 'hearts': 2431, 'dot': 2432, 'randy': 2433, 'flowing': 2434, 'plaza': 2435, 'everywhere': 2436, 'windows': 2437, 'mouth': 2438, 'bootydelious': 2439, 'module': 2440, 'avoid': 2441, 'beloved': 2442, 'completed': 2443, 'stays': 2444, 'hamster': 2445, 'successfully': 2446, 'ericsson': 2447, 'bruv': 2448, 'rewarding': 2449, 'heading': 2450, 'register': 2451, 'os': 2452, 'installing': 2453, 'repair': 2454, 'horo': 2455, 'star': 2456, 'conducts': 2457, 'printed': 2458, 'upstairs': 2459, 'theory': 2460, 'argue': 2461, 'shining': 2462, 'signing': 2463, 'although': 2464, 'touched': 2465, 'commercial': 2466, 'ranjith': 2467, 'lag': 2468, 'necessarily': 2469, 'headin': 2470, 'jolt': 2471, 'suzy': 2472, 'wt': 2473, 'chart': 2474, 'bay': 2475, 'percent': 2476, 'gf': 2477, 'tool': 2478, 'jenny': 2479, 'tease': 2480, 'shocking': 2481, 'crash': 2482, 'taxi': 2483, 'actor': 2484, 'blind': 2485, 'hide': 2486, 'thread': 2487, 'funky': 2488, 'belovd': 2489, 'enemy': 2490, 'tahan': 2491, 'anot': 2492, 'lo': 2493, 'buses': 2494, 'bristol': 2495, 'apo': 2496, 'prepayment': 2497, 'violated': 2498, 'privacy': 2499, 'paperwork': 2500, 'caroline': 2501, 'gudnite': 2502, 'slap': 2503, 'tissco': 2504, 'tayseer': 2505, 'unemployed': 2506, 'audrey': 2507, 'status': 2508, 'cuddling': 2509, 'agree': 2510, 'recognise': 2511, 'hes': 2512, 'ovulation': 2513, 'licks': 2514, 'mobilesdirect': 2515, 'salam': 2516, 'sharing': 2517, 'grace': 2518, 'inshah': 2519, 'field': 2520, 'administrator': 2521, 'pw': 2522, 'shipped': 2523, 'loxahatchee': 2524, 'burning': 2525, 'slightly': 2526, 'fav': 2527, 'darlings': 2528, 'wld': 2529, 'sender': 2530, 'ch': 2531, 'txttowin': 2532, 'mobno': 2533, 'adam': 2534, 'txtno': 2535, 'ads': 2536, 'siva': 2537, 'speaking': 2538, 'expression': 2539, 'aathi': 2540, 'lacs': 2541, 'amt': 2542, 'applebees': 2543, 'sachin': 2544, 'improve': 2545, 'purpose': 2546, 'tenants': 2547, 'refused': 2548, 'oreo': 2549, 'truffles': 2550, 'amy': 2551, 'decisions': 2552, 'coping': 2553, 'individual': 2554, 'position': 2555, 'language': 2556, 'screamed': 2557, 'removed': 2558, 'differ': 2559, 'broken': 2560, 'infront': 2561, 'wise': 2562, 'tension': 2563, 'taste': 2564, 'trade': 2565, 'rec': 2566, 'hyde': 2567, 'anthony': 2568, 'spl': 2569, 'stylish': 2570, 'scrounge': 2571, 'forgiven': 2572, 'slide': 2573, 'renewal': 2574, 'transport': 2575, 'definite': 2576, 'nos': 2577, 'ebay': 2578, 'tacos': 2579, 'mas': 2580, 'develop': 2581, 'ability': 2582, 'recovery': 2583, 'cali': 2584, 'cutting': 2585, 'reminding': 2586, 'owns': 2587, 'faggy': 2588, 'demand': 2589, 'fo': 2590, 'loose': 2591, 'pan': 2592, 'perhaps': 2593, 'mei': 2594, 'geeeee': 2595, 'jen': 2596, 'oooh': 2597, 'ey': 2598, 'claims': 2599, 'dancing': 2600, 'hardly': 2601, 'ag': 2602, 'promo': 2603, 'tsunamis': 2604, 'soiree': 2605, 'ques': 2606, 'suits': 2607, 'uncles': 2608, 'shock': 2609, 'reaction': 2610, 'grow': 2611, 'useful': 2612, 'officially': 2613, 'textbuddy': 2614, 'gaytextbuddy': 2615, 'hundred': 2616, 'expressoffer': 2617, 'sweetheart': 2618, 'biola': 2619, 'effects': 2620, 'wee': 2621, 'trains': 2622, 'jolly': 2623, 'cartoon': 2624, 'temple': 2625, 'church': 2626, 'rstm': 2627, 'panic': 2628, 'dealer': 2629, 'impatient': 2630, 'river': 2631, 'premium': 2632, 'en': 2633, 'posts': 2634, 'peace': 2635, 'yelling': 2636, 'hex': 2637, 'sue': 2638, 'cochin': 2639, 'poop': 2640, 'gpu': 2641, 'dorm': 2642, 'mobilesvary': 2643, 'px': 2644, 'cookies': 2645, 'admit': 2646, 'correction': 2647, 'spring': 2648, 'ctxt': 2649, 'attached': 2650, 'shouted': 2651, 'helpline': 2652, 'gist': 2653, 'thousands': 2654, 'premier': 2655, 'lip': 2656, 'confused': 2657, 'spare': 2658, 'faith': 2659, 'yf': 2660, 'schools': 2661, 'inch': 2662, 'begging': 2663, 'opening': 2664, 'subpoly': 2665, 'pole': 2666, 'thot': 2667, 'dictionary': 2668, 'petey': 2669, 'nic': 2670, 'cashto': 2671, 'getstop': 2672, 'php': 2673, 'rg': 2674, 'imp': 2675, 'bec': 2676, 'nervous': 2677, 'borrow': 2678, 'galileo': 2679, 'dobby': 2680, 'loveme': 2681, 'cappuccino': 2682, 'mojibiola': 2683, 'hol': 2684, 'skyped': 2685, 'kz': 2686, 'given': 2687, 'ultimatum': 2688, 'countin': 2689, 'aburo': 2690, 'successful': 2691, 'inconsiderate': 2692, 'nag': 2693, 'recession': 2694, 'hence': 2695, 'soo': 2696, 'warning': 2697, 'shoes': 2698, 'worlds': 2699, 'discreet': 2700, 'named': 2701, 'genius': 2702, 'connections': 2703, 'lotta': 2704, 'lately': 2705, 'supply': 2706, 'virgin': 2707, 'mystery': 2708, 'smsco': 2709, 'approx': 2710, 'consider': 2711, 'peaceful': 2712, 'xxxxxx': 2713, 'castor': 2714, 'liverpool': 2715, 'stopsms': 2716, 'downloaded': 2717, 'ear': 2718, 'oil': 2719, 'mac': 2720, 'usb': 2721, 'gibbs': 2722, 'unbelievable': 2723, 'murder': 2724, 'superb': 2725, 'several': 2726, 'worst': 2727, 'charles': 2728, 'stores': 2729, 'peak': 2730, 'sweets': 2731, 'chip': 2732, 'addicted': 2733, 'msging': 2734, 'yck': 2735, 'ashley': 2736, 'million': 2737, 'lux': 2738, 'jeans': 2739, 'bleh': 2740, 'tons': 2741, 'scores': 2742, 'application': 2743, 'ms': 2744, 'gravity': 2745, 'carefully': 2746, 'filthy': 2747, 'magical': 2748, 'necklace': 2749, 'racing': 2750, 'rice': 2751, 'closes': 2752, 'crap': 2753, 'borin': 2754, 'chocolate': 2755, 'potential': 2756, 'talent': 2757, 'reckon': 2758, 'polyph': 2759, 'tech': 2760, 'quiet': 2761, 'aunts': 2762, 'helen': 2763, 'fan': 2764, 'lovers': 2765, 'drove': 2766, 'anniversary': 2767, 'pen': 2768, 'secretly': 2769, 'datebox': 2770, 'essexcm': 2771, 'xn': 2772, 'pattern': 2773, 'plm': 2774, 'sheffield': 2775, 'zoe': 2776, 'setting': 2777, 'filling': 2778, 'sufficient': 2779, 'thx': 2780, 'speechless': 2781, 'gm': 2782, 'hb': 2783, 'concentrate': 2784, 'flirting': 2785, 'sells': 2786, 'thesis': 2787, 'sends': 2788, 'deciding': 2789, 'prepared': 2790, 'oi': 2791, 'dem': 2792, 'thoughts': 2793, 'breath': 2794, 'craziest': 2795, 'planet': 2796, 'singing': 2797, 'curry': 2798, 'evn': 2799, 'itz': 2800, 'alwys': 2801, 'fret': 2802, 'depressed': 2803, 'wind': 2804, 'math': 2805, 'dhoni': 2806, 'rocks': 2807, 'durban': 2808, 'speedchat': 2809, 'survey': 2810, 'difficulties': 2811, 'sar': 2812, 'tank': 2813, 'fil': 2814, 'silently': 2815, 'drms': 2816, 'wrc': 2817, 'rally': 2818, 'lucozade': 2819, 'le': 2820, 'toot': 2821, 'annoying': 2822, 'makin': 2823, 'popcorn': 2824, 'celeb': 2825, 'pocketbabe': 2826, 'voicemail': 2827, 'appreciated': 2828, 'apart': 2829, 'creepy': 2830, 'txtin': 2831, 'invest': 2832, 'delay': 2833, 'purse': 2834, 'europe': 2835, 'flip': 2836, 'executive': 2837, 'weirdest': 2838, 'minmoremobsemspobox': 2839, 'tee': 2840, 'dough': 2841, 'control': 2842, 'express': 2843, 'drinkin': 2844, 'birthdate': 2845, 'nydc': 2846, 'favour': 2847, 'ola': 2848, 'garbage': 2849, 'items': 2850, 'gold': 2851, 'logos': 2852, 'lionm': 2853, 'lionp': 2854, 'jokin': 2855, 'colours': 2856, 'remembr': 2857, 'potter': 2858, 'phoenix': 2859, 'readers': 2860, 'canada': 2861, 'cares': 2862, 'goodnoon': 2863, 'patty': 2864, 'interest': 2865, 'saucy': 2866, 'theres': 2867, 'tmrw': 2868, 'soul': 2869, 'ned': 2870, 'hurting': 2871, 'main': 2872, 'sweetie': 2873, 'whn': 2874, 'dance': 2875, 'bar': 2876, 'gently': 2877, 'bears': 2878, 'juan': 2879, 'ideal': 2880, 'front': 2881, 'arm': 2882, 'tirunelvali': 2883, 'effect': 2884, 'kidding': 2885, 'stretch': 2886, 'urn': 2887, 'beware': 2888, 'kaiez': 2889, 'practicing': 2890, 'babies': 2891, 'goodnite': 2892, 'silver': 2893, 'silence': 2894, 'revision': 2895, 'exeter': 2896, 'whose': 2897, 'condition': 2898, 'coat': 2899, 'tues': 2900, 'restaurant': 2901, 'desperate': 2902, 'monkeys': 2903, 'practical': 2904, 'mails': 2905, 'costing': 2906, 'lyfu': 2907, 'lyf': 2908, 'ali': 2909, 'ke': 2910, 'program': 2911, 'meow': 2912, 'ny': 2913, 'msgrcvd': 2914, 'lucy': 2915, 'modules': 2916, 'purity': 2917, 'jsco': 2918, 'testing': 2919, 'nit': 2920, 'format': 2921, 'sarcasm': 2922, 'forum': 2923, 'aunt': 2924, 'unfortunately': 2925, 'yuo': 2926, 'ese': 2927, 'tihs': 2928, 'ow': 2929, 'joining': 2930, 'finance': 2931, 'filled': 2932, 'jia': 2933, 'sux': 2934, 'rhythm': 2935, 'adventure': 2936, 'wifi': 2937, 'boyfriend': 2938, 'driver': 2939, 'kicks': 2940, 'dime': 2941, 'force': 2942, 'fire': 2943, 'flame': 2944, 'propose': 2945, 'blame': 2946, 'blessings': 2947, 'batch': 2948, 'flaky': 2949, 'sooooo': 2950, 'tooo': 2951, 'confuses': 2952, 'british': 2953, 'hotels': 2954, 'adoring': 2955, 'dracula': 2956, 'ghost': 2957, 'addamsfa': 2958, 'munsters': 2959, 'exorcist': 2960, 'twilight': 2961, 'constant': 2962, 'cared': 2963, 'allow': 2964, 'feelin': 2965, 'hlp': 2966, 'fly': 2967, 'event': 2968, 'movietrivia': 2969, 'partnership': 2970, 'mostly': 2971, 'maintain': 2972, 'sh': 2973, 'poker': 2974, 'messy': 2975, 'traffic': 2976, 'moves': 2977, 'slip': 2978, 'nus': 2979, 'keeps': 2980, 'gotten': 2981, 'unknown': 2982, 'pre': 2983, 'stick': 2984, 'indeed': 2985, 'rents': 2986, 'chosen': 2987, 'easter': 2988, 'telephone': 2989, 'di': 2990, 'bahamas': 2991, 'cruise': 2992, 'calm': 2993, 'becomes': 2994, 'habit': 2995, 'contacts': 2996, 'forgets': 2997, 'atlanta': 2998, 'recharge': 2999, 'fills': 3000, 'gaps': 3001, 'arun': 3002, 'eye': 3003, 'desparate': 3004, 'fake': 3005, 'combine': 3006, 'sian': 3007, 'joanna': 3008, 'replacement': 3009, 'telly': 3010, 'mth': 3011, 'tooth': 3012, 'wipro': 3013, 'delete': 3014, 'laundry': 3015, 'underwear': 3016, 'waheed': 3017, 'pushes': 3018, 'avoiding': 3019, 'uh': 3020, 'heads': 3021, 'vday': 3022, 'build': 3023, 'snowman': 3024, 'fights': 3025, 'ofice': 3026, 'cn': 3027, 'prescription': 3028, 'cook': 3029, 'electricity': 3030, 'fujitsu': 3031, 'scold': 3032, 'prompts': 3033, 'disturbing': 3034, 'flies': 3035, 'woken': 3036, 'aka': 3037, 'delhi': 3038, 'held': 3039, 'fringe': 3040, 'distract': 3041, 'mel': 3042, 'responsibility': 3043, 'skillgame': 3044, 'winaweek': 3045, 'ppermesssubscription': 3046, 'kid': 3047, 'affair': 3048, 'aom': 3049, 'parco': 3050, 'nb': 3051, 'hallaq': 3052, 'lyk': 3053, 'bck': 3054, 'color': 3055, 'gender': 3056, 'mca': 3057, 'yer': 3058, 'vomiting': 3059, 'rub': 3060, 'clever': 3061, 'ryan': 3062, 'xam': 3063, 'manage': 3064, 'shitload': 3065, 'diamonds': 3066, 'nimya': 3067, 'mcat': 3068, 'sacrifice': 3069, 'beg': 3070, 'stayin': 3071, 'satisfy': 3072, 'cld': 3073, 'killed': 3074, 'minuts': 3075, 'latr': 3076, 'kidz': 3077, 'smashed': 3078, 'tok': 3079, 'specific': 3080, 'figures': 3081, 'cousin': 3082, 'excuses': 3083, 'neck': 3084, 'continue': 3085, 'holy': 3086, 'billion': 3087, 'classes': 3088, 'youre': 3089, 'turning': 3090, 'belive': 3091, 'slots': 3092, 'discussed': 3093, 'temp': 3094, 'prem': 3095, 'morro': 3096, 'spoiled': 3097, 'threats': 3098, 'sales': 3099, 'complaint': 3100, 'lk': 3101, 'lov': 3102, 'bedrm': 3103, 'waited': 3104, 'huge': 3105, 'mids': 3106, 'oranges': 3107, 'upd': 3108, 'annie': 3109, 'mailbox': 3110, 'messaging': 3111, 'retrieve': 3112, 'hrishi': 3113, 'nothin': 3114, 'cheer': 3115, 'duchess': 3116, 'nahi': 3117, 'zindgi': 3118, 'wo': 3119, 'jo': 3120, 'dan': 3121, 'aww': 3122, 'staring': 3123, 'unnecessarily': 3124, 'weigh': 3125, 'expired': 3126, 'opinions': 3127, 'thm': 3128, 'wn': 3129, 'instantly': 3130, 'drinking': 3131, 'paragon': 3132, 'arent': 3133, 'bluff': 3134, 'sary': 3135, 'happend': 3136, 'piece': 3137, 'vodka': 3138, 'kg': 3139, 'dumb': 3140, 'dressed': 3141, 'kay': 3142, 'nasty': 3143, 'slo': 3144, 'wasted': 3145, 'christ': 3146, 'solve': 3147, 'cooking': 3148, 'push': 3149, 'answered': 3150, 'rgds': 3151, 'wrote': 3152, 'swiss': 3153, 'crore': 3154, 'jobs': 3155, 'lane': 3156, 'politicians': 3157, 'rights': 3158, 'donno': 3159, 'properly': 3160, 'rr': 3161, 'furniture': 3162, 'lock': 3163, 'shoving': 3164, 'papers': 3165, 'strange': 3166, 'acl': 3167, 'indyarocks': 3168, 'resume': 3169, 'bids': 3170, 'whr': 3171, 'yunny': 3172, 'mmmmm': 3173, 'relatives': 3174, 'benefits': 3175, 'dr': 3176, 'superior': 3177, 'picsfree': 3178, 'vid': 3179, 'ruin': 3180, 'department': 3181, 'conform': 3182, 'bc': 3183, 'toshiba': 3184, 'knock': 3185, 'innocent': 3186, 'mental': 3187, 'hoped': 3188, 'bills': 3189, 'marrow': 3190, 'hon': 3191, 'treated': 3192, 'fab': 3193, 'tiwary': 3194, 'bang': 3195, 'pap': 3196, 'arts': 3197, 'pandy': 3198, 'edu': 3199, 'secretary': 3200, 'dollar': 3201, 'pull': 3202, 'remains': 3203, 'bro': 3204, 'bros': 3205, 'nalla': 3206, 'northampton': 3207, 'abj': 3208, 'serving': 3209, 'smith': 3210, 'neither': 3211, 'hugs': 3212, 'snogs': 3213, 'west': 3214, 'fastest': 3215, 'growing': 3216, 'chase': 3217, 'steam': 3218, 'reg': 3219, 'public': 3220, 'govt': 3221, 'instituitions': 3222, 'canary': 3223, 'sleepy': 3224, 'mag': 3225, 'diwali': 3226, 'onion': 3227, 'thgt': 3228, 'lower': 3229, 'exhaust': 3230, 'pee': 3231, 'success': 3232, 'division': 3233, 'creep': 3234, 'lies': 3235, 'property': 3236, 'interflora': 3237, 'bbd': 3238, 'pimples': 3239, 'yellow': 3240, 'frog': 3241, 'doubt': 3242, 'strike': 3243, 'coin': 3244, 'freedom': 3245, 'twenty': 3246, 'painting': 3247, 'nowadays': 3248, 'talks': 3249, 'probs': 3250, 'swatch': 3251, 'ganesh': 3252, 'trips': 3253, 'geva': 3254, 'wuld': 3255, 'solved': 3256, 'ing': 3257, 'sake': 3258, 'bruce': 3259, 'teaching': 3260, 'chest': 3261, 'covers': 3262, 'brief': 3263, 'hang': 3264, 'reboot': 3265, 'phoned': 3266, 'improved': 3267, 'hm': 3268, 'salon': 3269, 'evenings': 3270, 'raj': 3271, 'payment': 3272, 'shore': 3273, 'waves': 3274, 'clearing': 3275, 'range': 3276, 'topic': 3277, 'admin': 3278, 'visionsms': 3279, 'andros': 3280, 'meets': 3281, 'foot': 3282, 'penis': 3283, 'sigh': 3284, 'vth': 3285, 'eveb': 3286, 'window': 3287, 'removal': 3288, 'blow': 3289, 'cancelled': 3290, 'lookatme': 3291, 'agalla': 3292, 'xxxxx': 3293, 'count': 3294, 'otside': 3295, 'size': 3296, 'tight': 3297, 'av': 3298, 'everyday': 3299, 'curious': 3300, 'postcard': 3301, 'bread': 3302, 'mahal': 3303, 'praying': 3304, 'ding': 3305, 'allowed': 3306, 'necessary': 3307, 'messaged': 3308, 'deus': 3309, 'tap': 3310, 'spile': 3311, 'broad': 3312, 'canal': 3313, 'engin': 3314, 'edge': 3315, 'east': 3316, 'howard': 3317, 'cooked': 3318, 'cheat': 3319, 'block': 3320, 'fromm': 3321, 'ruining': 3322, 'ee': 3323, 'easily': 3324, 'selfish': 3325, 'custom': 3326, 'sac': 3327, 'jiayin': 3328, 'tg': 3329, 'forgotten': 3330, 'waxsto': 3331, 'minimum': 3332, 'elaine': 3333, 'drunken': 3334, 'mess': 3335, 'crisis': 3336, 'ths': 3337, 'mb': 3338, 'desires': 3339, 'bloomberg': 3340, 'priscilla': 3341, 'wisdom': 3342, 'kent': 3343, 'vale': 3344, 'prince': 3345, 'granite': 3346, 'explosive': 3347, 'nasdaq': 3348, 'cdgt': 3349, 'base': 3350, 'placement': 3351, 'sumthin': 3352, 'lion': 3353, 'devouring': 3354, 'airtel': 3355, 'processed': 3356, 'forums': 3357, 'shahjahan': 3358, 'ship': 3359, 'causing': 3360, 'xin': 3361, 'lib': 3362, 'difference': 3363, 'despite': 3364, 'swoop': 3365, 'langport': 3366, 'forevr': 3367, 'mistakes': 3368, 'vegas': 3369, 'lou': 3370, 'vewy': 3371, 'pool': 3372, 'stayed': 3373, 'stones': 3374, 'atlast': 3375, 'stone': 3376, 'desert': 3377, 'funeral': 3378, 'vivek': 3379, 'tnc': 3380, 'brah': 3381, 'blu': 3382, 'ipad': 3383, 'bird': 3384, 'cheese': 3385, 'tms': 3386, 'widelive': 3387, 'index': 3388, 'wml': 3389, 'hsbc': 3390, 'wave': 3391, 'asp': 3392, 'melt': 3393, 'eek': 3394, 'heater': 3395, 'eta': 3396, 'dial': 3397, 'literally': 3398, 'kothi': 3399, 'prof': 3400, 'sem': 3401, 'student': 3402, 'actual': 3403, 'sathya': 3404, 'dealing': 3405, 'reasonable': 3406, 'kappa': 3407, 'piss': 3408, 'receipts': 3409, 'guessing': 3410, 'royal': 3411, 'sticky': 3412, 'indicate': 3413, 'repeat': 3414, 'calculation': 3415, 'blur': 3416, 'clothes': 3417, 'lush': 3418, 'fucked': 3419, 'beauty': 3420, 'ball': 3421, 'moving': 3422, 'sunlight': 3423, 'jogging': 3424, 'mokka': 3425, 'bone': 3426, 'steve': 3427, 'epsilon': 3428, 'lst': 3429, 'massive': 3430, 'forms': 3431, 'polo': 3432, 'academic': 3433, 'convinced': 3434, 'coast': 3435, 'suppose': 3436, 'explicit': 3437, 'secs': 3438, 'clearly': 3439, 'gain': 3440, 'realise': 3441, 'mnths': 3442, 'txtstop': 3443, 'managed': 3444, 'capital': 3445, 'acted': 3446, 'mis': 3447, 'loyal': 3448, 'customers': 3449, 'print': 3450, 'dokey': 3451, 'error': 3452, 'sleepin': 3453, 'minor': 3454, 'cashbin': 3455, 'denis': 3456, 'woulda': 3457, 'miserable': 3458, 'shoppin': 3459, 'celebration': 3460, 'nuther': 3461, 'infections': 3462, 'kiosk': 3463, 'henry': 3464, 'parent': 3465, 'select': 3466, 'woot': 3467, 'dining': 3468, 'donate': 3469, 'cme': 3470, 'parking': 3471, 'goldviking': 3472, 'sarasota': 3473, 'cherish': 3474, 'natalie': 3475, 'eva': 3476, 'favorite': 3477, 'pride': 3478, 'respectful': 3479, 'amused': 3480, 'shu': 3481, 'island': 3482, 'spider': 3483, 'jurong': 3484, 'amore': 3485, 'chgs': 3486, 'aids': 3487, 'patent': 3488, 'minnaminunginte': 3489, 'nurungu': 3490, 'vettam': 3491, 'receivea': 3492, 'kl': 3493, 'cried': 3494, 'chances': 3495, 'csh': 3496, 'tsandcs': 3497, 'jackpot': 3498, 'dbuk': 3499, 'lccltd': 3500, 'rw': 3501, 'breather': 3502, 'granted': 3503, 'fulfil': 3504, 'qjkgighjjgcbl': 3505, 'gota': 3506, 'macedonia': 3507, 'poboxox': 3508, 'ffffffffff': 3509, 'forced': 3510, 'packing': 3511, 'ahhh': 3512, 'vaguely': 3513, 'apologetic': 3514, 'fallen': 3515, 'actin': 3516, 'spoilt': 3517, 'badly': 3518, 'fainting': 3519, 'housework': 3520, 'cuppa': 3521, 'timings': 3522, 'watts': 3523, 'arabian': 3524, 'steed': 3525, 'rodger': 3526, 'endowed': 3527, 'hep': 3528, 'immunisation': 3529, 'stubborn': 3530, 'sucker': 3531, 'suckers': 3532, 'thinked': 3533, 'smarter': 3534, 'crashing': 3535, 'accomodations': 3536, 'cave': 3537, 'offered': 3538, 'embarassing': 3539, 'jersey': 3540, 'devils': 3541, 'wings': 3542, 'incorrect': 3543, 'mallika': 3544, 'sherawat': 3545, 'gauti': 3546, 'sehwag': 3547, 'seekers': 3548, 'dedicated': 3549, 'dedicate': 3550, 'eurodisinc': 3551, 'trav': 3552, 'aco': 3553, 'morefrmmob': 3554, 'shracomorsglsuplt': 3555, 'aj': 3556, 'barbie': 3557, 'ken': 3558, 'performed': 3559, 'peoples': 3560, 'operate': 3561, 'multis': 3562, 'factory': 3563, 'casualty': 3564, 'includes': 3565, 'pours': 3566, 'usher': 3567, 'britney': 3568, 'hairdressers': 3569, 'beforehand': 3570, 'ams': 3571, 'signin': 3572, 'memorable': 3573, 'minecraft': 3574, 'server': 3575, 'grumpy': 3576, 'lying': 3577, 'plural': 3578, 'openin': 3579, 'formal': 3580, 'ratio': 3581, 'wr': 3582, 'apples': 3583, 'pairs': 3584, 'malarky': 3585, 'sao': 3586, 'predict': 3587, 'involve': 3588, 'imposed': 3589, 'lucyxx': 3590, 'tmorrow': 3591, 'accomodate': 3592, 'algarve': 3593, 'gravel': 3594, 'hotmail': 3595, 'svc': 3596, 'nver': 3597, 'ummma': 3598, 'sindu': 3599, 'nevering': 3600, 'typical': 3601, 'dirt': 3602, 'chores': 3603, 'exist': 3604, 'hail': 3605, 'mist': 3606, 'aaooooright': 3607, 'annoncement': 3608, 'envy': 3609, 'excited': 3610, 'bangbabes': 3611, 'bangb': 3612, 'cultures': 3613, 'missunderstding': 3614, 'bridge': 3615, 'lager': 3616, 'form': 3617, 'clark': 3618, 'utter': 3619, 'axis': 3620, 'surname': 3621, 'clue': 3622, 'begins': 3623, 'maneesha': 3624, 'satisfied': 3625, 'toll': 3626, 'lifted': 3627, 'hopes': 3628, 'approaches': 3629, 'handsome': 3630, 'finding': 3631, 'areyouunique': 3632, 'league': 3633, 'ors': 3634, 'stool': 3635, 'wishin': 3636, 'babyjontet': 3637, 'enc': 3638, 'refilled': 3639, 'inr': 3640, 'keralacircle': 3641, 'prepaid': 3642, 'kr': 3643, 'alter': 3644, 'dats': 3645, 'dogg': 3646, 'refund': 3647, 'prediction': 3648, 'ubandu': 3649, 'disk': 3650, 'scenery': 3651, 'flyng': 3652, 'aries': 3653, 'elama': 3654, 'mudyadhu': 3655, 'strict': 3656, 'gandhipuram': 3657, 'rubber': 3658, 'thirtyeight': 3659, 'loses': 3660, 'hearing': 3661, 'pleassssssseeeeee': 3662, 'sportsx': 3663, 'baig': 3664, 'watches': 3665, 'drpd': 3666, 'deeraj': 3667, 'deepak': 3668, 'bcums': 3669, 'affection': 3670, 'kettoda': 3671, 'manda': 3672, 'ups': 3673, 'usps': 3674, 'bribe': 3675, 'nipost': 3676, 'luton': 3677, 'sometme': 3678, 'mk': 3679, 'evo': 3680, 'narcotics': 3681, 'genuine': 3682, 'objection': 3683, 'rob': 3684, 'mack': 3685, 'theater': 3686, 'celebrations': 3687, 'ahold': 3688, 'cruisin': 3689, 'varunnathu': 3690, 'edukkukayee': 3691, 'raksha': 3692, 'ollu': 3693, 'buzy': 3694, 'resend': 3695, 'thfeb': 3696, 'gurl': 3697, 'appropriate': 3698, 'grave': 3699, 'diesel': 3700, 'fridge': 3701, 'womdarfull': 3702, 'rodds': 3703, 'aberdeen': 3704, 'united': 3705, 'kingdom': 3706, 'img': 3707, 'icmb': 3708, 'cktz': 3709, 'remb': 3710, 'jos': 3711, 'bookshelf': 3712, 'clos': 3713, 'lvblefrnd': 3714, 'jstfrnd': 3715, 'cutefrnd': 3716, 'lifpartnr': 3717, 'swtheart': 3718, 'bstfrnd': 3719, 'winnersclub': 3720, 'mylife': 3721, 'gon': 3722, 'guild': 3723, 'evaporated': 3724, 'stealing': 3725, 'employer': 3726, 'daaaaa': 3727, 'wined': 3728, 'dined': 3729, 'hiding': 3730, 'huiming': 3731, 'prestige': 3732, 'shag': 3733, 'sextextuk': 3734, 'xxuk': 3735, 'jeremiah': 3736, 'iphone': 3737, 'apeshit': 3738, 'misbehaved': 3739, 'safely': 3740, 'onam': 3741, 'sirji': 3742, 'tata': 3743, 'aig': 3744, 'andrews': 3745, 'db': 3746, 'dawns': 3747, 'refreshed': 3748, 'z': 3749, 'rp': 3750, 'regalportfolio': 3751, 'uniform': 3752, 'spoil': 3753, 'lindsay': 3754, 'bars': 3755, 'heron': 3756, 'payasam': 3757, 'rinu': 3758, 'taught': 3759, 'becaus': 3760, 'verifying': 3761, 'prabu': 3762, 'repairs': 3763, 'followin': 3764, 'wallet': 3765, 'dx': 3766, 'owl': 3767, 'kickboxing': 3768, 'lap': 3769, 'performance': 3770, 'calculated': 3771, 'wahleykkum': 3772, 'visitor': 3773, 'stoners': 3774, 'disastrous': 3775, 'busetop': 3776, 'iron': 3777, 'okies': 3778, 'wendy': 3779, 'whatsup': 3780, 'sentiment': 3781, 'rowdy': 3782, 'attitude': 3783, 'attractive': 3784, 'urination': 3785, 'bmw': 3786, 'urgently': 3787, 'shortage': 3788, 'source': 3789, 'arng': 3790, 'hillsborough': 3791, 'shoul': 3792, 'hasnt': 3793, 'bhaji': 3794, 'cricketer': 3795, 'werethe': 3796, 'monkeespeople': 3797, 'monkeyaround': 3798, 'howdy': 3799, 'blimey': 3800, 'exercise': 3801, 'concentration': 3802, 'hanks': 3803, 'lotsly': 3804, 'detail': 3805, 'optimistic': 3806, 'homeowners': 3807, 'previously': 3808, 'consistently': 3809, 'practicum': 3810, 'links': 3811, 'ears': 3812, 'wavering': 3813, 'heal': 3814, 'upgrdcentre': 3815, 'oral': 3816, 'slippery': 3817, 'bike': 3818, 'okmail': 3819, 'enters': 3820, 'machi': 3821, 'mcr': 3822, 'jaykwon': 3823, 'thuglyfe': 3824, 'falconerf': 3825, 'faded': 3826, 'glory': 3827, 'ralphs': 3828, 'reunion': 3829, 'accenture': 3830, 'jackson': 3831, 'reache': 3832, 'fightng': 3833, 'dificult': 3834, 'nuerologist': 3835, 'lolnice': 3836, 'westshore': 3837, 'significance': 3838, 'jada': 3839, 'kusruthi': 3840, 'matured': 3841, 'ammo': 3842, 'ak': 3843, 'soryda': 3844, 'sory': 3845, 'boltblue': 3846, 'jamz': 3847, 'toxic': 3848, 'topped': 3849, 'bubbletext': 3850, 'tgxxrz': 3851, 'problematic': 3852, 'unconscious': 3853, 'adults': 3854, 'abnormally': 3855, 'pickle': 3856, 'recieve': 3857, 'teletext': 3858, 'faggot': 3859, 'bani': 3860, 'leads': 3861, 'buttons': 3862, 'ummmmmaah': 3863, 'applausestore': 3864, 'monthlysubscription': 3865, 'csc': 3866, 'famous': 3867, 'unconditionally': 3868, 'temper': 3869, 'oclock': 3870, 'bash': 3871, 'cooped': 3872, 'invitation': 3873, 'weddin': 3874, 'alibi': 3875, 'sink': 3876, 'paces': 3877, 'cage': 3878, 'surrounded': 3879, 'cuck': 3880, 'deficient': 3881, 'acknowledgement': 3882, 'astoundingly': 3883, 'tactless': 3884, 'oath': 3885, 'magic': 3886, 'silly': 3887, 'uv': 3888, 'causes': 3889, 'mutations': 3890, 'sunscreen': 3891, 'thesedays': 3892, 'bao': 3893, 'sugardad': 3894, 'brownie': 3895, 'ninish': 3896, 'icky': 3897, 'freek': 3898, 'ridden': 3899, 'missy': 3900, 'goggles': 3901, 'arguing': 3902, 'arngd': 3903, 'walkin': 3904, 'unfortuntly': 3905, 'bites': 3906, 'frnt': 3907, 'sayin': 3908, 'textand': 3909, 'jjc': 3910, 'tendencies': 3911, 'meive': 3912, 'gotany': 3913, 'srsly': 3914, 'yi': 3915, 'prix': 3916, 'stands': 3917, 'nitz': 3918, 'blastin': 3919, 'occur': 3920, 'rajnikant': 3921, 'ocean': 3922, 'xclusive': 3923, 'clubsaisai': 3924, 'speciale': 3925, 'zouk': 3926, 'roses': 3927, 'bridgwater': 3928, 'banter': 3929, 'dependents': 3930, 'cer': 3931, 'hundreds': 3932, 'handsomes': 3933, 'beauties': 3934, 'aunties': 3935, 'friendships': 3936, 'dismay': 3937, 'concerned': 3938, 'tootsie': 3939, 'seventeen': 3940, 'ml': 3941, 'fetching': 3942, 'restock': 3943, 'brighten': 3944, 'allo': 3945, 'braved': 3946, 'triumphed': 3947, 'uncomfortable': 3948, 'sonetimes': 3949, 'rough': 3950, 'wesleys': 3951, 'cloud': 3952, 'wikipedia': 3953, 'lays': 3954, 'repent': 3955, 'positions': 3956, 'kama': 3957, 'sutra': 3958, 'nange': 3959, 'bakra': 3960, 'kalstiya': 3961, 'lakhs': 3962, 'ditto': 3963, 'wetherspoons': 3964, 'piggy': 3965, 'freaky': 3966, 'scrappy': 3967, 'sdryb': 3968, 'lapdancer': 3969, 'ppmsg': 3970, 'crying': 3971, 'imprtant': 3972, 'tomorw': 3973, 'cherthala': 3974, 'bfore': 3975, 'tmorow': 3976, 'engaged': 3977, 'entrepreneurs': 3978, 'corporation': 3979, 'prevent': 3980, 'dehydration': 3981, 'fluids': 3982, 'trek': 3983, 'harri': 3984, 'gage': 3985, 'deck': 3986, 'cnupdates': 3987, 'newsletter': 3988, 'alerts': 3989, 'aeronautics': 3990, 'professors': 3991, 'calld': 3992, 'aeroplane': 3993, 'hurried': 3994, 'shitstorm': 3995, 'attributed': 3996, 'sth': 3997, 'specs': 3998, 'macha': 3999, 'mindset': 4000, 'wondar': 4001, 'flim': 4002, 'jelly': 4003, 'scrumptious': 4004, 'dao': 4005, 'jide': 4006, 'visiting': 4007, 'alertfrom': 4008, 'jeri': 4009, 'stewartsize': 4010, 'kbsubject': 4011, 'prescripiton': 4012, 'drvgsto': 4013, 'steak': 4014, 'neglect': 4015, 'prayers': 4016, 'clocks': 4017, 'realised': 4018, 'wahay': 4019, 'gaze': 4020, 'tattoos': 4021, 'caveboy': 4022, 'vibrate': 4023, 'acting': 4024, 'grandmas': 4025, 'hungover': 4026, 'unclaimed': 4027, 'closingdate': 4028, 'claimcode': 4029, 'pmmorefrommobile': 4030, 'bremoved': 4031, 'mobypobox': 4032, 'gua': 4033, 'faber': 4034, 'dramatic': 4035, 'hunting': 4036, 'drunkard': 4037, 'idc': 4038, 'weaseling': 4039, 'trash': 4040, 'punish': 4041, 'beerage': 4042, 'randomlly': 4043, 'fixes': 4044, 'spelling': 4045, 'toppoly': 4046, 'tune': 4047, 'fondly': 4048, 'dogbreath': 4049, 'sounding': 4050, 'weighed': 4051, 'woohoo': 4052, 'uncountable': 4053, 'thmarch': 4054, 'availa': 4055, 'whereare': 4056, 'friendsare': 4057, 'thekingshead': 4058, 'canlove': 4059, 'jx': 4060, 'dled': 4061, 'smokin': 4062, 'boooo': 4063, 'costumes': 4064, 'yowifes': 4065, 'outbid': 4066, 'simonwatson': 4067, 'shinco': 4068, 'plyr': 4069, 'smsrewards': 4070, 'notifications': 4071, 'youi': 4072, 'enjoyin': 4073, 'yourjob': 4074, 'llspeak': 4075, 'soonlots': 4076, 'starshine': 4077, 'sips': 4078, 'smsservices': 4079, 'yourinclusive': 4080, 'bits': 4081, 'hahaha': 4082, 'brain': 4083, 'turned': 4084, 'burial': 4085, 'rv': 4086, 'rvx': 4087, 'comprehensive': 4088, 'prashanthettan': 4089, 'samantha': 4090, 'guitar': 4091, 'impress': 4092, 'doug': 4093, 'realizes': 4094, 'trauma': 4095, 'swear': 4096, 'inner': 4097, 'tigress': 4098, 'urfeeling': 4099, 'bettersn': 4100, 'probthat': 4101, 'overdose': 4102, 'lovejen': 4103, 'ana': 4104, 'sathy': 4105, 'rto': 4106, 'spoons': 4107, 'corvettes': 4108, 'bunkers': 4109, 'posh': 4110, 'chaps': 4111, 'trial': 4112, 'prods': 4113, 'champneys': 4114, 'dob': 4115, 'philosophical': 4116, 'hole': 4117, 'atleast': 4118, 'shakespeare': 4119, 'fixedline': 4120, 'doit': 4121, 'mymoby': 4122, 'woul': 4123, 'curfew': 4124, 'gibe': 4125, 'getsleep': 4126, 'studdying': 4127, 'massages': 4128, 'yoyyooo': 4129, 'permissions': 4130, 'mike': 4131, 'hussey': 4132, 'faglord': 4133, 'nutter': 4134, 'cutter': 4135, 'ctter': 4136, 'cttergg': 4137, 'cttargg': 4138, 'ctargg': 4139, 'ctagg': 4140, 'ie': 4141, 'thus': 4142, 'grateful': 4143, 'happier': 4144, 'agents': 4145, 'experiment': 4146, 'invoices': 4147, 'smell': 4148, 'tobacco': 4149, 'assumed': 4150, 'lastest': 4151, 'stereophonics': 4152, 'marley': 4153, 'dizzee': 4154, 'racal': 4155, 'libertines': 4156, 'strokes': 4157, 'nookii': 4158, 'bookmark': 4159, 'grinule': 4160, 'fudge': 4161, 'oreos': 4162, 'zaher': 4163, 'nauseous': 4164, 'dieting': 4165, 'avalarr': 4166, 'hollalater': 4167, 'rounds': 4168, 'blogging': 4169, 'magicalsongs': 4170, 'blogspot': 4171, 'slices': 4172, 'kvb': 4173, 'ppt': 4174, 'jy': 4175, 'alternative': 4176, 'ore': 4177, 'owo': 4178, 'fro': 4179, 'samus': 4180, 'shoulders': 4181, 'matthew': 4182, 'vomitin': 4183, 'stuffed': 4184, 'writhing': 4185, 'paypal': 4186, 'voila': 4187, 'pockets': 4188, 'theyre': 4189, 'folks': 4190, 'sorta': 4191, 'blown': 4192, 'sophas': 4193, 'secondary': 4194, 'applying': 4195, 'ogunrinde': 4196, 'lodging': 4197, 'chk': 4198, 'dict': 4199, 'shb': 4200, 'stories': 4201, 'simpler': 4202, 'retired': 4203, 'natwest': 4204, 'chad': 4205, 'gymnastics': 4206, 'christians': 4207, 'token': 4208, 'liking': 4209, 'aptitude': 4210, 'horse': 4211, 'wrongly': 4212, 'boggy': 4213, 'biatch': 4214, 'hesitate': 4215, 'weakness': 4216, 'notebook': 4217, 'eightish': 4218, 'carpark': 4219, 'irene': 4220, 'ere': 4221, 'cres': 4222, 'sd': 4223, 'relaxing': 4224, 'stripes': 4225, 'skirt': 4226, 'blessed': 4227, 'escalator': 4228, 'beth': 4229, 'charlie': 4230, 'syllabus': 4231, 'panasonic': 4232, 'bluetoothhdset': 4233, 'doublemins': 4234, 'doubletxt': 4235, 'poyyarikatur': 4236, 'kolathupalayam': 4237, 'unjalur': 4238, 'erode': 4239, 'hero': 4240, 'apt': 4241, 'meat': 4242, 'supreme': 4243, 'cudnt': 4244, 'ctla': 4245, 'ente': 4246, 'ishtamayoo': 4247, 'bakrid': 4248, 'glorious': 4249, 'finds': 4250, 'coaxing': 4251, 'images': 4252, 'fond': 4253, 'souveniers': 4254, 'cougar': 4255, 'scratches': 4256, 'nanny': 4257, 'shitin': 4258, 'defo': 4259, 'hardest': 4260, 'millions': 4261, 'lekdog': 4262, 'blankets': 4263, 'edison': 4264, 'rightly': 4265, 'viva': 4266, 'atten': 4267, 'educational': 4268, 'kickoff': 4269, 'data': 4270, 'analysis': 4271, 'belligerent': 4272, 'les': 4273, 'rudi': 4274, 'snoring': 4275, 'ink': 4276, 'throwing': 4277, 'eastenders': 4278, 'compare': 4279, 'violet': 4280, 'tulip': 4281, 'lily': 4282, 'wkent': 4283, 'finalise': 4284, 'flirtparty': 4285, 'replys': 4286, 'dentist': 4287, 'lul': 4288, 'nurses': 4289, 'shes': 4290, 'obese': 4291, 'oyea': 4292, 'ami': 4293, 'parchi': 4294, 'kicchu': 4295, 'kaaj': 4296, 'korte': 4297, 'iccha': 4298, 'korche': 4299, 'tul': 4300, 'copies': 4301, 'sculpture': 4302, 'surya': 4303, 'pokkiri': 4304, 'dearer': 4305, 'attraction': 4306, 'sorrows': 4307, 'proove': 4308, 'praises': 4309, 'makiing': 4310, 'sambar': 4311, 'ndship': 4312, 'needle': 4313, 'conected': 4314, 'spatula': 4315, 'bp': 4316, 'warranty': 4317, 'complexities': 4318, 'freely': 4319, 'taxes': 4320, 'outrageous': 4321, 'tomorro': 4322, 'ryder': 4323, 'elvis': 4324, 'presleys': 4325, 'strips': 4326, 'postal': 4327, 'gifts': 4328, 'cliff': 4329, 'wrking': 4330, 'sittin': 4331, 'drops': 4332, 'hen': 4333, 'smoked': 4334, 'teju': 4335, 'hourish': 4336, 'amla': 4337, 'convenience': 4338, 'evaluation': 4339, 'swap': 4340, 'chatter': 4341, 'rcd': 4342, 'cheyyamo': 4343, 'throws': 4344, 'brothers': 4345, 'errors': 4346, 'tau': 4347, 'piah': 4348, 'stchoice': 4349, 'shade': 4350, 'copied': 4351, 'notified': 4352, 'marketing': 4353, 'virgins': 4354, 'sexual': 4355, 'sitter': 4356, 'kaitlyn': 4357, 'danger': 4358, 'peeps': 4359, 'comment': 4360, 'veggie': 4361, 'neighbors': 4362, 'computerless': 4363, 'balloon': 4364, 'packs': 4365, 'itcould': 4366, 'melody': 4367, 'macs': 4368, 'hme': 4369, 'velachery': 4370, 'flippin': 4371, 'breaking': 4372, 'cstore': 4373, 'hangin': 4374, 'lodge': 4375, 'worrying': 4376, 'quizzes': 4377, 'thin': 4378, 'arguments': 4379, 'fed': 4380, 'himso': 4381, 'neft': 4382, 'beneficiary': 4383, 'semi': 4384, 'exp': 4385, 'apr': 4386, 'maaaan': 4387, 'guessin': 4388, 'ilol': 4389, 'personally': 4390, 'wuldnt': 4391, 'lunchtime': 4392, 'organise': 4393, 'passable': 4394, 'phd': 4395, 'nok': 4396, 'prakesh': 4397, 'betta': 4398, 'aging': 4399, 'products': 4400, 'accommodation': 4401, 'global': 4402, 'phb': 4403, 'submitting': 4404, 'snatch': 4405, 'drivby': 4406, 'edrunk': 4407, 'iff': 4408, 'pthis': 4409, 'senrd': 4410, 'dnot': 4411, 'dancce': 4412, 'drum': 4413, 'basq': 4414, 'ihave': 4415, 'nhite': 4416, 'ros': 4417, 'relieved': 4418, 'westonzoyland': 4419, 'greatness': 4420, 'mc': 4421, 'ava': 4422, 'goodtime': 4423, 'oli': 4424, 'melnite': 4425, 'ifink': 4426, 'everythin': 4427, 'shun': 4428, 'bian': 4429, 'glass': 4430, 'exhibition': 4431, 'el': 4432, 'nino': 4433, 'jd': 4434, 'accounts': 4435, 'downstem': 4436, 'wahala': 4437, 'inperialmusic': 4438, 'leafcutter': 4439, 'insects': 4440, 'molested': 4441, 'plumbing': 4442, 'remixed': 4443, 'evil': 4444, 'acid': 4445, 'didntgive': 4446, 'bellearlier': 4447, 'cheery': 4448, 'weirdo': 4449, 'stalk': 4450, 'profiles': 4451, 'jerry': 4452, 'irritates': 4453, 'fails': 4454, 'pax': 4455, 'deposit': 4456, 'jap': 4457, 'disappeared': 4458, 'certificate': 4459, 'publish': 4460, 'wheellock': 4461, 'destination': 4462, 'fifty': 4463, 'settling': 4464, 'happenin': 4465, 'cocksuckers': 4466, 'ipads': 4467, 'worthless': 4468, 'novelty': 4469, 'janx': 4470, 'dads': 4471, 'designation': 4472, 'developer': 4473, 'videosound': 4474, 'videosounds': 4475, 'musicnews': 4476, 'spirit': 4477, 'shattered': 4478, 'girlie': 4479, 'darker': 4480, 'styling': 4481, 'gray': 4482, 'listn': 4483, 'watevr': 4484, 'minus': 4485, 'paragraphs': 4486, 'coveragd': 4487, 'vasai': 4488, 'retard': 4489, 'bathroom': 4490, 'sang': 4491, 'uptown': 4492, 'icic': 4493, 'syria': 4494, 'gauge': 4495, 'completing': 4496, 'ax': 4497, 'surgical': 4498, 'emergency': 4499, 'unfolds': 4500, 'korean': 4501, 'fredericksburg': 4502, 'que': 4503, 'pases': 4504, 'buen': 4505, 'tiempo': 4506, 'george': 4507, 'compass': 4508, 'gnun': 4509, 'baaaaabe': 4510, 'misss': 4511, 'youuuuu': 4512, 'convince': 4513, 'witot': 4514, 'buyer': 4515, 'becz': 4516, 'undrstndng': 4517, 'avoids': 4518, 'suffer': 4519, 'steamboat': 4520, 'forgive': 4521, 'tp': 4522, 'bbq': 4523, 'everyso': 4524, 'panicks': 4525, 'screen': 4526, 'nick': 4527, 'types': 4528, 'auntie': 4529, 'huai': 4530, 'lf': 4531, 'tlk': 4532, 'path': 4533, 'appear': 4534, 'paths': 4535, 'reserve': 4536, 'thirunelvali': 4537, 'tackle': 4538, 'storming': 4539, 'phne': 4540, 'margaret': 4541, 'girlfrnd': 4542, 'grahmbell': 4543, 'invnted': 4544, 'telphone': 4545, 'tonght': 4546, 'ploughing': 4547, 'pile': 4548, 'ironing': 4549, 'chinky': 4550, 'wi': 4551, 'nz': 4552, 'aust': 4553, 'bk': 4554, 'recharged': 4555, 'papa': 4556, 'detailed': 4557, 'sinco': 4558, 'payee': 4559, 'icicibank': 4560, 'frauds': 4561, 'disclose': 4562, 'losers': 4563, 'beta': 4564, 'noncomittal': 4565, 'beneath': 4566, 'pale': 4567, 'snickering': 4568, 'chords': 4569, 'boyf': 4570, 'interviw': 4571, 'spreadsheet': 4572, 'determine': 4573, 'entire': 4574, 'dartboard': 4575, 'doubles': 4576, 'trebles': 4577, 'recognises': 4578, 'wisheds': 4579, 'intrepid': 4580, 'duo': 4581, 'breeze': 4582, 'fresh': 4583, 'twittering': 4584, 'ducking': 4585, 'chinchillas': 4586, 'function': 4587, 'headstart': 4588, 'rummer': 4589, 'flying': 4590, 'optin': 4591, 'bbc': 4592, 'charts': 4593, 'rajini': 4594, 'summers': 4595, 'matched': 4596, 'spys': 4597, 'offering': 4598, 'yalru': 4599, 'astne': 4600, 'innu': 4601, 'mundhe': 4602, 'halla': 4603, 'bilo': 4604, 'edhae': 4605, 'ovr': 4606, 'vargu': 4607, 'prone': 4608, 'latests': 4609, 'llc': 4610, 'usa': 4611, 'permission': 4612, 'meetins': 4613, 'cumin': 4614, 'wonders': 4615, 'personality': 4616, 'dose': 4617, 'tablet': 4618, 'incomm': 4619, 'maps': 4620, 'tiring': 4621, 'concentrating': 4622, 'browsin': 4623, 'compulsory': 4624, 'musthu': 4625, 'investigate': 4626, 'vitamin': 4627, 'crucial': 4628, 'leadership': 4629, 'skills': 4630, 'psychic': 4631, 'host': 4632, 'based': 4633, 'idps': 4634, 'linux': 4635, 'systems': 4636, 'converter': 4637, 'sayy': 4638, 'leanne': 4639, 'disc': 4640, 'champ': 4641, 'glasgow': 4642, 'lovin': 4643, 'install': 4644, 'browse': 4645, 'artists': 4646, 'corect': 4647, 'speling': 4648, 'cts': 4649, 'employee': 4650, 'nike': 4651, 'sooo': 4652, 'shouting': 4653, 'dang': 4654, 'earliest': 4655, 'nordstrom': 4656, 'konw': 4657, 'waht': 4658, 'rael': 4659, 'gving': 4660, 'exmpel': 4661, 'jsut': 4662, 'evrey': 4663, 'splleing': 4664, 'wrnog': 4665, 'sitll': 4666, 'raed': 4667, 'wihtuot': 4668, 'ayn': 4669, 'mitsake': 4670, 'conference': 4671, 'degree': 4672, 'bleak': 4673, 'shant': 4674, 'nearer': 4675, 'raiden': 4676, 'kegger': 4677, 'totes': 4678, 'pierre': 4679, 'cardin': 4680, 'establish': 4681, 'truro': 4682, 'ext': 4683, 'cloth': 4684, 'sunroof': 4685, 'blanked': 4686, 'image': 4687, 'rumour': 4688, 'kalainar': 4689, 'thenampet': 4690, 'nosy': 4691, 'reacting': 4692, 'freaked': 4693, 'satanic': 4694, 'imposter': 4695, 'destiny': 4696, 'companion': 4697, 'chef': 4698, 'listener': 4699, 'organizer': 4700, 'sympathetic': 4701, 'athletic': 4702, 'courageous': 4703, 'determined': 4704, 'dependable': 4705, 'psychologist': 4706, 'pest': 4707, 'exterminator': 4708, 'psychiatrist': 4709, 'healer': 4710, 'stylist': 4711, 'aaniye': 4712, 'pudunga': 4713, 'venaam': 4714, 'chez': 4715, 'jules': 4716, 'hhahhaahahah': 4717, 'nig': 4718, 'leonardo': 4719, 'strain': 4720, 'withdraw': 4721, 'anyhow': 4722, 'falling': 4723, 'smeone': 4724, 'millers': 4725, 'spark': 4726, 'rawring': 4727, 'xoxo': 4728, 'somewhr': 4729, 'crushes': 4730, 'honeymoon': 4731, 'outfit': 4732, 'gods': 4733, 'cheque': 4734, 'olympics': 4735, 'leo': 4736, 'haul': 4737, 'wildlife': 4738, 'worzels': 4739, 'wizzle': 4740, 'dippeditinadew': 4741, 'lovingly': 4742, 'itwhichturnedinto': 4743, 'gifted': 4744, 'tomeandsaid': 4745, 'shanghai': 4746, 'cya': 4747, 'rt': 4748, 'pro': 4749, 'redeemable': 4750, 'thnx': 4751, 'sef': 4752, 'anjie': 4753, 'fring': 4754, 'nte': 4755, 'wating': 4756, 'talents': 4757, 'animal': 4758, 'shiny': 4759, 'warming': 4760, 'french': 4761, 'fooled': 4762, 'companies': 4763, 'responsible': 4764, 'suppliers': 4765, 'lnly': 4766, 'keen': 4767, 'dammit': 4768, 'wright': 4769, 'somewhat': 4770, 'laden': 4771, 'wrecked': 4772, 'spontaneously': 4773, 'goodevening': 4774, 'rgent': 4775, 'daytime': 4776, 'busty': 4777, 'janinexx': 4778, 'spageddies': 4779, 'phasing': 4780, 'fourth': 4781, 'dimension': 4782, 'meaningful': 4783, 'compromised': 4784, 'mobsi': 4785, 'dub': 4786, 'je': 4787, 'toughest': 4788, 'jas': 4789, 'squatting': 4790, 'digits': 4791, 'sonathaya': 4792, 'soladha': 4793, 'raping': 4794, 'dudes': 4795, 'weightloss': 4796, 'mushy': 4797, 'embarrassed': 4798, 'stash': 4799, 'priya': 4800, 'kilos': 4801, 'accidant': 4802, 'tookplace': 4803, 'ghodbandar': 4804, 'slovely': 4805, 'sc': 4806, 'specialise': 4807, 'wad': 4808, 'desparately': 4809, 'stereo': 4810, 'mi': 4811, 'vu': 4812, 'classmates': 4813, 'fires': 4814, 'trackmarque': 4815, 'vipclub': 4816, 'missionary': 4817, 'entertaining': 4818, 'hugh': 4819, 'laurie': 4820, 'praps': 4821, 'jon': 4822, 'spain': 4823, 'dinero': 4824, 'pes': 4825, 'maangalyam': 4826, 'alaipayuthe': 4827, 'complaining': 4828, 'mandy': 4829, 'sullivan': 4830, 'hotmix': 4831, 'fm': 4832, 'transferred': 4833, 'finn': 4834, 'callfreefone': 4835, 'downon': 4836, 'theacusations': 4837, 'itxt': 4838, 'iwana': 4839, 'wotu': 4840, 'thew': 4841, 'haventcn': 4842, 'nething': 4843, 'dine': 4844, 'conacted': 4845, 'inspection': 4846, 'nursery': 4847, 'panren': 4848, 'paru': 4849, 'chuckin': 4850, 'trainners': 4851, 'carryin': 4852, 'bac': 4853, 'dhanush': 4854, 'needing': 4855, 'habba': 4856, 'dileep': 4857, 'muchand': 4858, 'venugopal': 4859, 'mentioned': 4860, 'remembrs': 4861, 'everytime': 4862, 'mandan': 4863, 'ibh': 4864, 'textbook': 4865, 'algorithms': 4866, 'edition': 4867, 'invaders': 4868, 'orig': 4869, 'console': 4870, 'cro': 4871, 'transfr': 4872, 'intend': 4873, 'iwas': 4874, 'marine': 4875, 'itried': 4876, 'urmom': 4877, 'careabout': 4878, 'foley': 4879, 'learned': 4880, 'iraq': 4881, 'afghanistan': 4882, 'stable': 4883, 'honest': 4884, 'traveling': 4885, 'pai': 4886, 'seh': 4887, 'parts': 4888, 'walsall': 4889, 'tue': 4890, 'terry': 4891, 'ccna': 4892, 'shrek': 4893, 'fellow': 4894, 'dying': 4895, 'lifting': 4896, 'teresa': 4897, 'dec': 4898, 'ld': 4899, 'bam': 4900, 'aid': 4901, 'usmle': 4902, 'squishy': 4903, 'mwahs': 4904, 'hottest': 4905, 'prominent': 4906, 'cheek': 4907, 'september': 4908, 'hack': 4909, 'backdoor': 4910, 'fraction': 4911, 'neo': 4912, 'dps': 4913, 'comingdown': 4914, 'murali': 4915, 'sts': 4916, 'engalnd': 4917, 'mia': 4918, 'elliot': 4919, 'kissing': 4920, 'wv': 4921, 'matric': 4922, 'payments': 4923, 'fedex': 4924, 'reception': 4925, 'consensus': 4926, 'entertain': 4927, 'tag': 4928, 'bras': 4929, 'strewn': 4930, 'pillows': 4931, 'weaknesses': 4932, 'knee': 4933, 'exposes': 4934, 'pulls': 4935, 'wicked': 4936, 'supports': 4937, 'srt': 4938, 'jontin': 4939, 'banned': 4940, 'biro': 4941, 'shell': 4942, 'unconsciously': 4943, 'unhappy': 4944, 'jog': 4945, 'lark': 4946, 'extreme': 4947, 'sic': 4948, 'fones': 4949, 'wild': 4950, 'lim': 4951, 'parachute': 4952, 'placed': 4953, 'lambda': 4954, 'angels': 4955, 'snowball': 4956, 'ello': 4957, 'duffer': 4958, 'grr': 4959, 'pharmacy': 4960, 'rpl': 4961, 'cnl': 4962, 'fffff': 4963, 'lifebook': 4964, 'zhong': 4965, 'qing': 4966, 'act': 4967, 'hypertension': 4968, 'annoyin': 4969, 'vpod': 4970, 'nigro': 4971, 'scratching': 4972, 'anyplaces': 4973, 'priority': 4974, 'ecstasy': 4975, 'minded': 4976, 'minapn': 4977, 'hittng': 4978, 'reflex': 4979, 'adewale': 4980, 'egbon': 4981, 'mary': 4982, 'deduct': 4983, 'wrks': 4984, 'monkey': 4985, 'asshole': 4986, 'grab': 4987, 'sliding': 4988, 'payback': 4989, 'honeybee': 4990, 'sweetest': 4991, 'laughed': 4992, 'havnt': 4993, 'crack': 4994, 'tescos': 4995, 'feathery': 4996, 'bowa': 4997, 'infra': 4998, 'gep': 4999, 'fifa': 5000, 'shhhhh': 5001, 'related': 5002, 'arul': 5003, 'amk': 5004, 'length': 5005, 'antha': 5006, 'corrct': 5007, 'dane': 5008, 'basket': 5009, 'rupaul': 5010, 'practising': 5011, 'curtsey': 5012, 'memory': 5013, 'converted': 5014, 'african': 5015, 'soil': 5016, 'roles': 5017, 'outreach': 5018, 'lb': 5019, 'brilliantly': 5020, 'forwarding': 5021, 'intention': 5022, 'visitors': 5023, 'rules': 5024, 'bend': 5025, 'thia': 5026, 'inlude': 5027, 'previews': 5028, 'ambrith': 5029, 'madurai': 5030, 'dha': 5031, 'marrge': 5032, 'kitty': 5033, 'shaved': 5034, 'tactful': 5035, 'pert': 5036, 'crammed': 5037, 'satsgettin': 5038, 'apologize': 5039, 'pei': 5040, 'subtoitles': 5041, 'jot': 5042, 'cereals': 5043, 'gari': 5044, 'cast': 5045, 'thkin': 5046, 'resubbing': 5047, 'shadow': 5048, 'breadstick': 5049, 'saeed': 5050, 'purple': 5051, 'yelow': 5052, 'brown': 5053, 'arranging': 5054, 'eldest': 5055, 'drugdealer': 5056, 'wither': 5057, 'sleepwell': 5058, 'wondarfull': 5059, 'txtx': 5060, 'onbus': 5061, 'donyt': 5062, 'latelyxxx': 5063, 'stressed': 5064, 'soooo': 5065, 'provider': 5066, 'tming': 5067, 'cutest': 5068, 'dice': 5069, 'howda': 5070, 'mathe': 5071, 'samachara': 5072, 'audrie': 5073, 'autocorrect': 5074, 'simulate': 5075, 'readiness': 5076, 'lara': 5077, 'supplies': 5078, 'guesses': 5079, 'attach': 5080, 'stamped': 5081, 'bray': 5082, 'wicklow': 5083, 'eire': 5084, 'washob': 5085, 'nobbing': 5086, 'nickey': 5087, 'platt': 5088, 'idew': 5089, 'spotty': 5090, 'province': 5091, 'sterling': 5092, 'hall': 5093, 'hesitation': 5094, 'intha': 5095, 'ponnungale': 5096, 'ipaditan': 5097, 'rejected': 5098, 'tessy': 5099, 'favor': 5100, 'shijas': 5101, 'noisy': 5102, 'needa': 5103, 'manual': 5104, 'reset': 5105, 'troubleshooting': 5106, 'marsms': 5107, 'utele': 5108, 'strongly': 5109, 'creativity': 5110, 'stifled': 5111, 'requirements': 5112, 'getha': 5113, 'buffy': 5114, 'qlynnbv': 5115, 'nosh': 5116, 'waaaat': 5117, 'lololo': 5118, 'occupied': 5119, 'documents': 5120, 'submitted': 5121, 'stapati': 5122, 'cutie': 5123, 'hills': 5124, 'honesty': 5125, 'specialisation': 5126, 'labor': 5127, 'shakara': 5128, 'beggar': 5129, 'dent': 5130, 'crickiting': 5131, 'imin': 5132, 'dontmatter': 5133, 'urgoin': 5134, 'outl': 5135, 'yavnt': 5136, 'popping': 5137, 'ibuprofens': 5138, 'sip': 5139, 'grown': 5140, 'chinatown': 5141, 'porridge': 5142, 'claypot': 5143, 'yam': 5144, 'fishhead': 5145, 'beehoon': 5146, 'jaklin': 5147, 'nearby': 5148, 'cliffs': 5149, 'bundle': 5150, 'deals': 5151, 'avble': 5152, 'mf': 5153, 'ooh': 5154, 'moseley': 5155, 'weds': 5156, 'thankyou': 5157, 'aluable': 5158, 'ffectionate': 5159, 'oveable': 5160, 'ternal': 5161, 'oble': 5162, 'ruthful': 5163, 'ntimate': 5164, 'atural': 5165, 'namous': 5166, 'textin': 5167, 'raji': 5168, 'amigos': 5169, 'burn': 5170, 'progress': 5171, 'arty': 5172, 'collages': 5173, 'tryin': 5174, 'waliking': 5175, 'cartons': 5176, 'shelves': 5177, 'mirror': 5178, 'jod': 5179, 'keris': 5180, 'smidgin': 5181, 'intentions': 5182, 'accordin': 5183, 'knocking': 5184, 'como': 5185, 'listened': 5186, 'plaid': 5187, 'hilarious': 5188, 'braindance': 5189, 'ofstuff': 5190, 'aphex': 5191, 'abel': 5192, 'nelson': 5193, 'unmits': 5194, 'newspapers': 5195, 'yummmm': 5196, 'puzzeles': 5197, 'goten': 5198, 'scammers': 5199, 'passion': 5200, 'dena': 5201, 'shifad': 5202, 'raised': 5203, 'doctors': 5204, 'reminds': 5205, 'splashmobile': 5206, 'subscrition': 5207, 'dust': 5208, 'shagged': 5209, 'watchin': 5210, 'meaningless': 5211, 'brdget': 5212, 'jones': 5213, 'inever': 5214, 'hype': 5215, 'studio': 5216, 'velly': 5217, 'marking': 5218, 'stoptx': 5219, 'va': 5220, 'hanger': 5221, 'poem': 5222, 'arrow': 5223, 'blanket': 5224, 'tddnewsletter': 5225, 'emc': 5226, 'thedailydraw': 5227, 'dozens': 5228, 'prizeswith': 5229, 'significant': 5230, 'waqt': 5231, 'pehle': 5232, 'naseeb': 5233, 'zyada': 5234, 'kisi': 5235, 'ko': 5236, 'kuch': 5237, 'milta': 5238, 'hum': 5239, 'sochte': 5240, 'jeetey': 5241, 'stalking': 5242, 'reminded': 5243, 'varaya': 5244, 'elaya': 5245, 'anand': 5246, 'beach': 5247, 'expected': 5248, 'jez': 5249, 'todo': 5250, 'workand': 5251, 'whilltake': 5252, 'zogtorius': 5253, 'financial': 5254, 'alian': 5255, 'posible': 5256, 'century': 5257, 'frwd': 5258, 'affectionate': 5259, 'sorts': 5260, 'restrictions': 5261, 'buddys': 5262, 'owned': 5263, 'possessive': 5264, 'clarification': 5265, 'gamestar': 5266, 'active': 5267, 'scoring': 5268, 'coimbatore': 5269, 'monoc': 5270, 'monos': 5271, 'polyc': 5272, 'stream': 5273, 'categories': 5274, 'ethnicity': 5275, 'census': 5276, 'transcribing': 5277, 'propsd': 5278, 'gv': 5279, 'lv': 5280, 'lttrs': 5281, 'threw': 5282, 'aproach': 5283, 'dt': 5284, 'truck': 5285, 'speeding': 5286, 'thy': 5287, 'lived': 5288, 'happily': 5289, 'gthr': 5290, 'evrydy': 5291, 'cakes': 5292, 'draws': 5293, 'goodmate': 5294, 'asusual': 5295, 'cheered': 5296, 'franyxxxxx': 5297, 'batt': 5298, 'becausethey': 5299, 'responce': 5300, 'wiskey': 5301, 'brandy': 5302, 'rum': 5303, 'gin': 5304, 'scotch': 5305, 'shampain': 5306, 'kudi': 5307, 'yarasu': 5308, 'dhina': 5309, 'vaazhthukkal': 5310, 'gained': 5311, 'pressure': 5312, 'limits': 5313, 'doke': 5314, 'laying': 5315, 'kills': 5316, 'neshanth': 5317, 'byatch': 5318, 'whassup': 5319, 'cl': 5320, 'filthyguys': 5321, 'chiong': 5322, 'dialogue': 5323, 'reltnship': 5324, 'questioned': 5325, 'gardener': 5326, 'vegetables': 5327, 'neighbour': 5328, 'pose': 5329, 'comb': 5330, 'dryer': 5331, 'fps': 5332, 'computational': 5333, 'disturbance': 5334, 'dlf': 5335, 'premarica': 5336, 'gotto': 5337, 'err': 5338, 'hitter': 5339, 'offline': 5340, 'anjola': 5341, 'asjesus': 5342, 'directors': 5343, 'lac': 5344, 'deposited': 5345, 'taxless': 5346, 'suply': 5347, 'projects': 5348, 'imf': 5349, 'blocked': 5350, 'corrupt': 5351, 'itna': 5352, 'karo': 5353, 'ki': 5354, 'pura': 5355, 'padhe': 5356, 'torrents': 5357, 'particularly': 5358, 'slowing': 5359, 'commit': 5360, 'trivia': 5361, 'rightio': 5362, 'brum': 5363, 'scorable': 5364, 'paranoid': 5365, 'brin': 5366, 'sheet': 5367, 'complain': 5368, 'bettr': 5369, 'bsnl': 5370, 'offc': 5371, 'payed': 5372, 'suganya': 5373, 'dessert': 5374, 'abeg': 5375, 'sponsors': 5376, 'onum': 5377, 'poet': 5378, 'imagination': 5379, 'famamus': 5380, 'locks': 5381, 'jenne': 5382, 'easiest': 5383, 'barcelona': 5384, 'sppok': 5385, 'complementary': 5386, 'pansy': 5387, 'jungle': 5388, 'kanji': 5389, 'srs': 5390, 'drizzling': 5391, 'appointments': 5392, 'excused': 5393, 'drama': 5394, 'struggling': 5395, 'ego': 5396, 'necessity': 5397, 'reppurcussions': 5398, 'cosign': 5399, 'hvae': 5400, 'hcl': 5401, 'requires': 5402, 'freshers': 5403, 'suman': 5404, 'telephonic': 5405, 'reliant': 5406, 'fwiw': 5407, 'afford': 5408, 'sq': 5409, 'arrival': 5410, 'citylink': 5411, 'props': 5412, 'pleasant': 5413, 'statements': 5414, 'bognor': 5415, 'splendid': 5416, 'ktv': 5417, 'misplaced': 5418, 'computers': 5419, 'begun': 5420, 'registration': 5421, 'permanent': 5422, 'residency': 5423, 'risks': 5424, 'predicting': 5425, 'accumulation': 5426, 'programs': 5427, 'belongs': 5428, 'fated': 5429, 'shoranur': 5430, 'fuelled': 5431, 'concern': 5432, 'prior': 5433, 'grief': 5434, 'environment': 5435, 'terrific': 5436, 'honestly': 5437, 'promptly': 5438, 'burnt': 5439, 'snap': 5440, 'quizclub': 5441, 'rwm': 5442, 'gmw': 5443, 'connected': 5444, 'someplace': 5445, 'goods': 5446, 'pressies': 5447, 'ultimately': 5448, 'tor': 5449, 'motive': 5450, 'tui': 5451, 'achieve': 5452, 'korli': 5453, 'dock': 5454, 'rolled': 5455, 'newscaster': 5456, 'dabbles': 5457, 'flute': 5458, 'wheel': 5459, 'keyword': 5460, 'october': 5461, 'elaborating': 5462, 'safety': 5463, 'aspects': 5464, 'tarot': 5465, 'horniest': 5466, 'flow': 5467, 'developed': 5468, 'ovarian': 5469, 'cysts': 5470, 'shrink': 5471, 'upping': 5472, 'grams': 5473, 'timin': 5474, 'apes': 5475, 'ibm': 5476, 'gosh': 5477, 'spose': 5478, 'rimac': 5479, 'arestaurant': 5480, 'squid': 5481, 'dosomething': 5482, 'dabooks': 5483, 'eachother': 5484, 'luckily': 5485, 'starring': 5486, 'restocked': 5487, 'tkls': 5488, 'stoptxtstop': 5489, 'smoothly': 5490, 'challenging': 5491, 'breakfast': 5492, 'hamper': 5493, 'unni': 5494, 'lacking': 5495, 'particular': 5496, 'dramastorm': 5497, 'forfeit': 5498, 'digi': 5499, 'coupla': 5500, 'sundayish': 5501, 'prasad': 5502, 'rcb': 5503, 'battle': 5504, 'kochi': 5505, 'checkup': 5506, 'smear': 5507, 'gobi': 5508, 'technologies': 5509, 'olowoyey': 5510, 'argentina': 5511, 'taxt': 5512, 'massage': 5513, 'tie': 5514, 'pos': 5515, 'lool': 5516, 'shaking': 5517, 'scarcasim': 5518, 'naal': 5519, 'eruku': 5520, 'amongst': 5521, 'impressively': 5522, 'sensible': 5523, 'obedient': 5524, 'ft': 5525, 'combination': 5526, 'needy': 5527, 'playng': 5528, 'mcfly': 5529, 'ab': 5530, 'sara': 5531, 'jorge': 5532, 'anna': 5533, 'nagar': 5534, 'yupz': 5535, 'ericson': 5536, 'der': 5537, 'luks': 5538, 'modl': 5539, 'cheesy': 5540, 'frosty': 5541, 'witin': 5542, 'fans': 5543, 'nnfwfly': 5544, 'nudist': 5545, 'themed': 5546, 'pump': 5547, 'evr': 5548, 'signal': 5549, 'unusual': 5550, 'palm': 5551, 'printing': 5552, 'handing': 5553, 'stated': 5554, 'perpetual': 5555, 'dd': 5556, 'pract': 5557, 'flung': 5558, 'justbeen': 5559, 'overa': 5560, 'brains': 5561, 'mush': 5562, 'tunde': 5563, 'missions': 5564, 'aq': 5565, 'avo': 5566, 'crashed': 5567, 'cuddled': 5568, 'chachi': 5569, 'pl': 5570, 'tiz': 5571, 'kanagu': 5572, 'prices': 5573, 'ringing': 5574, 'houseful': 5575, 'brats': 5576, 'pulling': 5577, 'derp': 5578, 'abusers': 5579, 'lipo': 5580, 'netflix': 5581, 'clash': 5582, 'arr': 5583, 'oscar': 5584, 'rebtel': 5585, 'firefox': 5586, 'bcmsfwc': 5587, 'impressed': 5588, 'funs': 5589, 'footy': 5590, 'stadium': 5591, 'large': 5592, 'coca': 5593, 'cola': 5594, 'teenager': 5595, 'replacing': 5596, 'mittelschmertz': 5597, 'paracetamol': 5598, 'arrived': 5599, 'cthen': 5600, 'conclusion': 5601, 'references': 5602, 'instant': 5603, 'rugby': 5604, 'affidavit': 5605, 'twiggs': 5606, 'courtroom': 5607, 'showers': 5608, 'possessiveness': 5609, 'poured': 5610, 'golden': 5611, 'lasting': 5612, 'mobs': 5613, 'crazyin': 5614, 'sleepingwith': 5615, 'finest': 5616, 'ymca': 5617, 'wtc': 5618, 'weiyi': 5619, 'flowers': 5620, 'paining': 5621, 'romcapspam': 5622, 'presence': 5623, 'outgoing': 5624, 'maggi': 5625, 'mee': 5626, 'cough': 5627, 'pooja': 5628, 'sweatter': 5629, 'ambitious': 5630, 'miiiiiiissssssssss': 5631, 'tunji': 5632, 'misscall': 5633, 'frndz': 5634, 'tall': 5635, 'robs': 5636, 'avenge': 5637, 'japanese': 5638, 'proverb': 5639, 'choices': 5640, 'toss': 5641, 'gudni': 5642, 'dancin': 5643, 'explicitly': 5644, 'nora': 5645, 'gayle': 5646, 'crucify': 5647, 'butting': 5648, 'vs': 5649, 'cedar': 5650, 'durham': 5651, 'reserved': 5652, 'stopbcm': 5653, 'sf': 5654, 'wall': 5655, 'printer': 5656, 'groovy': 5657, 'groovying': 5658, 'harish': 5659, 'transfred': 5660, 'acnt': 5661, 'showrooms': 5662, 'shaping': 5663, 'attending': 5664, 'doinat': 5665, 'callon': 5666, 'pdate': 5667, 'yhl': 5668, 'configure': 5669, 'anal': 5670, 'pears': 5671, 'helloooo': 5672, 'welcomes': 5673, 'oooooh': 5674, 'resubmit': 5675, 'expiry': 5676, 'mint': 5677, 'humans': 5678, 'studyn': 5679, 'everyboy': 5680, 'xxxxxxxx': 5681, 'answr': 5682, 'liquor': 5683, 'loko': 5684, 'lined': 5685, 'laughs': 5686, 'fireplace': 5687, 'icon': 5688, 'fifth': 5689, 'woozles': 5690, 'weasels': 5691, 'machines': 5692, 'fucks': 5693, 'ignorant': 5694, 'mys': 5695, 'downs': 5696, 'fletcher': 5697, 'bowls': 5698, 'cozy': 5699, 'buzzzz': 5700, 'vibrator': 5701, 'shake': 5702, 'trends': 5703, 'pros': 5704, 'cons': 5705, 'description': 5706, 'nuclear': 5707, 'fusion': 5708, 'iter': 5709, 'jet': 5710, 'nowhere': 5711, 'ikno': 5712, 'doesdiscount': 5713, 'shitinnit': 5714, 'jabo': 5715, 'slower': 5716, 'maniac': 5717, 'sapna': 5718, 'manege': 5719, 'hogidhe': 5720, 'chinnu': 5721, 'swalpa': 5722, 'agidhane': 5723, 'footbl': 5724, 'crckt': 5725, 'swell': 5726, 'tim': 5727, 'bollox': 5728, 'tol': 5729, 'ingredients': 5730, 'pocy': 5731, 'non': 5732, 'qf': 5733, 'senor': 5734, 'giggle': 5735, 'possibly': 5736, 'nvq': 5737, 'professional': 5738, 'tiger': 5739, 'woods': 5740, 'grinder': 5741, 'pt': 5742, 'buyers': 5743, 'figuring': 5744, 'entirely': 5745, 'disconnected': 5746, 'onluy': 5747, 'matters': 5748, 'offcampus': 5749, 'riley': 5750, 'ew': 5751, 'wesley': 5752, 'lingo': 5753, 'chrgd': 5754, 'exit': 5755, 'approaching': 5756, 'sankranti': 5757, 'republic': 5758, 'shivratri': 5759, 'ugadi': 5760, 'fools': 5761, 'independence': 5762, 'teachers': 5763, 'childrens': 5764, 'festival': 5765, 'dasara': 5766, 'mornings': 5767, 'afternoons': 5768, 'rememberi': 5769, 'joys': 5770, 'lifeis': 5771, 'daywith': 5772, 'somewheresomeone': 5773, 'tosend': 5774, 'greeting': 5775, 'selflessness': 5776, 'initiate': 5777, 'tallent': 5778, 'wasting': 5779, 'portal': 5780, 'lennon': 5781, 'bothering': 5782, 'fox': 5783, 'frndsship': 5784, 'dwn': 5785, 'slaaaaave': 5786, 'summon': 5787, 'appendix': 5788, 'slob': 5789, 'smiled': 5790, 'webpage': 5791, 'yeesh': 5792, 'unsubscribed': 5793, 'hunks': 5794, 'gotbabes': 5795, 'subscriptions': 5796, 'gopalettan': 5797, 'participate': 5798, 'abroad': 5799, 'xxsp': 5800, 'stopcost': 5801, 'agent': 5802, 'goodies': 5803, 'mat': 5804, 'ay': 5805, 'steal': 5806, 'isaiah': 5807, 'expert': 5808, 'thinl': 5809, 'importantly': 5810, 'tightly': 5811, 'wnevr': 5812, 'fal': 5813, 'fals': 5814, 'yen': 5815, 'madodu': 5816, 'nav': 5817, 'pretsorginta': 5818, 'nammanna': 5819, 'pretsovru': 5820, 'alwa': 5821, 'lord': 5822, 'rings': 5823, 'soundtrack': 5824, 'stdtxtrate': 5825, 'sg': 5826, 'phyhcmk': 5827, 'emigrated': 5828, 'hopeful': 5829, 'olol': 5830, 'stagwood': 5831, 'winterstone': 5832, 'victors': 5833, 'jp': 5834, 'mofo': 5835, 'pathaya': 5836, 'enketa': 5837, 'maraikara': 5838, 'priest': 5839, 'reserves': 5840, 'intrude': 5841, 'walkabout': 5842, 'cashed': 5843, 'announced': 5844, 'blog': 5845, 'footie': 5846, 'phil': 5847, 'neville': 5848, 'abbey': 5849, 'returning': 5850, 'punj': 5851, 'classic': 5852, 'sacked': 5853, 'clip': 5854, 'mmsto': 5855, 'barred': 5856, 'twat': 5857, 'dungerees': 5858, 'decking': 5859, 'punch': 5860, 'mentionned': 5861, 'vat': 5862, 'hogolo': 5863, 'kodstini': 5864, 'madstini': 5865, 'hogli': 5866, 'mutai': 5867, 'eerulli': 5868, 'kodthini': 5869, 'thasa': 5870, 'messed': 5871, 'tex': 5872, 'mecause': 5873, 'werebored': 5874, 'okden': 5875, 'uin': 5876, 'likeyour': 5877, 'updat': 5878, 'countinlots': 5879, 'tagged': 5880, 'hdd': 5881, 'casing': 5882, 'opened': 5883, 'describe': 5884, 'asus': 5885, 'reformat': 5886, 'plumbers': 5887, 'wrench': 5888, 'bcum': 5889, 'appeal': 5890, 'thriller': 5891, 'director': 5892, 'elephant': 5893, 'shove': 5894, 'um': 5895, 'pookie': 5896, 'nri': 5897, 'deserve': 5898, 'diddy': 5899, 'neighbor': 5900, 'toothpaste': 5901, 'poking': 5902, 'coccooning': 5903, 'mus': 5904, 'newquay': 5905, 'talkin': 5906, 'windy': 5907, 'tirunelvai': 5908, 'dusk': 5909, 'puzzles': 5910, 'stairs': 5911, 'phews': 5912, 'luvs': 5913, 'recycling': 5914, 'earning': 5915, 'toledo': 5916, 'tai': 5917, 'feng': 5918, 'reservations': 5919, 'swimsuit': 5920, 'squeeeeeze': 5921, 'frndshp': 5922, 'luvd': 5923, 'volcanoes': 5924, 'erupt': 5925, 'arise': 5926, 'hurricanes': 5927, 'sway': 5928, 'aroundn': 5929, 'disasters': 5930, 'lighters': 5931, 'lasagna': 5932, 'chickened': 5933, 'woould': 5934, 'raviyog': 5935, 'peripherals': 5936, 'bhayandar': 5937, 'sunoco': 5938, 'musical': 5939, 'plate': 5940, 'leftovers': 5941, 'starving': 5942, 'fatty': 5943, 'badrith': 5944, 'owe': 5945, 'checkin': 5946, 'armenia': 5947, 'swann': 5948, 'justify': 5949, 'hunt': 5950, 'hava': 5951, 'rct': 5952, 'thnq': 5953, 'adrian': 5954, 'vatian': 5955, 'everyones': 5956, 'babysitting': 5957, 'gonnamissu': 5958, 'buttheres': 5959, 'aboutas': 5960, 'merememberin': 5961, 'asthere': 5962, 'ofsi': 5963, 'breakin': 5964, 'yaxx': 5965, 'poortiyagi': 5966, 'odalebeku': 5967, 'hanumanji': 5968, 'hanuman': 5969, 'bajarangabali': 5970, 'maruti': 5971, 'pavanaputra': 5972, 'sankatmochan': 5973, 'ramaduth': 5974, 'mahaveer': 5975, 'janarige': 5976, 'ivatte': 5977, 'kalisidare': 5978, 'olage': 5979, 'ondu': 5980, 'keluviri': 5981, 'maretare': 5982, 'inde': 5983, 'dodda': 5984, 'problum': 5985, 'nalli': 5986, 'siguviri': 5987, 'idu': 5988, 'matra': 5989, 'neglet': 5990, 'ijust': 5991, 'talked': 5992, 'opps': 5993, 'gei': 5994, 'tron': 5995, 'dl': 5996, 'spiffing': 5997, 'workage': 5998, 'craving': 5999, 'supose': 6000, 'babysit': 6001, 'spaces': 6002, 'embassy': 6003, 'lightly': 6004, 'checkboxes': 6005, 'batsman': 6006, 'yetty': 6007, 'reverse': 6008, 'cheating': 6009, 'mathematics': 6010, 'emailed': 6011, 'yifeng': 6012, 'slurp': 6013, 'brainless': 6014, 'doll': 6015, 'vehicle': 6016, 'sariyag': 6017, 'madoke': 6018, 'barolla': 6019, 'postponed': 6020, 'stocked': 6021, 'tiime': 6022, 'tears': 6023, 'afternon': 6024, 'interviews': 6025, 'resizing': 6026, 'opposed': 6027, 'shortcode': 6028, 'refunded': 6029, 'somerset': 6030, 'overtime': 6031, 'nigpun': 6032, 'dismissial': 6033, 'screwd': 6034, 'bull': 6035, 'floating': 6036, 'heehee': 6037, 'arithmetic': 6038, 'percentages': 6039, 'chillaxin': 6040, 'das': 6041, 'iknow': 6042, 'wellda': 6043, 'peril': 6044, 'studentfinancial': 6045, 'monster': 6046, 'ias': 6047, 'obey': 6048, 'uhhhhrmm': 6049, 'deltomorrow': 6050, 'smartcall': 6051, 'subscriptn': 6052, 'landlineonly': 6053, 'orno': 6054, 'fink': 6055, 'promised': 6056, 'carlie': 6057, 'minmobsmore': 6058, 'lkpobox': 6059, 'youphone': 6060, 'athome': 6061, 'youwanna': 6062, 'jack': 6063, 'helpful': 6064, 'pretend': 6065, 'hypotheticalhuagauahahuagahyuhagga': 6066, 'brainy': 6067, 'occasion': 6068, 'celebrated': 6069, 'reflection': 6070, 'values': 6071, 'affections': 6072, 'traditions': 6073, 'cantdo': 6074, 'anythingtomorrow': 6075, 'myparents': 6076, 'aretaking': 6077, 'outfor': 6078, 'katexxx': 6079, 'level': 6080, 'gate': 6081, 'lingerie': 6082, 'bridal': 6083, 'petticoatdreams': 6084, 'weddingfriend': 6085, 'board': 6086, 'overheating': 6087, 'reslove': 6088, 'inst': 6089, 'western': 6090, 'notixiquating': 6091, 'laxinorficated': 6092, 'bambling': 6093, 'entropication': 6094, 'oblisingately': 6095, 'opted': 6096, 'masteriastering': 6097, 'amplikater': 6098, 'fidalfication': 6099, 'champlaxigating': 6100, 'atrocious': 6101, 'wotz': 6102, 'junna': 6103, 'knickers': 6104, 'nikiyu': 6105, 'divert': 6106, 'wadebridge': 6107, 'vill': 6108, 'orc': 6109, 'careers': 6110, 'seeking': 6111, 'wherre': 6112, 'resolution': 6113, 'frank': 6114, 'logoff': 6115, 'parkin': 6116, 'asa': 6117, 'westlife': 6118, 'unbreakable': 6119, 'untamed': 6120, 'unkempt': 6121, 'charming': 6122, 'mention': 6123, 'served': 6124, 'arnt': 6125, 'xxxxxxxxxxxxxx': 6126, 'dorothy': 6127, 'kiefer': 6128, 'alle': 6129, 'mone': 6130, 'eppolum': 6131, 'allalo': 6132, 'fundamentals': 6133, 'pixels': 6134, 'optical': 6135, 'dooms': 6136, 'noi': 6137, 'js': 6138, 'burgundy': 6139, 'captaining': 6140, 'amrita': 6141, 'profile': 6142, 'bpo': 6143, 'nighters': 6144, 'persevered': 6145, 'regretted': 6146, 'spouse': 6147, 'pmt': 6148, 'shldxxxx': 6149, 'scenario': 6150, 'spun': 6151, 'wrld': 6152, 'ppmpobox': 6153, 'bhamb': 6154, 'xe': 6155, 'pounded': 6156, 'broadband': 6157, 'installation': 6158, 'tensed': 6159, 'coughing': 6160, 'warned': 6161, 'sprint': 6162, 'gower': 6163, 'chik': 6164, 'filth': 6165, 'saristar': 6166, 'yt': 6167, 'wire': 6168, 'mobcudb': 6169, 'sabarish': 6170, 'jaya': 6171, 'inpersonation': 6172, 'flea': 6173, 'banneduk': 6174, 'highest': 6175, 'maximum': 6176, 'taj': 6177, 'lesser': 6178, 'known': 6179, 'facts': 6180, 'wifes': 6181, 'arises': 6182, 'hari': 6183, 'rtf': 6184, 'sphosting': 6185, 'webadres': 6186, 'geting': 6187, 'incredible': 6188, 'fwd': 6189, 'maturity': 6190, 'passport': 6191, 'multiply': 6192, 'independently': 6193, 'showed': 6194, 'twins': 6195, 'strt': 6196, 'ltdhelpdesk': 6197, 'equally': 6198, 'uneventful': 6199, 'pesky': 6200, 'cyclists': 6201, 'adi': 6202, 'entey': 6203, 'nattil': 6204, 'kittum': 6205, 'kavalan': 6206, 'hire': 6207, 'hitman': 6208, 'cps': 6209, 'outages': 6210, 'conserve': 6211, 'voted': 6212, 'epi': 6213, 'bare': 6214, 'bhaskar': 6215, 'gong': 6216, 'kaypoh': 6217, 'basketball': 6218, 'outdoors': 6219, 'interfued': 6220, 'listed': 6221, 'apology': 6222, 'hustle': 6223, 'forth': 6224, 'harlem': 6225, 'workout': 6226, 'fats': 6227, 'zac': 6228, 'tonights': 6229, 'hui': 6230, 'versus': 6231, 'underdtand': 6232, 'muchxxlove': 6233, 'locaxx': 6234, 'skateboarding': 6235, 'thrown': 6236, 'winds': 6237, 'bandages': 6238, 'html': 6239, 'mfl': 6240, 'hectic': 6241, 'wamma': 6242, 'doggin': 6243, 'dogs': 6244, 'virtual': 6245, 'apnt': 6246, 'pants': 6247, 'sri': 6248, 'lanka': 6249, 'merely': 6250, 'relationship': 6251, 'wherevr': 6252, 'gudnyt': 6253, 'plum': 6254, 'smacks': 6255, 'alot': 6256, 'formatting': 6257, 'attracts': 6258, 'promotion': 6259, 'lancaster': 6260, 'neway': 6261, 'soc': 6262, 'bsn': 6263, 'advising': 6264, 'lobby': 6265, 'showered': 6266, 'ything': 6267, 'lubly': 6268, 'catches': 6269, 'specify': 6270, 'domain': 6271, 'nusstu': 6272, 'bari': 6273, 'hudgi': 6274, 'yorge': 6275, 'pataistha': 6276, 'ertini': 6277, 'hasbro': 6278, 'jump': 6279, 'hoops': 6280, 'ummifying': 6281, 'associate': 6282, 'rip': 6283, 'uterus': 6284, 'jacuzzi': 6285, 'txtstar': 6286, 'uve': 6287, 'wildest': 6288, 'aldrine': 6289, 'rtm': 6290, 'sources': 6291, 'unhappiness': 6292, 'necesity': 6293, 'witout': 6294, 'colleg': 6295, 'wth': 6296, 'functions': 6297, 'events': 6298, 'espe': 6299, 'irritated': 6300, 'wrd': 6301, 'wthout': 6302, 'takecare': 6303, 'univ': 6304, 'rajas': 6305, 'burrito': 6306, 'disconnect': 6307, 'terrorist': 6308, 'confirmd': 6309, 'verified': 6310, 'cnn': 6311, 'ibn': 6312, 'stitch': 6313, 'trouser': 6314, 'cheetos': 6315, 'synced': 6316, 'shangela': 6317, 'hppnss': 6318, 'sorrow': 6319, 'goodfriend': 6320, 'passes': 6321, 'poo': 6322, 'gloucesterroad': 6323, 'uup': 6324, 'ouch': 6325, 'forgiveness': 6326, 'glo': 6327, 'wlcome': 6328, 'timi': 6329, 'mila': 6330, 'blonde': 6331, 'mtalk': 6332, 'pp': 6333, 'increments': 6334, 'fishrman': 6335, 'sack': 6336, 'strtd': 6337, 'throwin': 6338, 'mobstorequiz': 6339, 'physics': 6340, 'praveesh': 6341, 'delicious': 6342, 'salad': 6343, 'beers': 6344, 'whore': 6345, 'funk': 6346, 'twinks': 6347, 'scallies': 6348, 'skins': 6349, 'jocks': 6350, 'flood': 6351, 'beads': 6352, 'wishlist': 6353, 'section': 6354, 'nitro': 6355, 'comfort': 6356, 'sold': 6357, 'creative': 6358, 'reffering': 6359, 'getiing': 6360, 'weirdy': 6361, 'brownies': 6362, 'restrict': 6363, 'greece': 6364, 'protect': 6365, 'sib': 6366, 'sensitive': 6367, 'passwords': 6368, 'recorded': 6369, 'someday': 6370, 'grandfather': 6371, 'november': 6372, 'yuou': 6373, 'spot': 6374, 'bunch': 6375, 'lotto': 6376, 'purchases': 6377, 'authorise': 6378, 'gimmi': 6379, 'goss': 6380, 'ystrday': 6381, 'chile': 6382, 'subletting': 6383, 'ammae': 6384, 'steering': 6385, 'sleeps': 6386, 'rounder': 6387, 'required': 6388, 'lambu': 6389, 'ji': 6390, 'batchlor': 6391, 'zoom': 6392, 'cncl': 6393, 'stopcs': 6394, 'ecef': 6395, 'ff': 6396, 'jul': 6397, 'xafter': 6398, 'cst': 6399, 'chg': 6400, 'pure': 6401, 'hearted': 6402, 'enemies': 6403, 'smiley': 6404, 'gail': 6405, 'tr': 6406, 'yaxxx': 6407, 'theoretically': 6408, 'hooked': 6409, 'formally': 6410, 'multimedia': 6411, 'vague': 6412, 'accounting': 6413, 'delayed': 6414, 'housing': 6415, 'agency': 6416, 'renting': 6417, 'presents': 6418, 'nicky': 6419, 'gumby': 6420, 'alto': 6421, 'sized': 6422, 'tarpon': 6423, 'springs': 6424, 'cab': 6425, 'steps': 6426, 'limited': 6427, 'hf': 6428, 'radiator': 6429, 'proper': 6430, 'tongued': 6431, 'shorts': 6432, 'qi': 6433, 'suddenly': 6434, 'flurries': 6435, 'pushbutton': 6436, 'dontcha': 6437, 'babygoodbye': 6438, 'golddigger': 6439, 'webeburnin': 6440, 'perform': 6441, 'cards': 6442, 'rebooting': 6443, 'nigh': 6444, 'nooooooo': 6445, 'cable': 6446, 'outage': 6447, 'sos': 6448, 'playin': 6449, 'guoyang': 6450, 'rahul': 6451, 'dengra': 6452, 'antelope': 6453, 'toplay': 6454, 'fieldof': 6455, 'selfindependence': 6456, 'contention': 6457, 'gnarls': 6458, 'barkleys': 6459, 'borderline': 6460, 'nightnight': 6461, 'possibility': 6462, 'grooved': 6463, 'mising': 6464, 'secured': 6465, 'unsecured': 6466, 'lanre': 6467, 'fakeye': 6468, 'eckankar': 6469, 'degrees': 6470, 'dodgey': 6471, 'seing': 6472, 'asssssholeeee': 6473, 'ceri': 6474, 'rebel': 6475, 'dreamz': 6476, 'buddy': 6477, 'blokes': 6478, 'nationwide': 6479, 'newport': 6480, 'juliana': 6481, 'nachos': 6482, 'dizzamn': 6483, 'suitemates': 6484, 'nimbomsons': 6485, 'continent': 6486, 'housewives': 6487, 'landlines': 6488, 'emerging': 6489, 'fiend': 6490, 'impede': 6491, 'hesitant': 6492, 'thousad': 6493, 'nose': 6494, 'essay': 6495, 'tram': 6496, 'vic': 6497, 'coherently': 6498, 'triple': 6499, 'echo': 6500, 'gran': 6501, 'onlyfound': 6502, 'afew': 6503, 'cusoon': 6504, 'honi': 6505, 'southern': 6506, 'rayan': 6507, 'macleran': 6508, 'balls': 6509, 'olave': 6510, 'mandara': 6511, 'trishul': 6512, 'woo': 6513, 'hoo': 6514, 'panties': 6515, 'thout': 6516, 'flatter': 6517, 'pints': 6518, 'carlin': 6519, 'ciao': 6520, 'starve': 6521, 'impression': 6522, 'motivate': 6523, 'darkness': 6524, 'wknd': 6525, 'yalrigu': 6526, 'heltini': 6527, 'iyo': 6528, 'shared': 6529, 'uttered': 6530, 'trusting': 6531, 'noice': 6532, 'esaplanade': 6533, 'accessible': 6534, 'occurs': 6535, 'enna': 6536, 'kalaachutaarama': 6537, 'coco': 6538, 'sporadically': 6539, 'ldns': 6540, 'tbs': 6541, 'persolvo': 6542, 'kath': 6543, 'manchester': 6544, 'burden': 6545, 'noworriesloans': 6546, 'harder': 6547, 'nbme': 6548, 'sickness': 6549, 'villa': 6550, 'gam': 6551, 'smash': 6552, 'religiously': 6553, 'heroes': 6554, 'tips': 6555, 'muhommad': 6556, 'penny': 6557, 'fiting': 6558, 'load': 6559, 'mj': 6560, 'unconvinced': 6561, 'elaborate': 6562, 'willpower': 6563, 'absence': 6564, 'answerin': 6565, 'evey': 6566, 'prin': 6567, 'gsoh': 6568, 'spam': 6569, 'gigolo': 6570, 'mens': 6571, 'oncall': 6572, 'mjzgroup': 6573, 'ashwini': 6574, 'ukp': 6575, 'thet': 6576, 'skinny': 6577, 'casting': 6578, 'elections': 6579, 'hlday': 6580, 'camp': 6581, 'amrca': 6582, 'serena': 6583, 'prescribed': 6584, 'meatballs': 6585, 'approve': 6586, 'panalam': 6587, 'spjanuary': 6588, 'fortune': 6589, 'allday': 6590, 'perf': 6591, 'outsider': 6592, 'familiar': 6593, 'depression': 6594, 'infact': 6595, 'simpsons': 6596, 'band': 6597, 'shite': 6598, 'kip': 6599, 'hont': 6600, 'amanda': 6601, 'regard': 6602, 'renewing': 6603, 'upgrading': 6604, 'subject': 6605, 'nannys': 6606, 'puts': 6607, 'perspective': 6608, 'conveying': 6609, 'debating': 6610, 'wtlp': 6611, 'jb': 6612, 'florida': 6613, 'hidden': 6614, 'teams': 6615, 'swhrt': 6616, 'ez': 6617, 'general': 6618, 'jetton': 6619, 'cmon': 6620, 'replies': 6621, 'lunsford': 6622, 'enjoying': 6623, 'prizeawaiting': 6624, 'kfc': 6625, 'meals': 6626, 'gravy': 6627, 'attended': 6628, 'mw': 6629, 'tuth': 6630, 'eviction': 6631, 'spiral': 6632, 'michael': 6633, 'riddance': 6634, 'suffers': 6635, 'raglan': 6636, 'edward': 6637, 'cricket': 6638, 'closeby': 6639, 'skye': 6640, 'bookedthe': 6641, 'hut': 6642, 'drastic': 6643, 'garments': 6644, 'sez': 6645, 'arab': 6646, 'eshxxxxxxxxxxx': 6647, 'lay': 6648, 'bimbo': 6649, 'ugo': 6650, 'portege': 6651, 'semiobscure': 6652, 'gprs': 6653, 'loosu': 6654, 'careless': 6655, 'freaking': 6656, 'myspace': 6657, 'logged': 6658, 'method': 6659, 'jewelry': 6660, 'breaker': 6661, 'deluxe': 6662, 'features': 6663, 'graphics': 6664, 'bbdeluxe': 6665, 'fumbling': 6666, 'weekdays': 6667, 'nails': 6668, 'asia': 6669, 'greatest': 6670, 'courage': 6671, 'bear': 6672, 'defeat': 6673, 'stil': 6674, 'tobed': 6675, 'natalja': 6676, 'asthma': 6677, 'attack': 6678, 'spin': 6679, 'haiyoh': 6680, 'prsn': 6681, 'saves': 6682, 'audiitions': 6683, 'relocate': 6684, 'pocked': 6685, 'motivating': 6686, 'brison': 6687, 'spelled': 6688, 'caps': 6689, 'bullshit': 6690, 'motherfucker': 6691, 'kit': 6692, 'strip': 6693, 'ig': 6694, 'oja': 6695, 'thesmszone': 6696, 'anonymous': 6697, 'masked': 6698, 'abuse': 6699, 'woodland': 6700, 'avenue': 6701, 'parish': 6702, 'magazine': 6703, 'billy': 6704, 'awww': 6705, 'useless': 6706, 'loo': 6707, 'ed': 6708, 'shelf': 6709, 'swollen': 6710, 'glands': 6711, 'bcaz': 6712, 'stu': 6713, 'truble': 6714, 'evone': 6715, 'hates': 6716, 'view': 6717, 'gays': 6718, 'dual': 6719, 'hostile': 6720, 'haircut': 6721, 'breezy': 6722, 'polyh': 6723, 'apple': 6724, 'tulsi': 6725, 'leaf': 6726, 'lemon': 6727, 'problms': 6728, 'litres': 6729, 'watr': 6730, 'diseases': 6731, 'snd': 6732, 'lavender': 6733, 'manky': 6734, 'scouse': 6735, 'travelling': 6736, 'inmind': 6737, 'recreation': 6738, 'mesages': 6739, 'judgemental': 6740, 'fridays': 6741, 'waheeda': 6742, 'bot': 6743, 'notes': 6744, 'eventually': 6745, 'tolerance': 6746, 'hits': 6747, 'hellogorgeous': 6748, 'nitw': 6749, 'texd': 6750, 'hopeu': 6751, 'ward': 6752, 'jaz': 6753, 'exorcism': 6754, 'emily': 6755, 'emotion': 6756, 'prayrs': 6757, 'othrwise': 6758, 'ujhhhhhhh': 6759, 'sandiago': 6760, 'parantella': 6761, 'hugging': 6762, 'sweater': 6763, 'mango': 6764, 'involved': 6765, 'landmark': 6766, 'bob': 6767, 'barry': 6768, 'absolutly': 6769, 'consent': 6770, 'tonexs': 6771, 'renewed': 6772, 'clubzed': 6773, 'billing': 6774, 'mathews': 6775, 'tait': 6776, 'edwards': 6777, 'anderson': 6778, 'haunt': 6779, 'promoting': 6780, 'crowd': 6781, 'snowboarding': 6782, 'christmassy': 6783, 'recpt': 6784, 'baaaaaaaabe': 6785, 'ignoring': 6786, 'shola': 6787, 'sagamu': 6788, 'lautech': 6789, 'vital': 6790, 'completes': 6791, 'education': 6792, 'zealand': 6793, 'qet': 6794, 'browser': 6795, 'surf': 6796, 'subscribers': 6797, 'conversations': 6798, 'senses': 6799, 'overemphasise': 6800, 'headset': 6801, 'adp': 6802, 'internal': 6803, 'extract': 6804, 'immed': 6805, 'skint': 6806, 'fancied': 6807, 'bevies': 6808, 'waz': 6809, 'othrs': 6810, 'spoon': 6811, 'watchng': 6812, 'comfey': 6813, 'quitting': 6814, 'wudn': 6815, 'frequently': 6816, 'cupboard': 6817, 'route': 6818, 'mro': 6819, 'floppy': 6820, 'snappy': 6821, 'risk': 6822, 'grasp': 6823, 'flavour': 6824, 'laready': 6825, 'denying': 6826, 'dom': 6827, 'ffffuuuuuuu': 6828, 'julianaland': 6829, 'oblivious': 6830, 'dehydrated': 6831, 'mapquest': 6832, 'dogwood': 6833, 'archive': 6834, 'mgs': 6835, 'lengths': 6836, 'behalf': 6837, 'stunning': 6838, 'visa': 6839, 'gucci': 6840, 'sozi': 6841, 'culdnt': 6842, 'talkbut': 6843, 'wannatell': 6844, 'wenwecan': 6845, 'smsing': 6846, 'efficient': 6847, 'erutupalam': 6848, 'thandiyachu': 6849, 'invention': 6850, 'lyrics': 6851, 'nevr': 6852, 'unrecognized': 6853, 'somone': 6854, 'valuing': 6855, 'definitly': 6856, 'undrstnd': 6857, 'ger': 6858, 'toking': 6859, 'syd': 6860, 'khelate': 6861, 'kintu': 6862, 'opponenter': 6863, 'dhorte': 6864, 'lage': 6865, 'fried': 6866, 'spares': 6867, 'looovvve': 6868, 'warwick': 6869, 'tmw': 6870, 'canceled': 6871, 'havn': 6872, 'tops': 6873, 'grandma': 6874, 'parade': 6875, 'proze': 6876, 'norcorp': 6877, 'posting': 6878, 'cfca': 6879, 'grumble': 6880, 'linear': 6881, 'algebra': 6882, 'decorating': 6883, 'wining': 6884, 'roomate': 6885, 'graduated': 6886, 'adjustable': 6887, 'cooperative': 6888, 'allows': 6889, 'nottingham': 6890, 'mph': 6891, 'mornin': 6892, 'thanku': 6893, 'guessed': 6894, 'strings': 6895, 'ea': 6896, 'otbox': 6897, 'beside': 6898, 'brisk': 6899, 'walks': 6900, 'sexiest': 6901, 'dirtiest': 6902, 'tellmiss': 6903, 'contribute': 6904, 'greatly': 6905, 'urgh': 6906, 'coach': 6907, 'smells': 6908, 'duvet': 6909, 'predictive': 6910, 'utxt': 6911, 'beverage': 6912, 'pist': 6913, 'surrender': 6914, 'symptoms': 6915, 'rdy': 6916, 'backwards': 6917, 'abstract': 6918, 'africa': 6919, 'avin': 6920, 'chit': 6921, 'logon': 6922, 'zf': 6923, 'quiteamuzing': 6924, 'scool': 6925, 'ppmmobilesvary': 6926, 'rows': 6927, 'engagement': 6928, 'fixd': 6929, 'njan': 6930, 'vilikkam': 6931, 'sudn': 6932, 'maths': 6933, 'chapter': 6934, 'chop': 6935, 'noooooooo': 6936, 'firsg': 6937, 'split': 6938, 'wasnt': 6939, 'heat': 6940, 'applyed': 6941, 'sumfing': 6942, 'hiphop': 6943, 'oxygen': 6944, 'resort': 6945, 'roller': 6946, 'recorder': 6947, 'canname': 6948, 'australia': 6949, 'mquiz': 6950, 'showr': 6951, 'upon': 6952, 'ceiling': 6953, 'presnts': 6954, 'bcz': 6955, 'jeevithathile': 6956, 'irulinae': 6957, 'neekunna': 6958, 'prakasamanu': 6959, 'sneham': 6960, 'prakasam': 6961, 'ennal': 6962, 'mns': 6963, 'blowing': 6964, 'firmware': 6965, 'vijaykanth': 6966, 'anythiing': 6967, 'ripped': 6968, 'clubmoby': 6969, 'keypad': 6970, 'btwn': 6971, 'decades': 6972, 'goverment': 6973, 'expects': 6974, 'spice': 6975, 'prasanth': 6976, 'ettans': 6977, 'appy': 6978, 'fizz': 6979, 'contains': 6980, 'genus': 6981, 'robinson': 6982, 'outs': 6983, 'soz': 6984, 'imat': 6985, 'mums': 6986, 'sometext': 6987, 'chloe': 6988, 'wewa': 6989, 'iriver': 6990, 'bw': 6991, 'surly': 6992, 'mmmmmmm': 6993, 'snuggles': 6994, 'contented': 6995, 'whispers': 6996, 'healthy': 6997, 'scraped': 6998, 'barrel': 6999, 'misfits': 7000, 'sections': 7001, 'clearer': 7002, 'peach': 7003, 'tasts': 7004, 'rayman': 7005, 'golf': 7006, 'activ': 7007, 'termsapply': 7008, 'shindig': 7009, 'phonebook': 7010, 'rocking': 7011, 'ashes': 7012, 'shijutta': 7013, 'offense': 7014, 'dvg': 7015, 'vinobanagar': 7016, 'ovulate': 7017, 'woah': 7018, 'realising': 7019, 'orh': 7020, 'hides': 7021, 'secrets': 7022, 'axel': 7023, 'akon': 7024, 'eyed': 7025, 'canteen': 7026, 'stressfull': 7027, 'adds': 7028, 'continued': 7029, 'president': 7030, 'pleasured': 7031, 'providing': 7032, 'assistance': 7033, 'whens': 7034, 'watever': 7035, 'built': 7036, 'lonlines': 7037, 'lotz': 7038, 'memories': 7039, 'gailxx': 7040, 'complacent': 7041, 'mina': 7042, 'miwa': 7043, 'opposite': 7044, 'heavily': 7045, 'dolls': 7046, 'patrick': 7047, 'swayze': 7048, 'santacalling': 7049, 'quarter': 7050, 'fired': 7051, 'limping': 7052, 'aa': 7053, 'oga': 7054, 'poorly': 7055, 'punishment': 7056, 'brb': 7057, 'kill': 7058, 'predicte': 7059, 'situations': 7060, 'loosing': 7061, 'smaller': 7062, 'capacity': 7063, 'videos': 7064, 'shsex': 7065, 'netun': 7066, 'fgkslpopw': 7067, 'fgkslpo': 7068, 'defer': 7069, 'admission': 7070, 'checkmate': 7071, 'chess': 7072, 'persian': 7073, 'phrase': 7074, 'shah': 7075, 'maat': 7076, 'rats': 7077, 'themes': 7078, 'photoshop': 7079, 'manageable': 7080, 'increase': 7081, 'north': 7082, 'carolina': 7083, 'texas': 7084, 'gre': 7085, 'bomb': 7086, 'breathing': 7087, 'powerful': 7088, 'weapon': 7089, 'lovly': 7090, 'customercare': 7091, 'clas': 7092, 'lit': 7093, 'loooooool': 7094, 'couch': 7095, 'swashbuckling': 7096, 'terror': 7097, 'cruel': 7098, 'decent': 7099, 'joker': 7100, 'dip': 7101, 'gek': 7102, 'lyricalladie': 7103, 'hmmross': 7104, 'happiest': 7105, 'characters': 7106, 'differences': 7107, 'lists': 7108, 'antibiotic': 7109, 'abdomen': 7110, 'gynae': 7111, 'exposed': 7112, 'chastity': 7113, 'device': 7114, 'beatings': 7115, 'uses': 7116, 'gut': 7117, 'wrenching': 7118, 'tallahassee': 7119, 'ou': 7120, 'taka': 7121, 'nr': 7122, 'zs': 7123, 'ritten': 7124, 'fold': 7125, 'colin': 7126, 'farrell': 7127, 'swat': 7128, 'mre': 7129, 'solihull': 7130, 'nhs': 7131, 'terminated': 7132, 'inconvenience': 7133, 'dentists': 7134, 'yards': 7135, 'bergkamp': 7136, 'margin': 7137, 'snot': 7138, 'unintentional': 7139, 'nonetheless': 7140, 'hooch': 7141, 'toaday': 7142, 'splat': 7143, 'grazed': 7144, 'knees': 7145, 'deny': 7146, 'hearin': 7147, 'yah': 7148, 'torture': 7149, 'hopeing': 7150, 'sisters': 7151, 'sexychat': 7152, 'lips': 7153, 'congratulation': 7154, 'court': 7155, 'chapel': 7156, 'frontierville': 7157, 'mountain': 7158, 'deer': 7159, 'mailed': 7160, 'varma': 7161, 'secure': 7162, 'parties': 7163, 'farting': 7164, 'ortxt': 7165, 'trained': 7166, 'advisors': 7167, 'dialling': 7168, 'stuffing': 7169, 'ahhhh': 7170, 'experiencehttp': 7171, 'vouch': 7172, 'etlp': 7173, 'kaila': 7174, 'unicef': 7175, 'asian': 7176, 'tsunami': 7177, 'disaster': 7178, 'fund': 7179, 'hos': 7180, 'collapsed': 7181, 'cumming': 7182, 'jade': 7183, 'paul': 7184, 'barmed': 7185, 'thinkthis': 7186, 'dangerous': 7187, 'rushing': 7188, 'coulda': 7189, 'phony': 7190, 'okday': 7191, 'hmph': 7192, 'baller': 7193, 'punto': 7194, 'ayo': 7195, 'travelled': 7196, 'freeentry': 7197, 'xt': 7198, 'toyota': 7199, 'camry': 7200, 'olayiwola': 7201, 'mileage': 7202, 'landing': 7203, 'clover': 7204, 'achan': 7205, 'amma': 7206, 'rencontre': 7207, 'mountains': 7208, 'te': 7209, 'puppy': 7210, 'noise': 7211, 'meg': 7212, 'crossing': 7213, 'deepest': 7214, 'darkest': 7215, 'inconvenient': 7216, 'adsense': 7217, 'approved': 7218, 'dudette': 7219, 'perumbavoor': 7220, 'stage': 7221, 'clarify': 7222, 'preponed': 7223, 'younger': 7224, 'liver': 7225, 'opener': 7226, 'guides': 7227, 'watched': 7228, 'loneliness': 7229, 'skyving': 7230, 'onwords': 7231, 'mtnl': 7232, 'mumbai': 7233, 'accommodationvouchers': 7234, 'mustprovide': 7235, 'rajitha': 7236, 'ranju': 7237, 'styles': 7238, 'perweeksub': 7239, 'slp': 7240, 'muah': 7241, 'disagreeable': 7242, 'afterwards': 7243, 'uawake': 7244, 'feellikw': 7245, 'justfound': 7246, 'aletter': 7247, 'thatmum': 7248, 'gotmarried': 7249, 'thnov': 7250, 'ourbacks': 7251, 'fuckinnice': 7252, 'rearrange': 7253, 'dormitory': 7254, 'astronomer': 7255, 'starer': 7256, 'election': 7257, 'recount': 7258, 'hitler': 7259, 'eleven': 7260, 'worms': 7261, 'suffering': 7262, 'dysentry': 7263, 'andre': 7264, 'virgil': 7265, 'gokila': 7266, 'shanil': 7267, 'exchanged': 7268, 'uncut': 7269, 'diamond': 7270, 'dino': 7271, 'kotees': 7272, 'panther': 7273, 'sugababes': 7274, 'zebra': 7275, 'animation': 7276, 'badass': 7277, 'hoody': 7278, 'resent': 7279, 'queries': 7280, 'customersqueries': 7281, 'netvision': 7282, 'hassling': 7283, 'andres': 7284, 'haughaighgtujhyguj': 7285, 'fassyole': 7286, 'blacko': 7287, 'londn': 7288, 'responsibilities': 7289, 'vco': 7290, 'humanities': 7291, 'reassurance': 7292, 'aslamalaikkum': 7293, 'tohar': 7294, 'beeen': 7295, 'muht': 7296, 'albi': 7297, 'mufti': 7298, 'mahfuuz': 7299, 'enufcredeit': 7300, 'tocall': 7301, 'ileave': 7302, 'treats': 7303, 'okors': 7304, 'ibored': 7305, 'adding': 7306, 'zeros': 7307, 'savings': 7308, 'goigng': 7309, 'perfume': 7310, 'sday': 7311, 'grocers': 7312, 'pubs': 7313, 'frankie': 7314, 'bennys': 7315, 'changing': 7316, 'diapers': 7317, 'owed': 7318, 'unlike': 7319, 'patients': 7320, 'turkeys': 7321, 'helens': 7322, 'princes': 7323, 'unintentionally': 7324, 'garden': 7325, 'bulbs': 7326, 'seeds': 7327, 'scotsman': 7328, 'notxt': 7329, 'wenever': 7330, 'stability': 7331, 'tranquility': 7332, 'vibrant': 7333, 'colourful': 7334, 'bawling': 7335, 'failure': 7336, 'failing': 7337, 'velusamy': 7338, 'facilities': 7339, 'karnan': 7340, 'bluray': 7341, 'salt': 7342, 'wounds': 7343, 'logging': 7344, 'geoenvironmental': 7345, 'implications': 7346, 'fuuuuck': 7347, 'salmon': 7348, 'uploaded': 7349, 'wrkin': 7350, 'ree': 7351, 'compensation': 7352, 'awkward': 7353, 'splash': 7354, 'leg': 7355, 'musta': 7356, 'overdid': 7357, 'telediscount': 7358, 'gastroenteritis': 7359, 'replace': 7360, 'reduce': 7361, 'limiting': 7362, 'illness': 7363, 'foned': 7364, 'chuck': 7365, 'port': 7366, 'stuffs': 7367, 'juswoke': 7368, 'boatin': 7369, 'docks': 7370, 'spinout': 7371, 'uworld': 7372, 'qbank': 7373, 'assessment': 7374, 'someonone': 7375, 'tke': 7376, 'temales': 7377, 'finishd': 7378, 'dull': 7379, 'studies': 7380, 'anyones': 7381, 'treadmill': 7382, 'craigslist': 7383, 'absolutely': 7384, 'swan': 7385, 'lamp': 7386, 'foward': 7387, 'misundrstud': 7388, 'genes': 7389, 'resuming': 7390, 'reapply': 7391, 'treatin': 7392, 'treacle': 7393, 'mumhas': 7394, 'beendropping': 7395, 'theplace': 7396, 'adress': 7397, 'oyster': 7398, 'sashimi': 7399, 'rumbling': 7400, 'marandratha': 7401, 'correctly': 7402, 'alaikkum': 7403, 'heaven': 7404, 'pisces': 7405, 'aquarius': 7406, 'steyn': 7407, 'wicket': 7408, 'sterm': 7409, 'resolved': 7410, 'jam': 7411, 'hannaford': 7412, 'wheat': 7413, 'chex': 7414, 'grownup': 7415, 'costume': 7416, 'jerk': 7417, 'stink': 7418, 'follows': 7419, 'subsequent': 7420, 'openings': 7421, 'upcharge': 7422, 'guai': 7423, 'astrology': 7424, 'slacking': 7425, 'mentor': 7426, 'erotic': 7427, 'ecstacy': 7428, 'dept': 7429, 'coincidence': 7430, 'sane': 7431, 'helping': 7432, 'leading': 7433, 'pause': 7434, 'psp': 7435, 'spacebucks': 7436, 'squeezed': 7437, 'maintaining': 7438, 'dreading': 7439, 'thou': 7440, 'suggestion': 7441, 'helps': 7442, 'forgt': 7443, 'ajith': 7444, 'ooooooh': 7445, 'yoville': 7446, 'asda': 7447, 'counts': 7448, 'officer': 7449, 'bffs': 7450, 'carly': 7451, 'seperated': 7452, 'ud': 7453, 'brolly': 7454, 'franxx': 7455, 'prometazine': 7456, 'syrup': 7457, 'mls': 7458, 'feed': 7459, 'singapore': 7460, 'victoria': 7461, 'pocay': 7462, 'wocay': 7463, 'morrowxxxx': 7464, 'broth': 7465, 'ramen': 7466, 'fowler': 7467, 'tats': 7468, 'flew': 7469, 'attention': 7470, 'tix': 7471, 'fne': 7472, 'youdoing': 7473, 'worc': 7474, 'foregate': 7475, 'shrub': 7476, 'legitimat': 7477, 'efreefone': 7478, 'pendent': 7479, 'toilet': 7480, 'stolen': 7481, 'cops': 7482, 'hu': 7483, 'navigate': 7484, 'choosing': 7485, 'require': 7486, 'guidance': 7487, 'chick': 7488, 'boobs': 7489, 'revealing': 7490, 'sparkling': 7491, 'breaks': 7492, 'shortbreaks': 7493, 'org': 7494, 'gyno': 7495, 'belong': 7496, 'gamb': 7497, 'treasure': 7498, 'positive': 7499, 'negative': 7500, 'hmmmm': 7501, 'command': 7502, 'stressful': 7503, 'holby': 7504, 'li': 7505, 'lecturer': 7506, 'repeating': 7507, 'yeovil': 7508, 'motor': 7509, 'rhode': 7510, 'bong': 7511, 'ofcourse': 7512, 'planettalkinstant': 7513, 'marvel': 7514, 'ultimate': 7515, 'tamilnadu': 7516, 'tip': 7517, 'identification': 7518, 'limit': 7519, 'boundaries': 7520, 'endless': 7521, 'reassuring': 7522, 'young': 7523, 'referin': 7524, 'saibaba': 7525, 'colany': 7526, 'chic': 7527, 'declare': 7528, 'disappointment': 7529, 'irritation': 7530, 'tantrum': 7531, 'compliments': 7532, 'adventuring': 7533, 'chief': 7534, 'gsex': 7535, 'chatlines': 7536, 'inclu': 7537, 'servs': 7538, 'bailiff': 7539, 'mouse': 7540, 'desk': 7541, 'childporn': 7542, 'jumpers': 7543, 'hat': 7544, 'belt': 7545, 'cribbs': 7546, 'spiritual': 7547, 'barring': 7548, 'sudden': 7549, 'influx': 7550, 'kane': 7551, 'shud': 7552, 'pshew': 7553, 'units': 7554, 'accent': 7555, 'dental': 7556, 'nmde': 7557, 'dump': 7558, 'heap': 7559, 'lowes': 7560, 'salesman': 7561, 'pity': 7562, 'suggestions': 7563, 'bitching': 7564}\n"
          ],
          "name": "stdout"
        }
      ]
    },
    {
      "cell_type": "code",
      "metadata": {
        "colab": {
          "base_uri": "https://localhost:8080/"
        },
        "id": "okRFCKP5evtm",
        "outputId": "6b0fa167-0360-4e94-892a-c1fb6d03d077"
      },
      "source": [
        "len(word_index)"
      ],
      "execution_count": null,
      "outputs": [
        {
          "output_type": "execute_result",
          "data": {
            "text/plain": [
              "7564"
            ]
          },
          "metadata": {
            "tags": []
          },
          "execution_count": 75
        }
      ]
    },
    {
      "cell_type": "code",
      "metadata": {
        "colab": {
          "base_uri": "https://localhost:8080/"
        },
        "id": "7JabmseIfHBc",
        "outputId": "e8ad2072-5691-495f-e9f0-cf9e92181778"
      },
      "source": [
        "vocab_size=len(word_index) + 1\r\n",
        "print('vocab size:{}'.format(vocab_size))"
      ],
      "execution_count": null,
      "outputs": [
        {
          "output_type": "stream",
          "text": [
            "vocab size:7565\n"
          ],
          "name": "stdout"
        }
      ]
    },
    {
      "cell_type": "code",
      "metadata": {
        "colab": {
          "base_uri": "https://localhost:8080/"
        },
        "id": "BTi7o_zwfXjF",
        "outputId": "12cc90d0-e26e-4bbe-d19e-fe13e13f45c5"
      },
      "source": [
        "feature.shape"
      ],
      "execution_count": null,
      "outputs": [
        {
          "output_type": "execute_result",
          "data": {
            "text/plain": [
              "(5169,)"
            ]
          },
          "metadata": {
            "tags": []
          },
          "execution_count": 77
        }
      ]
    },
    {
      "cell_type": "code",
      "metadata": {
        "colab": {
          "base_uri": "https://localhost:8080/",
          "height": 35
        },
        "id": "WFvZ5fDrfeQG",
        "outputId": "5f01efae-aabb-4c4f-d80f-ebf975a0bd31"
      },
      "source": [
        "feature[0]"
      ],
      "execution_count": null,
      "outputs": [
        {
          "output_type": "execute_result",
          "data": {
            "application/vnd.google.colaboratory.intrinsic+json": {
              "type": "string"
            },
            "text/plain": [
              "'go jurong point crazy available bugis n great world la e buffet cine got amore wat'"
            ]
          },
          "metadata": {
            "tags": []
          },
          "execution_count": 78
        }
      ]
    },
    {
      "cell_type": "code",
      "metadata": {
        "id": "yCvw9Hh4fqKa"
      },
      "source": [
        "feature=sequences"
      ],
      "execution_count": null,
      "outputs": []
    },
    {
      "cell_type": "code",
      "metadata": {
        "colab": {
          "base_uri": "https://localhost:8080/"
        },
        "id": "XMRCCio6f73g",
        "outputId": "041f3051-0111-4c8d-8acd-ed3d2984af32"
      },
      "source": [
        "feature[0]"
      ],
      "execution_count": null,
      "outputs": [
        {
          "output_type": "execute_result",
          "data": {
            "text/plain": [
              "[7, 3484, 630, 562, 523, 1015, 30, 56, 307, 767, 68, 2373, 1016, 12, 3485, 57]"
            ]
          },
          "metadata": {
            "tags": []
          },
          "execution_count": 81
        }
      ]
    },
    {
      "cell_type": "code",
      "metadata": {
        "colab": {
          "base_uri": "https://localhost:8080/"
        },
        "id": "Oo_9Vn6Mf9zo",
        "outputId": "28d6c12e-2dfa-4465-d1a8-9a4fb7669339"
      },
      "source": [
        "print(max(len(i) for i in feature))\r\n",
        "print(sum(map(len, feature))/len(feature))"
      ],
      "execution_count": null,
      "outputs": [
        {
          "output_type": "stream",
          "text": [
            "77\n",
            "8.793964016250726\n"
          ],
          "name": "stdout"
        }
      ]
    },
    {
      "cell_type": "code",
      "metadata": {
        "colab": {
          "base_uri": "https://localhost:8080/",
          "height": 476
        },
        "id": "6oKaFqTdgfsm",
        "outputId": "9cdf34e1-846c-4278-f225-69b4cd52d0cb"
      },
      "source": [
        "plt.hist([len(i) for i in feature],bins=50)"
      ],
      "execution_count": null,
      "outputs": [
        {
          "output_type": "execute_result",
          "data": {
            "text/plain": [
              "(array([ 93., 861., 612., 927., 346., 504., 190., 347., 176., 319., 145.,\n",
              "        224., 166.,  73.,  75.,  30.,  26.,   3.,   7.,   5.,  13.,   2.,\n",
              "          5.,   3.,   4.,   2.,   0.,   1.,   0.,   1.,   0.,   1.,   0.,\n",
              "          1.,   0.,   0.,   0.,   0.,   0.,   1.,   2.,   1.,   0.,   0.,\n",
              "          0.,   0.,   0.,   2.,   0.,   1.]),\n",
              " array([ 0.  ,  1.54,  3.08,  4.62,  6.16,  7.7 ,  9.24, 10.78, 12.32,\n",
              "        13.86, 15.4 , 16.94, 18.48, 20.02, 21.56, 23.1 , 24.64, 26.18,\n",
              "        27.72, 29.26, 30.8 , 32.34, 33.88, 35.42, 36.96, 38.5 , 40.04,\n",
              "        41.58, 43.12, 44.66, 46.2 , 47.74, 49.28, 50.82, 52.36, 53.9 ,\n",
              "        55.44, 56.98, 58.52, 60.06, 61.6 , 63.14, 64.68, 66.22, 67.76,\n",
              "        69.3 , 70.84, 72.38, 73.92, 75.46, 77.  ]),\n",
              " <a list of 50 Patch objects>)"
            ]
          },
          "metadata": {
            "tags": []
          },
          "execution_count": 87
        },
        {
          "output_type": "display_data",
          "data": {
            "image/png": "[encoded data removed]",
            "text/plain": [
              "<Figure size 432x288 with 1 Axes>"
            ]
          },
          "metadata": {
            "tags": [],
            "needs_background": "light"
          }
        }
      ]
    },
    {
      "cell_type": "code",
      "metadata": {
        "colab": {
          "base_uri": "https://localhost:8080/"
        },
        "id": "RwhuBFAbguqY",
        "outputId": "8a42d8e4-e94f-4350-811c-cf3d3ba99f68"
      },
      "source": [
        "max_len=77\r\n",
        "\r\n",
        "data = pad_sequences(feature, maxlen=max_len)\r\n",
        "print(data.shape)"
      ],
      "execution_count": null,
      "outputs": [
        {
          "output_type": "stream",
          "text": [
            "(5169, 77)\n"
          ],
          "name": "stdout"
        }
      ]
    },
    {
      "cell_type": "code",
      "metadata": {
        "colab": {
          "base_uri": "https://localhost:8080/"
        },
        "id": "QrJnmlVcoFuT",
        "outputId": "f999bfbc-47dd-4855-c518-7a1f7b0c379a"
      },
      "source": [
        "data[0]"
      ],
      "execution_count": null,
      "outputs": [
        {
          "output_type": "execute_result",
          "data": {
            "text/plain": [
              "array([   0,    0,    0,    0,    0,    0,    0,    0,    0,    0,    0,\n",
              "          0,    0,    0,    0,    0,    0,    0,    0,    0,    0,    0,\n",
              "          0,    0,    0,    0,    0,    0,    0,    0,    0,    0,    0,\n",
              "          0,    0,    0,    0,    0,    0,    0,    0,    0,    0,    0,\n",
              "          0,    0,    0,    0,    0,    0,    0,    0,    0,    0,    0,\n",
              "          0,    0,    0,    0,    0,    0,    7, 3484,  630,  562,  523,\n",
              "       1015,   30,   56,  307,  767,   68, 2373, 1016,   12, 3485,   57],\n",
              "      dtype=int32)"
            ]
          },
          "metadata": {
            "tags": []
          },
          "execution_count": 89
        }
      ]
    },
    {
      "cell_type": "code",
      "metadata": {
        "colab": {
          "base_uri": "https://localhost:8080/"
        },
        "id": "RL7dI0k4oHRB",
        "outputId": "c476aa0c-4b1c-44ac-fea9-27651e89a53b"
      },
      "source": [
        "target.shape"
      ],
      "execution_count": null,
      "outputs": [
        {
          "output_type": "execute_result",
          "data": {
            "text/plain": [
              "(5169,)"
            ]
          },
          "metadata": {
            "tags": []
          },
          "execution_count": 91
        }
      ]
    },
    {
      "cell_type": "code",
      "metadata": {
        "id": "oyJPH6b0oSia"
      },
      "source": [
        "from sklearn.model_selection import train_test_split\r\n",
        "\r\n",
        "x_train,x_test,y_train,y_test =  train_test_split(data,target, test_size= 0.2, random_state=0)"
      ],
      "execution_count": null,
      "outputs": []
    },
    {
      "cell_type": "code",
      "metadata": {
        "colab": {
          "base_uri": "https://localhost:8080/"
        },
        "id": "wjFBXkneomZL",
        "outputId": "c061c451-e974-436d-be70-5fed9fd2776f"
      },
      "source": [
        "x_train.shape,y_train.shape"
      ],
      "execution_count": null,
      "outputs": [
        {
          "output_type": "execute_result",
          "data": {
            "text/plain": [
              "((4135, 77), (4135,))"
            ]
          },
          "metadata": {
            "tags": []
          },
          "execution_count": 95
        }
      ]
    },
    {
      "cell_type": "code",
      "metadata": {
        "colab": {
          "base_uri": "https://localhost:8080/"
        },
        "id": "81WloYDlooAv",
        "outputId": "5f3c50ee-15a1-4963-98c8-c0bd55aca195"
      },
      "source": [
        "x_test.shape,y_test.shape"
      ],
      "execution_count": null,
      "outputs": [
        {
          "output_type": "execute_result",
          "data": {
            "text/plain": [
              "((1034, 77), (1034,))"
            ]
          },
          "metadata": {
            "tags": []
          },
          "execution_count": 96
        }
      ]
    },
    {
      "cell_type": "code",
      "metadata": {
        "colab": {
          "base_uri": "https://localhost:8080/"
        },
        "id": "uTOy6O7jpKnh",
        "outputId": "a57def32-89a9-4d45-94a0-fe06bcbeaaff"
      },
      "source": [
        "model=Sequential()\r\n",
        "model.add(Embedding(vocab_size,32))\r\n",
        "model.add(SimpleRNN(32))\r\n",
        "model.add(Dense(1,activation='sigmoid'))\r\n",
        "\r\n",
        "model.compile(loss='binary_crossentropy',optimizer='rmsprop',metrics=['acc'])\r\n",
        "\r\n",
        "history = model.fit(x_train_new, y_train_new , epochs=4, batch_size=64, validation_split=0.2)"
      ],
      "execution_count": null,
      "outputs": [
        {
          "output_type": "stream",
          "text": [
            "Epoch 1/4\n",
            "52/52 [==============================] - 3s 33ms/step - loss: 0.4772 - acc: 0.8276 - val_loss: 0.3563 - val_acc: 0.8670\n",
            "Epoch 2/4\n",
            "52/52 [==============================] - 1s 21ms/step - loss: 0.3855 - acc: 0.8245 - val_loss: 0.2293 - val_acc: 0.9141\n",
            "Epoch 3/4\n",
            "52/52 [==============================] - 1s 20ms/step - loss: 0.1787 - acc: 0.9583 - val_loss: 0.1266 - val_acc: 0.9637\n",
            "Epoch 4/4\n",
            "52/52 [==============================] - 1s 21ms/step - loss: 0.0850 - acc: 0.9781 - val_loss: 0.0662 - val_acc: 0.9770\n"
          ],
          "name": "stdout"
        }
      ]
    },
    {
      "cell_type": "code",
      "metadata": {
        "id": "smTqZNMUsoz0"
      },
      "source": [
        "x_train_new=np.asarray(x_train).astype(np.float32)"
      ],
      "execution_count": null,
      "outputs": []
    },
    {
      "cell_type": "code",
      "metadata": {
        "colab": {
          "base_uri": "https://localhost:8080/"
        },
        "id": "vHUUT71GtcBF",
        "outputId": "fad85563-a572-4d1d-ed1b-4187c7aaf15b"
      },
      "source": [
        "x_train_new.shape"
      ],
      "execution_count": null,
      "outputs": [
        {
          "output_type": "execute_result",
          "data": {
            "text/plain": [
              "(4135, 77)"
            ]
          },
          "metadata": {
            "tags": []
          },
          "execution_count": 124
        }
      ]
    },
    {
      "cell_type": "code",
      "metadata": {
        "id": "LbQY_Hvrtg8I"
      },
      "source": [
        "y_train_new=np.asarray(y_train).astype(np.float32)"
      ],
      "execution_count": null,
      "outputs": []
    },
    {
      "cell_type": "code",
      "metadata": {
        "id": "x-4EEQlrtugF"
      },
      "source": [
        "x_test=np.asarray(x_test).astype(np.float32)\r\n",
        "y_test=np.asarray(y_test).astype(np.float32)"
      ],
      "execution_count": null,
      "outputs": []
    },
    {
      "cell_type": "code",
      "metadata": {
        "colab": {
          "base_uri": "https://localhost:8080/"
        },
        "id": "EHy95xPvuVMo",
        "outputId": "2d8db7c9-2811-4390-d02e-461cdfdf015b"
      },
      "source": [
        "model.evaluate(x_test,y_test)"
      ],
      "execution_count": null,
      "outputs": [
        {
          "output_type": "stream",
          "text": [
            "33/33 [==============================] - 0s 5ms/step - loss: 0.0726 - acc: 0.9787\n"
          ],
          "name": "stdout"
        },
        {
          "output_type": "execute_result",
          "data": {
            "text/plain": [
              "[0.07259923964738846, 0.978723406791687]"
            ]
          },
          "metadata": {
            "tags": []
          },
          "execution_count": 128
        }
      ]
    },
    {
      "cell_type": "code",
      "metadata": {
        "colab": {
          "base_uri": "https://localhost:8080/",
          "height": 282
        },
        "id": "Bcar2oI1uZng",
        "outputId": "19072b35-88ad-4f91-a5d1-57da27ed1c8d"
      },
      "source": [
        "plt.plot(history.history['loss'])\r\n",
        "plt.plot(history.history['val_loss'])\r\n",
        "plt.legend(['train','test'],loc='upper right')"
      ],
      "execution_count": null,
      "outputs": [
        {
          "output_type": "execute_result",
          "data": {
            "text/plain": [
              "<matplotlib.legend.Legend at 0x7f9bb43d69b0>"
            ]
          },
          "metadata": {
            "tags": []
          },
          "execution_count": 131
        },
        {
          "output_type": "display_data",
          "data": {
            "image/png": "[encoded data removed]",
            "text/plain": [
              "<Figure size 432x288 with 1 Axes>"
            ]
          },
          "metadata": {
            "tags": [],
            "needs_background": "light"
          }
        }
      ]
    },
    {
      "cell_type": "code",
      "metadata": {
        "id": "rBCjLxgPuq7l"
      },
      "source": [
        ""
      ],
      "execution_count": null,
      "outputs": []
    }
  ]
}
