{
  "nbformat": 4,
  "nbformat_minor": 0,
  "metadata": {
    "colab": {
      "name": "IMDB.ipynb",
      "provenance": [],
      "collapsed_sections": [],
      "authorship_tag": "ABX9TyOHE/Ig//lBornIWROiy3tg",
      "include_colab_link": true
    },
    "kernelspec": {
      "name": "python3",
      "display_name": "Python 3"
    }
  },
  "cells": [
    {
      "cell_type": "markdown",
      "metadata": {
        "id": "view-in-github",
        "colab_type": "text"
      },
      "source": [
        "<a href=\"https://colab.research.google.com/github/park-geun-hyeong/RNN_PRACTICE/blob/main/IMDB.ipynb\" target=\"_parent\"><img src=\"https://colab.research.google.com/assets/colab-badge.svg\" alt=\"Open In Colab\"/></a>"
      ]
    },
    {
      "cell_type": "code",
      "metadata": {
        "id": "IwMbfbHiML_6"
      },
      "source": [
        "import pandas as pd\r\n",
        "import numpy as np\r\n",
        "import matplotlib.pyplot as plt\r\n",
        "import seaborn as sns\r\n",
        "%matplotlib inline\r\n",
        "\r\n",
        "from tensorflow.keras.datasets import imdb"
      ],
      "execution_count": 48,
      "outputs": []
    },
    {
      "cell_type": "code",
      "metadata": {
        "colab": {
          "base_uri": "https://localhost:8080/"
        },
        "id": "R3SoNnkYbBHb",
        "outputId": "901f57e8-07c6-4398-f9bb-3becbbcd6ded"
      },
      "source": [
        "(x_train,y_train),(x_test,y_test)=imdb.load_data()"
      ],
      "execution_count": 49,
      "outputs": [
        {
          "output_type": "stream",
          "text": [
            "<string>:6: VisibleDeprecationWarning: Creating an ndarray from ragged nested sequences (which is a list-or-tuple of lists-or-tuples-or ndarrays with different lengths or shapes) is deprecated. If you meant to do this, you must specify 'dtype=object' when creating the ndarray\n",
            "/usr/local/lib/python3.6/dist-packages/tensorflow/python/keras/datasets/imdb.py:159: VisibleDeprecationWarning: Creating an ndarray from ragged nested sequences (which is a list-or-tuple of lists-or-tuples-or ndarrays with different lengths or shapes) is deprecated. If you meant to do this, you must specify 'dtype=object' when creating the ndarray\n",
            "  x_train, y_train = np.array(xs[:idx]), np.array(labels[:idx])\n",
            "/usr/local/lib/python3.6/dist-packages/tensorflow/python/keras/datasets/imdb.py:160: VisibleDeprecationWarning: Creating an ndarray from ragged nested sequences (which is a list-or-tuple of lists-or-tuples-or ndarrays with different lengths or shapes) is deprecated. If you meant to do this, you must specify 'dtype=object' when creating the ndarray\n",
            "  x_test, y_test = np.array(xs[idx:]), np.array(labels[idx:])\n"
          ],
          "name": "stderr"
        }
      ]
    },
    {
      "cell_type": "code",
      "metadata": {
        "colab": {
          "base_uri": "https://localhost:8080/"
        },
        "id": "_0n8291kbKz0",
        "outputId": "72587837-58dc-4dd2-fa5c-ff5473c3e1f3"
      },
      "source": [
        "print(x_train.shape,y_train.shape,x_test.shape,y_test.shape)"
      ],
      "execution_count": 50,
      "outputs": [
        {
          "output_type": "stream",
          "text": [
            "(25000,) (25000,) (25000,) (25000,)\n"
          ],
          "name": "stdout"
        }
      ]
    },
    {
      "cell_type": "code",
      "metadata": {
        "colab": {
          "base_uri": "https://localhost:8080/",
          "height": 335
        },
        "id": "8rpSieO3bW-l",
        "outputId": "c52fa6d3-5e36-415d-f4cc-55332968e1d7"
      },
      "source": [
        "plt.hist(y_train)"
      ],
      "execution_count": 51,
      "outputs": [
        {
          "output_type": "execute_result",
          "data": {
            "text/plain": [
              "(array([12500.,     0.,     0.,     0.,     0.,     0.,     0.,     0.,\n",
              "            0., 12500.]),\n",
              " array([0. , 0.1, 0.2, 0.3, 0.4, 0.5, 0.6, 0.7, 0.8, 0.9, 1. ]),\n",
              " <a list of 10 Patch objects>)"
            ]
          },
          "metadata": {
            "tags": []
          },
          "execution_count": 51
        },
        {
          "output_type": "display_data",
          "data": {
            "image/png": "[encoded data removed]",
            "text/plain": [
              "<Figure size 432x288 with 1 Axes>"
            ]
          },
          "metadata": {
            "tags": [],
            "needs_background": "light"
          }
        }
      ]
    },
    {
      "cell_type": "code",
      "metadata": {
        "colab": {
          "base_uri": "https://localhost:8080/",
          "height": 355
        },
        "id": "B3CQpxgRbexy",
        "outputId": "1f9b3583-fda7-4c1a-ce46-6e78b47ccdfc"
      },
      "source": [
        "print(max(len(i) for i in x_train))\r\n",
        "sns.distplot([len(i) for i in x_train])"
      ],
      "execution_count": 52,
      "outputs": [
        {
          "output_type": "stream",
          "text": [
            "2494\n"
          ],
          "name": "stdout"
        },
        {
          "output_type": "stream",
          "text": [
            "/usr/local/lib/python3.6/dist-packages/seaborn/distributions.py:2557: FutureWarning: `distplot` is a deprecated function and will be removed in a future version. Please adapt your code to use either `displot` (a figure-level function with similar flexibility) or `histplot` (an axes-level function for histograms).\n",
            "  warnings.warn(msg, FutureWarning)\n"
          ],
          "name": "stderr"
        },
        {
          "output_type": "execute_result",
          "data": {
            "text/plain": [
              "<matplotlib.axes._subplots.AxesSubplot at 0x7fb057da94a8>"
            ]
          },
          "metadata": {
            "tags": []
          },
          "execution_count": 52
        },
        {
          "output_type": "display_data",
          "data": {
            "image/png": "[encoded data removed]",
            "text/plain": [
              "<Figure size 432x288 with 1 Axes>"
            ]
          },
          "metadata": {
            "tags": [],
            "needs_background": "light"
          }
        }
      ]
    },
    {
      "cell_type": "code",
      "metadata": {
        "colab": {
          "base_uri": "https://localhost:8080/"
        },
        "id": "DEDoLoivbzDU",
        "outputId": "e5aa6caa-e37c-4bb6-9700-90a4a91d8af0"
      },
      "source": [
        "len_result= [len(i) for i in x_train]\r\n",
        "\r\n",
        "print(\"max: {}\".format(max(len_result)))\r\n",
        "print(\"mean: {}\".format(np.mean(len_result)))"
      ],
      "execution_count": 53,
      "outputs": [
        {
          "output_type": "stream",
          "text": [
            "max: 2494\n",
            "mean: 238.71364\n"
          ],
          "name": "stdout"
        }
      ]
    },
    {
      "cell_type": "code",
      "metadata": {
        "colab": {
          "base_uri": "https://localhost:8080/"
        },
        "id": "4tvVZjWMcq6b",
        "outputId": "86a6b4e2-3fc7-4673-9b74-f5755a13109a"
      },
      "source": [
        "y_series=pd.Series(y_train)\r\n",
        "y_series.value_counts()"
      ],
      "execution_count": 54,
      "outputs": [
        {
          "output_type": "execute_result",
          "data": {
            "text/plain": [
              "1    12500\n",
              "0    12500\n",
              "dtype: int64"
            ]
          },
          "metadata": {
            "tags": []
          },
          "execution_count": 54
        }
      ]
    },
    {
      "cell_type": "code",
      "metadata": {
        "id": "NaBoD9eudAj_"
      },
      "source": [
        "word_to_index=imdb.get_word_index()\r\n",
        "index_to_word={}\r\n",
        "\r\n",
        "for key, value in word_to_index.items():\r\n",
        "    index_to_word[value+3]=key"
      ],
      "execution_count": 55,
      "outputs": []
    },
    {
      "cell_type": "code",
      "metadata": {
        "colab": {
          "base_uri": "https://localhost:8080/",
          "height": 35
        },
        "id": "fwo_wrPVd4m2",
        "outputId": "a3ec803c-2ab9-440c-977d-a1add69977cf"
      },
      "source": [
        "index_to_word[4]"
      ],
      "execution_count": 56,
      "outputs": [
        {
          "output_type": "execute_result",
          "data": {
            "application/vnd.google.colaboratory.intrinsic+json": {
              "type": "string"
            },
            "text/plain": [
              "'the'"
            ]
          },
          "metadata": {
            "tags": []
          },
          "execution_count": 56
        }
      ]
    },
    {
      "cell_type": "code",
      "metadata": {
        "colab": {
          "base_uri": "https://localhost:8080/"
        },
        "id": "7u6oIpLAeW5x",
        "outputId": "7ddd6d33-a93b-4a52-888d-d556feb7a354"
      },
      "source": [
        "for index, token in enumerate(('<pad>','<sos>','<unk>')):\r\n",
        "    index_to_word[index]=token\r\n",
        "\r\n",
        "print(' '.join([index_to_word[index] for index in x_train[0]]))\r\n"
      ],
      "execution_count": 57,
      "outputs": [
        {
          "output_type": "stream",
          "text": [
            "<sos> this film was just brilliant casting location scenery story direction everyone's really suited the part they played and you could just imagine being there robert redford's is an amazing actor and now the same being director norman's father came from the same scottish island as myself so i loved the fact there was a real connection with this film the witty remarks throughout the film were great it was just brilliant so much that i bought the film as soon as it was released for retail and would recommend it to everyone to watch and the fly fishing was amazing really cried at the end it was so sad and you know what they say if you cry at a film it must have been good and this definitely was also congratulations to the two little boy's that played the part's of norman and paul they were just brilliant children are often left out of the praising list i think because the stars that play them all grown up are such a big profile for the whole film but these children are amazing and should be praised for what they have done don't you think the whole story was so lovely because it was true and was someone's life after all that was shared with us all\n"
          ],
          "name": "stdout"
        }
      ]
    },
    {
      "cell_type": "code",
      "metadata": {
        "id": "xrtbqd0rfCct"
      },
      "source": [
        "import re\r\n",
        "from tensorflow.keras.datasets import imdb\r\n",
        "from tensorflow.keras.layers import Dense, GRU, LSTM, Embedding\r\n",
        "from tensorflow.keras.callbacks import EarlyStopping, ModelCheckpoint\r\n",
        "from tensorflow.keras.models import Sequential\r\n",
        "from tensorflow.keras.preprocessing.sequence import pad_sequences"
      ],
      "execution_count": 58,
      "outputs": []
    },
    {
      "cell_type": "code",
      "metadata": {
        "colab": {
          "base_uri": "https://localhost:8080/"
        },
        "id": "xIZ_aNpafjcj",
        "outputId": "0a6fcedb-bd19-45a4-8b40-e41a83f500f4"
      },
      "source": [
        "vocab_size=10000\r\n",
        "\r\n",
        "(x_train,y_train),(x_test,y_test)=imdb.load_data(num_words= vocab_size)"
      ],
      "execution_count": 59,
      "outputs": [
        {
          "output_type": "stream",
          "text": [
            "<string>:6: VisibleDeprecationWarning: Creating an ndarray from ragged nested sequences (which is a list-or-tuple of lists-or-tuples-or ndarrays with different lengths or shapes) is deprecated. If you meant to do this, you must specify 'dtype=object' when creating the ndarray\n",
            "/usr/local/lib/python3.6/dist-packages/tensorflow/python/keras/datasets/imdb.py:159: VisibleDeprecationWarning: Creating an ndarray from ragged nested sequences (which is a list-or-tuple of lists-or-tuples-or ndarrays with different lengths or shapes) is deprecated. If you meant to do this, you must specify 'dtype=object' when creating the ndarray\n",
            "  x_train, y_train = np.array(xs[:idx]), np.array(labels[:idx])\n",
            "/usr/local/lib/python3.6/dist-packages/tensorflow/python/keras/datasets/imdb.py:160: VisibleDeprecationWarning: Creating an ndarray from ragged nested sequences (which is a list-or-tuple of lists-or-tuples-or ndarrays with different lengths or shapes) is deprecated. If you meant to do this, you must specify 'dtype=object' when creating the ndarray\n",
            "  x_test, y_test = np.array(xs[idx:]), np.array(labels[idx:])\n"
          ],
          "name": "stderr"
        }
      ]
    },
    {
      "cell_type": "code",
      "metadata": {
        "id": "H02vbtjUf4in"
      },
      "source": [
        "max_len=500\r\n",
        "\r\n",
        "x_train_pad = pad_sequences(x_train, maxlen=max_len)\r\n",
        "x_test_pad = pad_sequences(x_test, maxlen=max_len)"
      ],
      "execution_count": 60,
      "outputs": []
    },
    {
      "cell_type": "code",
      "metadata": {
        "colab": {
          "base_uri": "https://localhost:8080/"
        },
        "id": "Cn6nlY7sgG57",
        "outputId": "3ffa3d04-281b-48ee-dbdd-a7d8743f0c91"
      },
      "source": [
        "x_train_pad.shape, x_test_pad.shape"
      ],
      "execution_count": 61,
      "outputs": [
        {
          "output_type": "execute_result",
          "data": {
            "text/plain": [
              "((25000, 500), (25000, 500))"
            ]
          },
          "metadata": {
            "tags": []
          },
          "execution_count": 61
        }
      ]
    },
    {
      "cell_type": "code",
      "metadata": {
        "id": "jcJh959wgKEu"
      },
      "source": [
        "model=Sequential()\r\n",
        "model.add(Embedding(vocab_size, 100))\r\n",
        "model.add(GRU(128))\r\n",
        "model.add(Dense(1,activation='sigmoid'))"
      ],
      "execution_count": 62,
      "outputs": []
    },
    {
      "cell_type": "code",
      "metadata": {
        "id": "sZB3dDxYgbNf"
      },
      "source": [
        "es=EarlyStopping(monitor='val_loss', mode='min', verbose=1, patience=4)\r\n",
        "mc=ModelCheckpoint('GRU_model.h5',monitor='val_acc', mode='max', verbose=1, save_best_only=True )"
      ],
      "execution_count": 68,
      "outputs": []
    },
    {
      "cell_type": "code",
      "metadata": {
        "colab": {
          "base_uri": "https://localhost:8080/"
        },
        "id": "8ka7J-jcgzIZ",
        "outputId": "2c5848c0-8a48-44f8-9e94-8e834fea4473"
      },
      "source": [
        "model.compile(loss='binary_crossentropy', optimizer='adam', metrics=['acc'])\r\n",
        "model.summary()"
      ],
      "execution_count": 64,
      "outputs": [
        {
          "output_type": "stream",
          "text": [
            "Model: \"sequential_1\"\n",
            "_________________________________________________________________\n",
            "Layer (type)                 Output Shape              Param #   \n",
            "=================================================================\n",
            "embedding_1 (Embedding)      (None, None, 100)         1000000   \n",
            "_________________________________________________________________\n",
            "gru_1 (GRU)                  (None, 128)               88320     \n",
            "_________________________________________________________________\n",
            "dense_1 (Dense)              (None, 1)                 129       \n",
            "=================================================================\n",
            "Total params: 1,088,449\n",
            "Trainable params: 1,088,449\n",
            "Non-trainable params: 0\n",
            "_________________________________________________________________\n"
          ],
          "name": "stdout"
        }
      ]
    },
    {
      "cell_type": "code",
      "metadata": {
        "colab": {
          "base_uri": "https://localhost:8080/"
        },
        "id": "kVC9hFv7g7QG",
        "outputId": "a395900f-7dc8-411a-e2de-3915b5230967"
      },
      "source": [
        "history= model.fit(x_train_pad, y_train, epochs=10, batch_size=64, callbacks=[es,mc], validation_data=(x_test_pad,y_test))"
      ],
      "execution_count": 65,
      "outputs": [
        {
          "output_type": "stream",
          "text": [
            "Epoch 1/15\n",
            "391/391 [==============================] - 426s 1s/step - loss: 0.5798 - acc: 0.6806 - val_loss: 0.3542 - val_acc: 0.8478\n",
            "WARNING:tensorflow:Early stopping conditioned on metric `val loss` which is not available. Available metrics are: loss,acc,val_loss,val_acc\n",
            "WARNING:tensorflow:Can save best model only with val acc available, skipping.\n",
            "Epoch 2/15\n",
            "391/391 [==============================] - 423s 1s/step - loss: 0.2776 - acc: 0.8883 - val_loss: 0.3173 - val_acc: 0.8653\n",
            "WARNING:tensorflow:Early stopping conditioned on metric `val loss` which is not available. Available metrics are: loss,acc,val_loss,val_acc\n",
            "WARNING:tensorflow:Can save best model only with val acc available, skipping.\n",
            "Epoch 3/15\n",
            "391/391 [==============================] - 421s 1s/step - loss: 0.1750 - acc: 0.9356 - val_loss: 0.3337 - val_acc: 0.8707\n",
            "WARNING:tensorflow:Early stopping conditioned on metric `val loss` which is not available. Available metrics are: loss,acc,val_loss,val_acc\n",
            "WARNING:tensorflow:Can save best model only with val acc available, skipping.\n",
            "Epoch 4/15\n",
            "391/391 [==============================] - 423s 1s/step - loss: 0.1231 - acc: 0.9570 - val_loss: 0.3499 - val_acc: 0.8731\n",
            "WARNING:tensorflow:Early stopping conditioned on metric `val loss` which is not available. Available metrics are: loss,acc,val_loss,val_acc\n",
            "WARNING:tensorflow:Can save best model only with val acc available, skipping.\n",
            "Epoch 5/15\n",
            "391/391 [==============================] - 422s 1s/step - loss: 0.0754 - acc: 0.9751 - val_loss: 0.3876 - val_acc: 0.8672\n",
            "WARNING:tensorflow:Early stopping conditioned on metric `val loss` which is not available. Available metrics are: loss,acc,val_loss,val_acc\n",
            "WARNING:tensorflow:Can save best model only with val acc available, skipping.\n",
            "Epoch 6/15\n",
            "391/391 [==============================] - 419s 1s/step - loss: 0.0500 - acc: 0.9838 - val_loss: 0.4785 - val_acc: 0.8710\n",
            "WARNING:tensorflow:Early stopping conditioned on metric `val loss` which is not available. Available metrics are: loss,acc,val_loss,val_acc\n",
            "WARNING:tensorflow:Can save best model only with val acc available, skipping.\n",
            "Epoch 7/15\n",
            "391/391 [==============================] - 419s 1s/step - loss: 0.0328 - acc: 0.9900 - val_loss: 0.5134 - val_acc: 0.8569\n",
            "WARNING:tensorflow:Early stopping conditioned on metric `val loss` which is not available. Available metrics are: loss,acc,val_loss,val_acc\n",
            "WARNING:tensorflow:Can save best model only with val acc available, skipping.\n",
            "Epoch 8/15\n",
            "391/391 [==============================] - 421s 1s/step - loss: 0.0298 - acc: 0.9909 - val_loss: 0.6004 - val_acc: 0.8638\n",
            "WARNING:tensorflow:Early stopping conditioned on metric `val loss` which is not available. Available metrics are: loss,acc,val_loss,val_acc\n",
            "WARNING:tensorflow:Can save best model only with val acc available, skipping.\n",
            "Epoch 9/15\n",
            "391/391 [==============================] - 419s 1s/step - loss: 0.0202 - acc: 0.9941 - val_loss: 0.6179 - val_acc: 0.8615\n",
            "WARNING:tensorflow:Early stopping conditioned on metric `val loss` which is not available. Available metrics are: loss,acc,val_loss,val_acc\n",
            "WARNING:tensorflow:Can save best model only with val acc available, skipping.\n",
            "Epoch 10/15\n",
            "391/391 [==============================] - 417s 1s/step - loss: 0.0165 - acc: 0.9955 - val_loss: 0.8113 - val_acc: 0.8645\n",
            "WARNING:tensorflow:Early stopping conditioned on metric `val loss` which is not available. Available metrics are: loss,acc,val_loss,val_acc\n",
            "WARNING:tensorflow:Can save best model only with val acc available, skipping.\n",
            "Epoch 11/15\n",
            "391/391 [==============================] - 414s 1s/step - loss: 0.0073 - acc: 0.9979 - val_loss: 0.8946 - val_acc: 0.8630\n",
            "WARNING:tensorflow:Early stopping conditioned on metric `val loss` which is not available. Available metrics are: loss,acc,val_loss,val_acc\n",
            "WARNING:tensorflow:Can save best model only with val acc available, skipping.\n",
            "Epoch 12/15\n",
            "391/391 [==============================] - 415s 1s/step - loss: 0.0118 - acc: 0.9965 - val_loss: 0.7030 - val_acc: 0.8600\n",
            "WARNING:tensorflow:Early stopping conditioned on metric `val loss` which is not available. Available metrics are: loss,acc,val_loss,val_acc\n",
            "WARNING:tensorflow:Can save best model only with val acc available, skipping.\n",
            "Epoch 13/15\n",
            "391/391 [==============================] - 413s 1s/step - loss: 0.0096 - acc: 0.9975 - val_loss: 0.7731 - val_acc: 0.8640\n",
            "WARNING:tensorflow:Early stopping conditioned on metric `val loss` which is not available. Available metrics are: loss,acc,val_loss,val_acc\n",
            "WARNING:tensorflow:Can save best model only with val acc available, skipping.\n",
            "Epoch 14/15\n",
            "391/391 [==============================] - 412s 1s/step - loss: 0.0088 - acc: 0.9971 - val_loss: 0.9050 - val_acc: 0.8508\n",
            "WARNING:tensorflow:Early stopping conditioned on metric `val loss` which is not available. Available metrics are: loss,acc,val_loss,val_acc\n",
            "WARNING:tensorflow:Can save best model only with val acc available, skipping.\n",
            "Epoch 15/15\n",
            "391/391 [==============================] - 416s 1s/step - loss: 0.0123 - acc: 0.9962 - val_loss: 0.8494 - val_acc: 0.8620\n",
            "WARNING:tensorflow:Early stopping conditioned on metric `val loss` which is not available. Available metrics are: loss,acc,val_loss,val_acc\n",
            "WARNING:tensorflow:Can save best model only with val acc available, skipping.\n"
          ],
          "name": "stdout"
        }
      ]
    },
    {
      "cell_type": "code",
      "metadata": {
        "colab": {
          "base_uri": "https://localhost:8080/"
        },
        "id": "orFZapMrhL_I",
        "outputId": "2c674f86-c896-4357-b2b0-b68c90106193"
      },
      "source": [
        "model.evaluate(x_test_pad,y_test)"
      ],
      "execution_count": 66,
      "outputs": [
        {
          "output_type": "stream",
          "text": [
            "782/782 [==============================] - 82s 104ms/step - loss: 0.8494 - acc: 0.8620\n"
          ],
          "name": "stdout"
        },
        {
          "output_type": "execute_result",
          "data": {
            "text/plain": [
              "[0.8493674397468567, 0.8620399832725525]"
            ]
          },
          "metadata": {
            "tags": []
          },
          "execution_count": 66
        }
      ]
    },
    {
      "cell_type": "code",
      "metadata": {
        "colab": {
          "base_uri": "https://localhost:8080/",
          "height": 265
        },
        "id": "3uRL9yEVAO4K",
        "outputId": "90485fbc-a705-4a22-9dbc-54c0b70885b6"
      },
      "source": [
        "plt.plot(history.history['loss'])\r\n",
        "plt.plot(history.history['val_loss'])\r\n",
        "plt.legend(['train','val'],loc='upper left')\r\n",
        "plt.show()\r\n"
      ],
      "execution_count": 67,
      "outputs": [
        {
          "output_type": "display_data",
          "data": {
            "image/png": "[encoded data removed]",
            "text/plain": [
              "<Figure size 432x288 with 1 Axes>"
            ]
          },
          "metadata": {
            "tags": [],
            "needs_background": "light"
          }
        }
      ]
    },
    {
      "cell_type": "code",
      "metadata": {
        "id": "osKhO9UnAkAR"
      },
      "source": [
        "def sentiment_predict(new_sentence):\r\n",
        "  # 알파벳과 숫자를 제외하고 모두 제거 및 알파벳 소문자화\r\n",
        "    new_sentence = re.sub('[^0-9a-zA-Z ]', '', new_sentence).lower()\r\n",
        "\r\n",
        "  # 정수 인코딩\r\n",
        "    encoded = []\r\n",
        "    for word in new_sentence.split():\r\n",
        "    # 단어 집합의 크기를 10,000으로 제한.\r\n",
        "        try :\r\n",
        "            if word_to_index[word] <= 10000:\r\n",
        "                encoded.append(word_to_index[word]+3)\r\n",
        "            else:\r\n",
        "    # 10,000 이상의 숫자는 <unk> 토큰으로 취급.\r\n",
        "                encoded.append(2)\r\n",
        "    # 단어 집합에 없는 단어는 <unk> 토큰으로 취급.\r\n",
        "        except KeyError:\r\n",
        "             encoded.append(2)\r\n",
        "\r\n",
        "    pad_new = pad_sequences([encoded], maxlen = max_len) \r\n",
        "    score = float(model.predict(pad_new)) \r\n",
        "    if(score > 0.5):\r\n",
        "        print(\"{:.2f}% 확률로 긍정 리뷰입니다.\".format(score * 100))\r\n",
        "    else:\r\n",
        "        print(\"{:.2f}% 확률로 부정 리뷰입니다.\".format((1 - score) * 100))"
      ],
      "execution_count": 76,
      "outputs": []
    },
    {
      "cell_type": "code",
      "metadata": {
        "id": "zKi81nwxCh9f"
      },
      "source": [
        "#IMDB AVATAR영화를 통해서 실제로 리뷰평가 해보기"
      ],
      "execution_count": 93,
      "outputs": []
    },
    {
      "cell_type": "code",
      "metadata": {
        "id": "QulX0Pl9AveG"
      },
      "source": [
        "text='Avatar tells a familiar story but its a story that works so well inside of this movie. The visuals and 3d are still one of the best to date and i totally get why it made so much money.'"
      ],
      "execution_count": 77,
      "outputs": []
    },
    {
      "cell_type": "code",
      "metadata": {
        "colab": {
          "base_uri": "https://localhost:8080/"
        },
        "id": "lL87Yt0VBUTh",
        "outputId": "264d684d-9ed9-41e6-8a41-949794260afe"
      },
      "source": [
        "sentiment_predict(text)"
      ],
      "execution_count": 78,
      "outputs": [
        {
          "output_type": "stream",
          "text": [
            "99.84% 확률로 긍정 리뷰입니다.\n"
          ],
          "name": "stdout"
        }
      ]
    },
    {
      "cell_type": "code",
      "metadata": {
        "id": "_KScYDegBXQ8"
      },
      "source": [
        "text2='I saw AVATAR today. It was a boiling 40 degrees Celsius in Australia. I caught a bus and train to get there. I spent months on a forum before that. Incremental stops included a scriptment, stills, a teaser, a foot, AVATAR day and a full trailer. Now released I have had many reviews to read which have been mostly very positive.'"
      ],
      "execution_count": 83,
      "outputs": []
    },
    {
      "cell_type": "code",
      "metadata": {
        "colab": {
          "base_uri": "https://localhost:8080/"
        },
        "id": "CyBJKzxMBiKm",
        "outputId": "84ce593a-bd9f-41f6-e243-25b05419726c"
      },
      "source": [
        "sentiment_predict(text2)"
      ],
      "execution_count": 84,
      "outputs": [
        {
          "output_type": "stream",
          "text": [
            "100.00% 확률로 긍정 리뷰입니다.\n"
          ],
          "name": "stdout"
        }
      ]
    },
    {
      "cell_type": "code",
      "metadata": {
        "id": "26gFPOlaBjnJ"
      },
      "source": [
        "text3=\"It's been 12 years since we last saw James Cameron's visionary directing on the big screen. He previously graced Our Cinemas with the Likes of The Terminator, Aliens and the rather popular titanic. The latter went on to gross more than 1.8 billion dollars worldwide and bag 11 Oscar's. Now he's back with another epic, Avatar. It's been 12 years in the making, now it is being realised in glorious 3-D.\""
      ],
      "execution_count": 89,
      "outputs": []
    },
    {
      "cell_type": "code",
      "metadata": {
        "colab": {
          "base_uri": "https://localhost:8080/"
        },
        "id": "H6iIA2FkCAZ7",
        "outputId": "77e59142-8008-45f3-f36c-98863cca7e28"
      },
      "source": [
        "sentiment_predict(text3)"
      ],
      "execution_count": 90,
      "outputs": [
        {
          "output_type": "stream",
          "text": [
            "84.52% 확률로 긍정 리뷰입니다.\n"
          ],
          "name": "stdout"
        }
      ]
    },
    {
      "cell_type": "code",
      "metadata": {
        "id": "F49KMlFdCUXj"
      },
      "source": [
        "t4=\"I had high expectations going into Avatar. Now I admit, it's probably stupid to go into any movie with expectations that are too high, lest they be crushed. However, even without high expectations, Avatar impresses only on a technical level, and on that level only. The story is very predictable, and as I watched this movie I was overcome with a feeling as if I had seen this all before in something in a made for TV movie on SyFy. This is pretty bad considering this is the same guy who made The Abyss and Terminator. I can only say that if you go see this movie, expect beautiful visuals... and a standard humdrum story that you've seen before if you follow any number of science fiction TV shows or just sci-fi in general. Oh, and if this is the 22nd century, why are they still using manually propelled wheelchairs?\""
      ],
      "execution_count": 91,
      "outputs": []
    },
    {
      "cell_type": "code",
      "metadata": {
        "colab": {
          "base_uri": "https://localhost:8080/"
        },
        "id": "DbCU214cCdQg",
        "outputId": "69206280-4229-40e0-aa76-81fde5aa950d"
      },
      "source": [
        "sentiment_predict(t4)"
      ],
      "execution_count": 92,
      "outputs": [
        {
          "output_type": "stream",
          "text": [
            "100.00% 확률로 부정 리뷰입니다.\n"
          ],
          "name": "stdout"
        }
      ]
    },
    {
      "cell_type": "code",
      "metadata": {
        "id": "awB-d74yCfg9"
      },
      "source": [
        ""
      ],
      "execution_count": null,
      "outputs": []
    }
  ]
}